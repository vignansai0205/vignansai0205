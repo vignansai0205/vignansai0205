{
  "nbformat": 4,
  "nbformat_minor": 0,
  "metadata": {
    "colab": {
      "provenance": [],
      "include_colab_link": true
    },
    "kernelspec": {
      "name": "python3",
      "display_name": "Python 3"
    },
    "language_info": {
      "name": "python"
    }
  },
  "cells": [
    {
      "cell_type": "markdown",
      "metadata": {
        "id": "view-in-github",
        "colab_type": "text"
      },
      "source": [
        "<a href=\"https://colab.research.google.com/github/vignansai0205/vignansai0205/blob/main/Sentiment_Analysis_of_Restaurants.ipynb\" target=\"_parent\"><img src=\"https://colab.research.google.com/assets/colab-badge.svg\" alt=\"Open In Colab\"/></a>"
      ]
    },
    {
      "cell_type": "markdown",
      "source": [
        "# **Connecting Drive**\n",
        "\n",
        "---\n",
        "\n"
      ],
      "metadata": {
        "id": "-RFgu8R-ZwKF"
      }
    },
    {
      "cell_type": "code",
      "source": [
        "from google.colab import drive\n",
        "drive.mount(\"/content/drive/\")"
      ],
      "metadata": {
        "colab": {
          "base_uri": "https://localhost:8080/"
        },
        "id": "7YWks-qszIPr",
        "outputId": "f42c3e4e-0e0a-4e38-8acc-65356ac2db57"
      },
      "execution_count": null,
      "outputs": [
        {
          "output_type": "stream",
          "name": "stdout",
          "text": [
            "Drive already mounted at /content/drive/; to attempt to forcibly remount, call drive.mount(\"/content/drive/\", force_remount=True).\n"
          ]
        }
      ]
    },
    {
      "cell_type": "markdown",
      "source": [
        "# **Importing Important Libraries**\n",
        "\n",
        "---\n",
        "\n"
      ],
      "metadata": {
        "id": "PQq5JvjGaF8q"
      }
    },
    {
      "cell_type": "code",
      "source": [
        "import numpy as np\n",
        "import pandas as pd\n",
        "import warnings\n",
        "warnings.filterwarnings('ignore')"
      ],
      "metadata": {
        "id": "1BxgbUJ6zDnl"
      },
      "execution_count": null,
      "outputs": []
    },
    {
      "cell_type": "code",
      "source": [
        "data = pd.read_csv(\"/content/drive/MyDrive/Restaurant Sentiment Analysis/Restaurant_Reviews.tsv\",delimiter=\"\\t\",quoting=3)\n",
        "data.head(10)"
      ],
      "metadata": {
        "id": "NOpxiIAb0Fs5",
        "colab": {
          "base_uri": "https://localhost:8080/"
        },
        "outputId": "21f46976-7e12-46a2-e2f2-4410ff634af8"
      },
      "execution_count": null,
      "outputs": [
        {
          "output_type": "execute_result",
          "data": {
            "text/plain": [
              "                                              Review  Liked\n",
              "0                           Wow... Loved this place.      1\n",
              "1                                 Crust is not good.      0\n",
              "2          Not tasty and the texture was just nasty.      0\n",
              "3  Stopped by during the late May bank holiday of...      1\n",
              "4  The selection on the menu was great and so wer...      1\n",
              "5     Now I am getting angry and I want my damn pho.      0\n",
              "6              Honeslty it didn't taste THAT fresh.)      0\n",
              "7  The potatoes were like rubber and you could te...      0\n",
              "8                          The fries were great too.      1\n",
              "9                                     A great touch.      1"
            ],
            "text/html": [
              "\n",
              "  <div id=\"df-21c9bdb6-3ae2-4475-b056-8403c6ef903a\" class=\"colab-df-container\">\n",
              "    <div>\n",
              "<style scoped>\n",
              "    .dataframe tbody tr th:only-of-type {\n",
              "        vertical-align: middle;\n",
              "    }\n",
              "\n",
              "    .dataframe tbody tr th {\n",
              "        vertical-align: top;\n",
              "    }\n",
              "\n",
              "    .dataframe thead th {\n",
              "        text-align: right;\n",
              "    }\n",
              "</style>\n",
              "<table border=\"1\" class=\"dataframe\">\n",
              "  <thead>\n",
              "    <tr style=\"text-align: right;\">\n",
              "      <th></th>\n",
              "      <th>Review</th>\n",
              "      <th>Liked</th>\n",
              "    </tr>\n",
              "  </thead>\n",
              "  <tbody>\n",
              "    <tr>\n",
              "      <th>0</th>\n",
              "      <td>Wow... Loved this place.</td>\n",
              "      <td>1</td>\n",
              "    </tr>\n",
              "    <tr>\n",
              "      <th>1</th>\n",
              "      <td>Crust is not good.</td>\n",
              "      <td>0</td>\n",
              "    </tr>\n",
              "    <tr>\n",
              "      <th>2</th>\n",
              "      <td>Not tasty and the texture was just nasty.</td>\n",
              "      <td>0</td>\n",
              "    </tr>\n",
              "    <tr>\n",
              "      <th>3</th>\n",
              "      <td>Stopped by during the late May bank holiday of...</td>\n",
              "      <td>1</td>\n",
              "    </tr>\n",
              "    <tr>\n",
              "      <th>4</th>\n",
              "      <td>The selection on the menu was great and so wer...</td>\n",
              "      <td>1</td>\n",
              "    </tr>\n",
              "    <tr>\n",
              "      <th>5</th>\n",
              "      <td>Now I am getting angry and I want my damn pho.</td>\n",
              "      <td>0</td>\n",
              "    </tr>\n",
              "    <tr>\n",
              "      <th>6</th>\n",
              "      <td>Honeslty it didn't taste THAT fresh.)</td>\n",
              "      <td>0</td>\n",
              "    </tr>\n",
              "    <tr>\n",
              "      <th>7</th>\n",
              "      <td>The potatoes were like rubber and you could te...</td>\n",
              "      <td>0</td>\n",
              "    </tr>\n",
              "    <tr>\n",
              "      <th>8</th>\n",
              "      <td>The fries were great too.</td>\n",
              "      <td>1</td>\n",
              "    </tr>\n",
              "    <tr>\n",
              "      <th>9</th>\n",
              "      <td>A great touch.</td>\n",
              "      <td>1</td>\n",
              "    </tr>\n",
              "  </tbody>\n",
              "</table>\n",
              "</div>\n",
              "    <div class=\"colab-df-buttons\">\n",
              "\n",
              "  <div class=\"colab-df-container\">\n",
              "    <button class=\"colab-df-convert\" onclick=\"convertToInteractive('df-21c9bdb6-3ae2-4475-b056-8403c6ef903a')\"\n",
              "            title=\"Convert this dataframe to an interactive table.\"\n",
              "            style=\"display:none;\">\n",
              "\n",
              "  <svg xmlns=\"http://www.w3.org/2000/svg\" height=\"24px\" viewBox=\"0 -960 960 960\">\n",
              "    <path d=\"M120-120v-720h720v720H120Zm60-500h600v-160H180v160Zm220 220h160v-160H400v160Zm0 220h160v-160H400v160ZM180-400h160v-160H180v160Zm440 0h160v-160H620v160ZM180-180h160v-160H180v160Zm440 0h160v-160H620v160Z\"/>\n",
              "  </svg>\n",
              "    </button>\n",
              "\n",
              "  <style>\n",
              "    .colab-df-container {\n",
              "      display:flex;\n",
              "      gap: 12px;\n",
              "    }\n",
              "\n",
              "    .colab-df-convert {\n",
              "      background-color: #E8F0FE;\n",
              "      border: none;\n",
              "      border-radius: 50%;\n",
              "      cursor: pointer;\n",
              "      display: none;\n",
              "      fill: #1967D2;\n",
              "      height: 32px;\n",
              "      padding: 0 0 0 0;\n",
              "      width: 32px;\n",
              "    }\n",
              "\n",
              "    .colab-df-convert:hover {\n",
              "      background-color: #E2EBFA;\n",
              "      box-shadow: 0px 1px 2px rgba(60, 64, 67, 0.3), 0px 1px 3px 1px rgba(60, 64, 67, 0.15);\n",
              "      fill: #174EA6;\n",
              "    }\n",
              "\n",
              "    .colab-df-buttons div {\n",
              "      margin-bottom: 4px;\n",
              "    }\n",
              "\n",
              "    [theme=dark] .colab-df-convert {\n",
              "      background-color: #3B4455;\n",
              "      fill: #D2E3FC;\n",
              "    }\n",
              "\n",
              "    [theme=dark] .colab-df-convert:hover {\n",
              "      background-color: #434B5C;\n",
              "      box-shadow: 0px 1px 3px 1px rgba(0, 0, 0, 0.15);\n",
              "      filter: drop-shadow(0px 1px 2px rgba(0, 0, 0, 0.3));\n",
              "      fill: #FFFFFF;\n",
              "    }\n",
              "  </style>\n",
              "\n",
              "    <script>\n",
              "      const buttonEl =\n",
              "        document.querySelector('#df-21c9bdb6-3ae2-4475-b056-8403c6ef903a button.colab-df-convert');\n",
              "      buttonEl.style.display =\n",
              "        google.colab.kernel.accessAllowed ? 'block' : 'none';\n",
              "\n",
              "      async function convertToInteractive(key) {\n",
              "        const element = document.querySelector('#df-21c9bdb6-3ae2-4475-b056-8403c6ef903a');\n",
              "        const dataTable =\n",
              "          await google.colab.kernel.invokeFunction('convertToInteractive',\n",
              "                                                    [key], {});\n",
              "        if (!dataTable) return;\n",
              "\n",
              "        const docLinkHtml = 'Like what you see? Visit the ' +\n",
              "          '<a target=\"_blank\" href=https://colab.research.google.com/notebooks/data_table.ipynb>data table notebook</a>'\n",
              "          + ' to learn more about interactive tables.';\n",
              "        element.innerHTML = '';\n",
              "        dataTable['output_type'] = 'display_data';\n",
              "        await google.colab.output.renderOutput(dataTable, element);\n",
              "        const docLink = document.createElement('div');\n",
              "        docLink.innerHTML = docLinkHtml;\n",
              "        element.appendChild(docLink);\n",
              "      }\n",
              "    </script>\n",
              "  </div>\n",
              "\n",
              "\n",
              "<div id=\"df-73eebb43-e65e-4825-bdbe-6756b2de6987\">\n",
              "  <button class=\"colab-df-quickchart\" onclick=\"quickchart('df-73eebb43-e65e-4825-bdbe-6756b2de6987')\"\n",
              "            title=\"Suggest charts.\"\n",
              "            style=\"display:none;\">\n",
              "\n",
              "<svg xmlns=\"http://www.w3.org/2000/svg\" height=\"24px\"viewBox=\"0 0 24 24\"\n",
              "     width=\"24px\">\n",
              "    <g>\n",
              "        <path d=\"M19 3H5c-1.1 0-2 .9-2 2v14c0 1.1.9 2 2 2h14c1.1 0 2-.9 2-2V5c0-1.1-.9-2-2-2zM9 17H7v-7h2v7zm4 0h-2V7h2v10zm4 0h-2v-4h2v4z\"/>\n",
              "    </g>\n",
              "</svg>\n",
              "  </button>\n",
              "\n",
              "<style>\n",
              "  .colab-df-quickchart {\n",
              "      --bg-color: #E8F0FE;\n",
              "      --fill-color: #1967D2;\n",
              "      --hover-bg-color: #E2EBFA;\n",
              "      --hover-fill-color: #174EA6;\n",
              "      --disabled-fill-color: #AAA;\n",
              "      --disabled-bg-color: #DDD;\n",
              "  }\n",
              "\n",
              "  [theme=dark] .colab-df-quickchart {\n",
              "      --bg-color: #3B4455;\n",
              "      --fill-color: #D2E3FC;\n",
              "      --hover-bg-color: #434B5C;\n",
              "      --hover-fill-color: #FFFFFF;\n",
              "      --disabled-bg-color: #3B4455;\n",
              "      --disabled-fill-color: #666;\n",
              "  }\n",
              "\n",
              "  .colab-df-quickchart {\n",
              "    background-color: var(--bg-color);\n",
              "    border: none;\n",
              "    border-radius: 50%;\n",
              "    cursor: pointer;\n",
              "    display: none;\n",
              "    fill: var(--fill-color);\n",
              "    height: 32px;\n",
              "    padding: 0;\n",
              "    width: 32px;\n",
              "  }\n",
              "\n",
              "  .colab-df-quickchart:hover {\n",
              "    background-color: var(--hover-bg-color);\n",
              "    box-shadow: 0 1px 2px rgba(60, 64, 67, 0.3), 0 1px 3px 1px rgba(60, 64, 67, 0.15);\n",
              "    fill: var(--button-hover-fill-color);\n",
              "  }\n",
              "\n",
              "  .colab-df-quickchart-complete:disabled,\n",
              "  .colab-df-quickchart-complete:disabled:hover {\n",
              "    background-color: var(--disabled-bg-color);\n",
              "    fill: var(--disabled-fill-color);\n",
              "    box-shadow: none;\n",
              "  }\n",
              "\n",
              "  .colab-df-spinner {\n",
              "    border: 2px solid var(--fill-color);\n",
              "    border-color: transparent;\n",
              "    border-bottom-color: var(--fill-color);\n",
              "    animation:\n",
              "      spin 1s steps(1) infinite;\n",
              "  }\n",
              "\n",
              "  @keyframes spin {\n",
              "    0% {\n",
              "      border-color: transparent;\n",
              "      border-bottom-color: var(--fill-color);\n",
              "      border-left-color: var(--fill-color);\n",
              "    }\n",
              "    20% {\n",
              "      border-color: transparent;\n",
              "      border-left-color: var(--fill-color);\n",
              "      border-top-color: var(--fill-color);\n",
              "    }\n",
              "    30% {\n",
              "      border-color: transparent;\n",
              "      border-left-color: var(--fill-color);\n",
              "      border-top-color: var(--fill-color);\n",
              "      border-right-color: var(--fill-color);\n",
              "    }\n",
              "    40% {\n",
              "      border-color: transparent;\n",
              "      border-right-color: var(--fill-color);\n",
              "      border-top-color: var(--fill-color);\n",
              "    }\n",
              "    60% {\n",
              "      border-color: transparent;\n",
              "      border-right-color: var(--fill-color);\n",
              "    }\n",
              "    80% {\n",
              "      border-color: transparent;\n",
              "      border-right-color: var(--fill-color);\n",
              "      border-bottom-color: var(--fill-color);\n",
              "    }\n",
              "    90% {\n",
              "      border-color: transparent;\n",
              "      border-bottom-color: var(--fill-color);\n",
              "    }\n",
              "  }\n",
              "</style>\n",
              "\n",
              "  <script>\n",
              "    async function quickchart(key) {\n",
              "      const quickchartButtonEl =\n",
              "        document.querySelector('#' + key + ' button');\n",
              "      quickchartButtonEl.disabled = true;  // To prevent multiple clicks.\n",
              "      quickchartButtonEl.classList.add('colab-df-spinner');\n",
              "      try {\n",
              "        const charts = await google.colab.kernel.invokeFunction(\n",
              "            'suggestCharts', [key], {});\n",
              "      } catch (error) {\n",
              "        console.error('Error during call to suggestCharts:', error);\n",
              "      }\n",
              "      quickchartButtonEl.classList.remove('colab-df-spinner');\n",
              "      quickchartButtonEl.classList.add('colab-df-quickchart-complete');\n",
              "    }\n",
              "    (() => {\n",
              "      let quickchartButtonEl =\n",
              "        document.querySelector('#df-73eebb43-e65e-4825-bdbe-6756b2de6987 button');\n",
              "      quickchartButtonEl.style.display =\n",
              "        google.colab.kernel.accessAllowed ? 'block' : 'none';\n",
              "    })();\n",
              "  </script>\n",
              "</div>\n",
              "    </div>\n",
              "  </div>\n"
            ]
          },
          "metadata": {},
          "execution_count": 180
        }
      ]
    },
    {
      "cell_type": "markdown",
      "source": [
        "# **Data Wrangling**\n",
        "\n",
        "\n",
        "---\n",
        "\n",
        "\n",
        "<ul>\n",
        "<li>Cleaning only the alphabetical data.</li>\n",
        "<li>Making all data lowercase.</li>\n",
        "<li>Removing Stopwords.</li>\n",
        "</ul>\n",
        "\n",
        "---"
      ],
      "metadata": {
        "id": "Q6GJNU23abM3"
      }
    },
    {
      "cell_type": "code",
      "source": [
        "import nltk\n",
        "import re\n",
        "nltk.download('stopwords')\n",
        "from nltk.corpus import stopwords\n",
        "from nltk.stem.porter import PorterStemmer as ps"
      ],
      "metadata": {
        "colab": {
          "base_uri": "https://localhost:8080/"
        },
        "id": "F6Qu6dr12li6",
        "outputId": "5f47ff5b-8acd-494b-e55d-711742aa8080"
      },
      "execution_count": null,
      "outputs": [
        {
          "output_type": "stream",
          "name": "stderr",
          "text": [
            "[nltk_data] Downloading package stopwords to /root/nltk_data...\n",
            "[nltk_data]   Package stopwords is already up-to-date!\n"
          ]
        }
      ]
    },
    {
      "cell_type": "code",
      "source": [
        "corpus = []\n",
        "\n",
        "for i in range(0,1000):\n",
        "\n",
        "  review = re.sub(pattern='[^a-zA-Z]',repl=' ',string=data['Review'][i])\n",
        "  review = review.lower()\n",
        "  review_words = review.split()\n",
        "  review_words = [ word for word in review_words if not word in set(stopwords.words('english'))]\n",
        "  review = [ps().stem(word) for word in review_words]\n",
        "  review = ' '.join(review)\n",
        "  corpus.append(review)\n",
        "\n",
        "corpus[:1000]"
      ],
      "metadata": {
        "colab": {
          "base_uri": "https://localhost:8080/"
        },
        "id": "dAaznASw3-s-",
        "outputId": "6e3f1b35-4449-4c98-e349-2c2e2ec35c95"
      },
      "execution_count": null,
      "outputs": [
        {
          "output_type": "execute_result",
          "data": {
            "text/plain": [
              "['wow love place',\n",
              " 'crust good',\n",
              " 'tasti textur nasti',\n",
              " 'stop late may bank holiday rick steve recommend love',\n",
              " 'select menu great price',\n",
              " 'get angri want damn pho',\n",
              " 'honeslti tast fresh',\n",
              " 'potato like rubber could tell made ahead time kept warmer',\n",
              " 'fri great',\n",
              " 'great touch',\n",
              " 'servic prompt',\n",
              " 'would go back',\n",
              " 'cashier care ever say still end wayyy overpr',\n",
              " 'tri cape cod ravoli chicken cranberri mmmm',\n",
              " 'disgust pretti sure human hair',\n",
              " 'shock sign indic cash',\n",
              " 'highli recommend',\n",
              " 'waitress littl slow servic',\n",
              " 'place worth time let alon vega',\n",
              " 'like',\n",
              " 'burritto blah',\n",
              " 'food amaz',\n",
              " 'servic also cute',\n",
              " 'could care less interior beauti',\n",
              " 'perform',\n",
              " 'right red velvet cake ohhh stuff good',\n",
              " 'never brought salad ask',\n",
              " 'hole wall great mexican street taco friendli staff',\n",
              " 'took hour get food tabl restaur food luke warm sever run around like total overwhelm',\n",
              " 'worst salmon sashimi',\n",
              " 'also combo like burger fri beer decent deal',\n",
              " 'like final blow',\n",
              " 'found place accid could happier',\n",
              " 'seem like good quick place grab bite familiar pub food favor look elsewher',\n",
              " 'overal like place lot',\n",
              " 'redeem qualiti restaur inexpens',\n",
              " 'ampl portion good price',\n",
              " 'poor servic waiter made feel like stupid everi time came tabl',\n",
              " 'first visit hiro delight',\n",
              " 'servic suck',\n",
              " 'shrimp tender moist',\n",
              " 'deal good enough would drag establish',\n",
              " 'hard judg whether side good gross melt styrofoam want eat fear get sick',\n",
              " 'posit note server attent provid great servic',\n",
              " 'frozen puck disgust worst peopl behind regist',\n",
              " 'thing like prime rib dessert section',\n",
              " 'bad food damn gener',\n",
              " 'burger good beef cook right',\n",
              " 'want sandwich go firehous',\n",
              " 'side greek salad greek dress tasti pita hummu refresh',\n",
              " 'order duck rare pink tender insid nice char outsid',\n",
              " 'came run us realiz husband left sunglass tabl',\n",
              " 'chow mein good',\n",
              " 'horribl attitud toward custom talk one custom enjoy food',\n",
              " 'portion huge',\n",
              " 'love friendli server great food wonder imagin menu',\n",
              " 'heart attack grill downtown vega absolut flat line excus restaur',\n",
              " 'much seafood like string pasta bottom',\n",
              " 'salad right amount sauc power scallop perfectli cook',\n",
              " 'rip banana rip petrifi tasteless',\n",
              " 'least think refil water struggl wave minut',\n",
              " 'place receiv star appet',\n",
              " 'cocktail handmad delici',\n",
              " 'definit go back',\n",
              " 'glad found place',\n",
              " 'great food servic huge portion give militari discount',\n",
              " 'alway great time do gringo',\n",
              " 'updat went back second time still amaz',\n",
              " 'got food appar never heard salt batter fish chewi',\n",
              " 'great way finish great',\n",
              " 'deal includ tast drink jeff went beyond expect',\n",
              " 'realli realli good rice time',\n",
              " 'servic meh',\n",
              " 'took min get milkshak noth chocol milk',\n",
              " 'guess known place would suck insid excalibur use common sens',\n",
              " 'scallop dish quit appal valu well',\n",
              " 'time bad custom servic',\n",
              " 'sweet potato fri good season well',\n",
              " 'today second time lunch buffet pretti good',\n",
              " 'much good food vega feel cheat wast eat opportun go rice compani',\n",
              " 'come like experienc underwhelm relationship parti wait person ask break',\n",
              " 'walk place smell like old greas trap other eat',\n",
              " 'turkey roast beef bland',\n",
              " 'place',\n",
              " 'pan cake everyon rave tast like sugari disast tailor palat six year old',\n",
              " 'love pho spring roll oh yummi tri',\n",
              " 'poor batter meat ratio made chicken tender unsatisfi',\n",
              " 'say food amaz',\n",
              " 'omelet die',\n",
              " 'everyth fresh delici',\n",
              " 'summari larg disappoint dine experi',\n",
              " 'like realli sexi parti mouth outrag flirt hottest person parti',\n",
              " 'never hard rock casino never ever step forward',\n",
              " 'best breakfast buffet',\n",
              " 'say bye bye tip ladi',\n",
              " 'never go',\n",
              " 'back',\n",
              " 'food arriv quickli',\n",
              " 'good',\n",
              " 'side cafe serv realli good food',\n",
              " 'server fantast found wife love roast garlic bone marrow ad extra meal anoth marrow go',\n",
              " 'good thing waiter help kept bloddi mari come',\n",
              " 'best buffet town price cannot beat',\n",
              " 'love mussel cook wine reduct duck tender potato dish delici',\n",
              " 'one better buffet',\n",
              " 'went tigerlilli fantast afternoon',\n",
              " 'food delici bartend attent person got great deal',\n",
              " 'ambienc wonder music play',\n",
              " 'go back next trip',\n",
              " 'sooooo good',\n",
              " 'real sushi lover let honest yama good',\n",
              " 'least min pass us order food arriv busi',\n",
              " 'realli fantast thai restaur definit worth visit',\n",
              " 'nice spici tender',\n",
              " 'good price',\n",
              " 'check',\n",
              " 'pretti gross',\n",
              " 'better atmospher',\n",
              " 'kind hard mess steak',\n",
              " 'although much like look sound place actual experi bit disappoint',\n",
              " 'know place manag serv blandest food ever eaten prepar indian cuisin',\n",
              " 'worst servic boot least worri',\n",
              " 'servic fine waitress friendli',\n",
              " 'guy steak steak love son steak best worst place said best steak ever eaten',\n",
              " 'thought ventur away get good sushi place realli hit spot night',\n",
              " 'host staff lack better word bitch',\n",
              " 'bland like place number reason want wast time bad review leav',\n",
              " 'phenomen food servic ambianc',\n",
              " 'return',\n",
              " 'definit worth ventur strip pork belli return next time vega',\n",
              " 'place way overpr mediocr food',\n",
              " 'penn vodka excel',\n",
              " 'good select food includ massiv meatloaf sandwich crispi chicken wrap delish tuna melt tasti burger',\n",
              " 'manag rude',\n",
              " 'delici nyc bagel good select cream chees real lox caper even',\n",
              " 'great subway fact good come everi subway meet expect',\n",
              " 'serious solid breakfast',\n",
              " 'one best bar food vega',\n",
              " 'extrem rude realli mani restaur would love dine weekend vega',\n",
              " 'drink never empti made realli great menu suggest',\n",
              " '',\n",
              " 'waiter help friendli rare check us',\n",
              " 'husband ate lunch disappoint food servic',\n",
              " 'red curri much bamboo shoot tasti',\n",
              " 'nice blanket moz top feel like done cover subpar food',\n",
              " 'bathroom clean place well decor',\n",
              " 'menu alway chang food qualiti go servic extrem slow',\n",
              " 'servic littl slow consid serv peopl server food come slow pace',\n",
              " 'give thumb',\n",
              " 'watch waiter pay lot attent tabl ignor us',\n",
              " 'fianc came middl day greet seat right away',\n",
              " 'great restaur mandalay bay',\n",
              " 'wait forti five minut vain',\n",
              " 'crostini came salad stale',\n",
              " 'highlight great qualiti nigiri',\n",
              " 'staff friendli joint alway clean',\n",
              " 'differ cut piec day still wonder tender well well flavor',\n",
              " 'order voodoo pasta first time realli excel pasta sinc go gluten free sever year ago',\n",
              " 'place good',\n",
              " 'unfortun must hit bakeri leftov day everyth order stale',\n",
              " 'came back today sinc reloc still impress',\n",
              " 'seat immedi',\n",
              " 'menu divers reason price',\n",
              " 'avoid cost',\n",
              " 'restaur alway full never wait',\n",
              " 'delici',\n",
              " 'place hand one best place eat phoenix metro area',\n",
              " 'go look good food',\n",
              " 'never treat bad',\n",
              " 'bacon hella salti',\n",
              " 'also order spinach avocado salad ingredi sad dress liter zero tast',\n",
              " 'realli vega fine dine use right menu hand ladi price list',\n",
              " 'waitress friendli',\n",
              " 'lordi khao soi dish miss curri lover',\n",
              " 'everyth menu terrif also thrill made amaz accommod vegetarian daughter',\n",
              " 'perhap caught night judg review inspir go back',\n",
              " 'servic leav lot desir',\n",
              " 'atmospher modern hip maintain touch cozi',\n",
              " 'weekli haunt definit place come back everi',\n",
              " 'liter sat minut one ask take order',\n",
              " 'burger absolut flavor meat total bland burger overcook charcoal flavor',\n",
              " 'also decid send back waitress look like verg heart attack',\n",
              " 'dress treat rude',\n",
              " 'probabl dirt',\n",
              " 'love place hit spot want someth healthi lack quantiti flavor',\n",
              " 'order lemon raspberri ice cocktail also incred',\n",
              " 'food suck expect suck could imagin',\n",
              " 'interest decor',\n",
              " 'realli like crepe station',\n",
              " 'also serv hot bread butter home made potato chip bacon bit top origin good',\n",
              " 'watch prepar delici food',\n",
              " 'egg roll fantast',\n",
              " 'order arriv one gyro miss',\n",
              " 'salad wing ice cream dessert left feel quit satisfi',\n",
              " 'realli sure joey vote best hot dog valley reader phoenix magazin',\n",
              " 'best place go tasti bowl pho',\n",
              " 'live music friday total blow',\n",
              " 'never insult felt disrespect',\n",
              " 'friendli staff',\n",
              " 'worth drive',\n",
              " 'heard good thing place exceed everi hope could dream',\n",
              " 'food great serivc',\n",
              " 'warm beer help',\n",
              " 'great brunch spot',\n",
              " 'servic friendli invit',\n",
              " 'good lunch spot',\n",
              " 'live sinc first last time step foot place',\n",
              " 'worst experi ever',\n",
              " 'must night place',\n",
              " 'side delish mix mushroom yukon gold pure white corn beateou',\n",
              " 'bug never show would given sure side wall bug climb kitchen',\n",
              " 'minut wait salad realiz come time soon',\n",
              " 'friend love salmon tartar',\n",
              " 'go back',\n",
              " 'extrem tasti',\n",
              " 'waitress good though',\n",
              " 'soggi good',\n",
              " 'jamaican mojito delici',\n",
              " 'small worth price',\n",
              " 'food rich order accordingli',\n",
              " 'shower area outsid rins take full shower unless mind nude everyon see',\n",
              " 'servic bit lack',\n",
              " 'lobster bisqu bussel sprout risotto filet need salt pepper cours none tabl',\n",
              " 'hope bode go busi someon cook come',\n",
              " 'either cold enough flavor bad',\n",
              " 'love bacon wrap date',\n",
              " 'unbeliev bargain',\n",
              " 'folk otto alway make us feel welcom special',\n",
              " 'main also uninspir',\n",
              " 'place first pho amaz',\n",
              " 'wonder experi made place must stop whenev town',\n",
              " 'food bad enough enjoy deal world worst annoy drunk peopl',\n",
              " 'fun chef',\n",
              " 'order doubl cheeseburg got singl patti fall apart pictur upload yeah still suck',\n",
              " 'great place coupl drink watch sport event wall cover tv',\n",
              " 'possibl give zero star',\n",
              " 'descript said yum yum sauc anoth said eel sauc yet anoth said spici mayo well none roll sauc',\n",
              " 'say would hardest decis honestli dish tast suppos tast amaz',\n",
              " 'roll eye may stay sure go back tri',\n",
              " 'everyon attent provid excel custom servic',\n",
              " 'horribl wast time money',\n",
              " 'dish quit flavour',\n",
              " 'time side restaur almost empti excus',\n",
              " 'busi either also build freez cold',\n",
              " 'like review said pay eat place',\n",
              " 'drink took close minut come one point',\n",
              " 'serious flavor delight folk',\n",
              " 'much better ayc sushi place went vega',\n",
              " 'light dark enough set mood',\n",
              " 'base sub par servic receiv effort show gratitud busi go back',\n",
              " 'owner realli great peopl',\n",
              " 'noth privileg work eat',\n",
              " 'greek dress creami flavor',\n",
              " 'overal think would take parent place made similar complaint silent felt',\n",
              " 'pizza good peanut sauc tasti',\n",
              " 'tabl servic pretti fast',\n",
              " 'fantast servic',\n",
              " 'well would given godfath zero star possibl',\n",
              " 'know make',\n",
              " 'tough short flavor',\n",
              " 'hope place stick around',\n",
              " 'bar vega ever recal charg tap water',\n",
              " 'restaur atmospher exquisit',\n",
              " 'good servic clean inexpens boot',\n",
              " 'seafood fresh gener portion',\n",
              " 'plu buck',\n",
              " 'servic par either',\n",
              " 'thu far visit twice food absolut delici time',\n",
              " 'good year ago',\n",
              " 'self proclaim coffe cafe wildli disappoint',\n",
              " 'veggitarian platter world',\n",
              " 'cant go wrong food',\n",
              " 'beat',\n",
              " 'stop place madison ironman friendli kind staff',\n",
              " 'chef friendli good job',\n",
              " 'better dedic boba tea spot even jenni pho',\n",
              " 'like patio servic outstand',\n",
              " 'goat taco skimp meat wow flavor',\n",
              " 'think',\n",
              " 'mac salad pretti bland get',\n",
              " 'went bachi burger friend recommend disappoint',\n",
              " 'servic stink',\n",
              " 'wait wait',\n",
              " 'place qualiti sushi qualiti restaur',\n",
              " 'would definit recommend wing well pizza',\n",
              " 'great pizza salad',\n",
              " 'thing went wrong burn saganaki',\n",
              " 'wait hour breakfast could done time better home',\n",
              " 'place amaz',\n",
              " 'hate disagre fellow yelper husband disappoint place',\n",
              " 'wait hour never got either pizza mani around us came later',\n",
              " 'know slow',\n",
              " 'staff great food delish incred beer select',\n",
              " 'live neighborhood disappoint back conveni locat',\n",
              " 'know pull pork could soooo delici',\n",
              " 'get incred fresh fish prepar care',\n",
              " 'go gave star rate pleas know third time eat bachi burger write review',\n",
              " 'love fact everyth menu worth',\n",
              " 'never dine place',\n",
              " 'food excel servic good',\n",
              " 'good beer drink select good food select',\n",
              " 'pleas stay away shrimp stir fri noodl',\n",
              " 'potato chip order sad could probabl count mani chip box probabl around',\n",
              " 'food realli bore',\n",
              " 'good servic check',\n",
              " 'greedi corpor never see anoth dime',\n",
              " 'never ever go back',\n",
              " 'much like go back get pass atroci servic never return',\n",
              " 'summer dine charm outdoor patio delight',\n",
              " 'expect good',\n",
              " 'fantast food',\n",
              " 'order toast english muffin came untoast',\n",
              " 'food good',\n",
              " 'never go back',\n",
              " 'great food price high qualiti hous made',\n",
              " 'bu boy hand rude',\n",
              " 'point friend basic figur place joke mind make publicli loudli known',\n",
              " 'back good bbq lighter fare reason price tell public back old way',\n",
              " 'consid two us left full happi go wrong',\n",
              " 'bread made hous',\n",
              " 'downsid servic',\n",
              " 'also fri without doubt worst fri ever',\n",
              " 'servic except food good review',\n",
              " 'coupl month later return amaz meal',\n",
              " 'favorit place town shawarrrrrrma',\n",
              " 'black eye pea sweet potato unreal',\n",
              " 'disappoint',\n",
              " 'could serv vinaigrett may make better overal dish still good',\n",
              " 'go far mani place never seen restaur serv egg breakfast especi',\n",
              " 'mom got home immedi got sick bite salad',\n",
              " 'server pleasant deal alway honor pizza hut coupon',\n",
              " 'truli unbeliev good glad went back',\n",
              " 'fantast servic pleas atmospher',\n",
              " 'everyth gross',\n",
              " 'love place',\n",
              " 'great servic food',\n",
              " 'first bathroom locat dirti seat cover replenish plain yucki',\n",
              " 'burger got gold standard burger kind disappoint',\n",
              " 'omg food delicioso',\n",
              " 'noth authent place',\n",
              " 'spaghetti noth special whatsoev',\n",
              " 'dish salmon best great',\n",
              " 'veget fresh sauc feel like authent thai',\n",
              " 'worth drive tucson',\n",
              " 'select probabl worst seen vega none',\n",
              " 'pretti good beer select',\n",
              " 'place like chipotl better',\n",
              " 'classi warm atmospher fun fresh appet succul steak basebal steak',\n",
              " 'star brick oven bread app',\n",
              " 'eaten multipl time time food delici',\n",
              " 'sat anoth ten minut final gave left',\n",
              " 'terribl',\n",
              " 'everyon treat equal special',\n",
              " 'take min pancak egg',\n",
              " 'delici',\n",
              " 'good side staff genuin pleasant enthusiast real treat',\n",
              " 'sadli gordon ramsey steak place shall sharpli avoid next trip vega',\n",
              " 'alway even wonder food delici',\n",
              " 'best fish ever life',\n",
              " 'bathroom next door nice',\n",
              " 'buffet small food offer bland',\n",
              " 'outstand littl restaur best food ever tast',\n",
              " 'pretti cool would say',\n",
              " 'definit turn doubt back unless someon els buy',\n",
              " 'server great job handl larg rowdi tabl',\n",
              " 'find wast food despic food',\n",
              " 'wife lobster bisqu soup lukewarm',\n",
              " 'would come back sushi crave vega',\n",
              " 'staff great ambianc great',\n",
              " 'deserv star',\n",
              " 'left stomach ach felt sick rest day',\n",
              " 'drop ball',\n",
              " 'dine space tini elegantli decor comfort',\n",
              " 'custom order way like usual eggplant green bean stir fri love',\n",
              " 'bean rice mediocr best',\n",
              " 'best taco town far',\n",
              " 'took back money got outta',\n",
              " 'interest part town place amaz',\n",
              " 'rude inconsider manag',\n",
              " 'staff friendli wait time serv horribl one even say hi first minut',\n",
              " 'back',\n",
              " 'great dinner',\n",
              " 'servic outshin definit recommend halibut',\n",
              " 'food terribl',\n",
              " 'never ever go back told mani peopl happen',\n",
              " 'recommend unless car break front starv',\n",
              " 'come back everi time vega',\n",
              " 'place deserv one star food',\n",
              " 'disgrac',\n",
              " 'def come back bowl next time',\n",
              " 'want healthi authent ethic food tri place',\n",
              " 'continu come ladi night andddd date night highli recommend place anyon area',\n",
              " 'sever time past experi alway great',\n",
              " 'walk away stuf happi first vega buffet experi',\n",
              " 'servic excel price pretti reason consid vega locat insid crystal shop mall aria',\n",
              " 'summar food incred nay transcend noth bring joy quit like memori pneumat condiment dispens',\n",
              " 'probabl one peopl ever go ian like',\n",
              " 'kid pizza alway hit lot great side dish option kiddo',\n",
              " 'servic perfect famili atmospher nice see',\n",
              " 'cook perfect servic impecc',\n",
              " 'one simpli disappoint',\n",
              " 'overal disappoint qualiti food bouchon',\n",
              " 'account know get screw',\n",
              " 'great place eat remind littl mom pop shop san francisco bay area',\n",
              " 'today first tast buldogi gourmet hot dog tell ever thought possibl',\n",
              " 'left frustrat',\n",
              " 'definit soon',\n",
              " 'food realli good got full petti fast',\n",
              " 'servic fantast',\n",
              " 'total wast time',\n",
              " 'know kind best ice tea',\n",
              " 'come hungri leav happi stuf',\n",
              " 'servic give star',\n",
              " 'assur disappoint',\n",
              " 'take littl bad servic food suck',\n",
              " 'gave tri eat crust teeth still sore',\n",
              " 'complet gross',\n",
              " 'realli enjoy eat',\n",
              " 'first time go think quickli becom regular',\n",
              " 'server nice even though look littl overwhelm need stay profession friendli end',\n",
              " 'dinner companion told everyth fresh nice textur tast',\n",
              " 'ground right next tabl larg smear step track everywher pile green bird poop',\n",
              " 'furthermor even find hour oper websit',\n",
              " 'tri like place time think done',\n",
              " 'mistak',\n",
              " 'complaint',\n",
              " 'serious good pizza expert connisseur topic',\n",
              " 'waiter jerk',\n",
              " 'strike want rush',\n",
              " 'nicest restaur owner ever come across',\n",
              " 'never come',\n",
              " 'love biscuit',\n",
              " 'servic quick friendli',\n",
              " 'order appet took minut pizza anoth minut',\n",
              " 'absolutley fantast',\n",
              " 'huge awkward lb piec cow th gristl fat',\n",
              " 'definit come back',\n",
              " 'like steiner dark feel like bar',\n",
              " 'wow spici delici',\n",
              " 'familiar check',\n",
              " 'take busi dinner dollar elsewher',\n",
              " 'love go back',\n",
              " 'anyway fs restaur wonder breakfast lunch',\n",
              " 'noth special',\n",
              " 'day week differ deal delici',\n",
              " 'mention combin pear almond bacon big winner',\n",
              " 'back',\n",
              " 'sauc tasteless',\n",
              " 'food delici spici enough sure ask spicier prefer way',\n",
              " 'ribey steak cook perfectli great mesquit flavor',\n",
              " 'think go back anytim soon',\n",
              " 'food gooodd',\n",
              " 'far sushi connoisseur definit tell differ good food bad food certainli bad food',\n",
              " 'insult',\n",
              " 'last time lunch bad',\n",
              " 'chicken wing contain driest chicken meat ever eaten',\n",
              " 'food good enjoy everi mouth enjoy relax venu coupl small famili group etc',\n",
              " 'nargil think great',\n",
              " 'best tater tot southwest',\n",
              " 'love place',\n",
              " 'definit worth paid',\n",
              " 'vanilla ice cream creami smooth profiterol choux pastri fresh enough',\n",
              " 'im az time new spot',\n",
              " 'manag worst',\n",
              " 'insid realli quit nice clean',\n",
              " 'food outstand price reason',\n",
              " 'think run back carli anytim soon food',\n",
              " 'due fact took minut acknowledg anoth minut get food kept forget thing',\n",
              " 'love margarita',\n",
              " 'first vega buffet disappoint',\n",
              " 'good though',\n",
              " 'one note ventil could use upgrad',\n",
              " 'great pork sandwich',\n",
              " 'wast time',\n",
              " 'total letdown would much rather go camelback flower shop cartel coffe',\n",
              " 'third chees friend burger cold',\n",
              " 'enjoy pizza brunch',\n",
              " 'steak well trim also perfectli cook',\n",
              " 'group claim would handl us beauti',\n",
              " 'love',\n",
              " 'ask bill leav without eat bring either',\n",
              " 'place jewel la vega exactli hope find nearli ten year live',\n",
              " 'seafood limit boil shrimp crab leg crab leg definit tast fresh',\n",
              " 'select food best',\n",
              " 'delici absolut back',\n",
              " 'small famili restaur fine dine establish',\n",
              " 'toro tartar cavier extraordinari like thinli slice wagyu white truffl',\n",
              " 'dont think back long time',\n",
              " 'attach ga station rare good sign',\n",
              " 'awesom',\n",
              " 'back mani time soon',\n",
              " 'menu much good stuff could decid',\n",
              " 'wors humili worker right front bunch horribl name call',\n",
              " 'conclus fill meal',\n",
              " 'daili special alway hit group',\n",
              " 'tragedi struck',\n",
              " 'pancak also realli good pretti larg',\n",
              " 'first crawfish experi delici',\n",
              " 'monster chicken fri steak egg time favorit',\n",
              " 'waitress sweet funni',\n",
              " 'also tast mom multi grain pumpkin pancak pecan butter amaz fluffi delici',\n",
              " 'rather eat airlin food serious',\n",
              " 'cant say enough good thing place',\n",
              " 'ambianc incred',\n",
              " 'waitress manag friendli',\n",
              " 'would recommend place',\n",
              " 'overal impress noca',\n",
              " 'gyro basic lettuc',\n",
              " 'terribl servic',\n",
              " 'thoroughli disappoint',\n",
              " 'much pasta love homemad hand made pasta thin pizza',\n",
              " 'give tri happi',\n",
              " 'far best cheesecurd ever',\n",
              " 'reason price also',\n",
              " 'everyth perfect night',\n",
              " 'food good typic bar food',\n",
              " 'drive get',\n",
              " 'first glanc love bakeri cafe nice ambianc clean friendli staff',\n",
              " 'anyway think go back',\n",
              " 'point finger item menu order disappoint',\n",
              " 'oh thing beauti restaur',\n",
              " 'gone go',\n",
              " 'greasi unhealthi meal',\n",
              " 'first time might last',\n",
              " 'burger amaz',\n",
              " 'similarli deliveri man say word apolog food minut late',\n",
              " 'way expens',\n",
              " 'sure order dessert even need pack go tiramisu cannoli die',\n",
              " 'first time wait next',\n",
              " 'bartend also nice',\n",
              " 'everyth good tasti',\n",
              " 'place two thumb way',\n",
              " 'best place vega breakfast check sat sun',\n",
              " 'love authent mexican food want whole bunch interest yet delici meat choos need tri place',\n",
              " 'terribl manag',\n",
              " 'excel new restaur experienc frenchman',\n",
              " 'zero star would give zero star',\n",
              " 'great steak great side great wine amaz dessert',\n",
              " 'worst martini ever',\n",
              " 'steak shrimp opinion best entre gc',\n",
              " 'opportun today sampl amaz pizza',\n",
              " 'wait thirti minut seat although vacant tabl folk wait',\n",
              " 'yellowtail carpaccio melt mouth fresh',\n",
              " 'tri go back even empti',\n",
              " 'go eat potato found stranger hair',\n",
              " 'spici enough perfect actual',\n",
              " 'last night second time dine happi decid go back',\n",
              " 'even hello right',\n",
              " 'dessert bit strang',\n",
              " 'boyfriend came first time recent trip vega could pleas qualiti food servic',\n",
              " 'realli recommend place go wrong donut place',\n",
              " 'nice ambianc',\n",
              " 'would recommend save room',\n",
              " 'guess mayb went night disgrac',\n",
              " 'howev recent experi particular locat good',\n",
              " 'know like restaur someth',\n",
              " 'avoid establish',\n",
              " 'think restaur suffer tri hard enough',\n",
              " 'tapa dish delici',\n",
              " 'heart place',\n",
              " 'salad bland vinegrett babi green heart palm',\n",
              " 'two felt disgust',\n",
              " 'good time',\n",
              " 'believ place great stop huge belli hanker sushi',\n",
              " 'gener portion great tast',\n",
              " 'never go back place never ever recommend place anyon',\n",
              " 'server went back forth sever time even much help',\n",
              " 'food delici',\n",
              " 'hour serious',\n",
              " 'consid theft',\n",
              " 'eew locat need complet overhaul',\n",
              " 'recent wit poor qualiti manag toward guest well',\n",
              " 'wait wait wait',\n",
              " 'also came back check us regularli excel servic',\n",
              " 'server super nice check us mani time',\n",
              " 'pizza tast old super chewi good way',\n",
              " 'swung give tri deepli disappoint',\n",
              " 'servic good compani better',\n",
              " 'staff also friendli effici',\n",
              " 'servic fan quick serv nice folk',\n",
              " 'boy sucker dri',\n",
              " 'rate',\n",
              " 'look authent thai food go els',\n",
              " 'steak recommend',\n",
              " 'pull car wait anoth minut acknowledg',\n",
              " 'great food great servic clean friendli set',\n",
              " 'assur back',\n",
              " 'hate thing much cheap qualiti black oliv',\n",
              " 'breakfast perpar great beauti present giant slice toast lightli dust powder sugar',\n",
              " 'kid play area nasti',\n",
              " 'great place fo take eat',\n",
              " 'waitress friendli happi accomod vegan veggi option',\n",
              " 'omg felt like never eaten thai food dish',\n",
              " 'extrem crumbi pretti tasteless',\n",
              " 'pale color instead nice char flavor',\n",
              " 'crouton also tast homemad extra plu',\n",
              " 'got home see driest damn wing ever',\n",
              " 'regular stop trip phoenix',\n",
              " 'realli enjoy crema caf expand even told friend best breakfast',\n",
              " 'good money',\n",
              " 'miss wish one philadelphia',\n",
              " 'got sit fairli fast end wait minut place order anoth minut food arriv',\n",
              " 'also best chees crisp town',\n",
              " 'good valu great food great servic',\n",
              " 'ask satisfi meal',\n",
              " 'food good',\n",
              " 'awesom',\n",
              " 'want leav',\n",
              " 'made drive way north scottsdal one bit disappoint',\n",
              " 'eat',\n",
              " 'owner realli realli need quit soooooo cheap let wrap freak sandwich two paper one',\n",
              " 'check place coupl year ago impress',\n",
              " 'chicken got definit reheat ok wedg cold soggi',\n",
              " 'sorri get food anytim soon',\n",
              " 'absolut must visit',\n",
              " 'cow tongu cheek taco amaz',\n",
              " 'friend like bloodi mari',\n",
              " 'despit hard rate busi actual rare give star',\n",
              " 'realli want make experi good one',\n",
              " 'return',\n",
              " 'chicken pho tast bland',\n",
              " 'disappoint',\n",
              " 'grill chicken tender yellow saffron season',\n",
              " 'drive thru mean want wait around half hour food somehow end go make us wait wait',\n",
              " 'pretti awesom place',\n",
              " 'ambienc perfect',\n",
              " 'best luck rude non custom servic focus new manag',\n",
              " 'grandmoth make roast chicken better one',\n",
              " 'ask multipl time wine list time ignor went hostess got one',\n",
              " 'staff alway super friendli help especi cool bring two small boy babi',\n",
              " 'four star food guy blue shirt great vibe still let us eat',\n",
              " 'roast beef sandwich tast realli good',\n",
              " 'even drastic sick',\n",
              " 'high qualiti chicken chicken caesar salad',\n",
              " 'order burger rare came done',\n",
              " 'promptli greet seat',\n",
              " 'tri go lunch madhous',\n",
              " 'proven dead wrong sushi bar qualiti great servic fast food impecc',\n",
              " 'wait hour seat greatest mood',\n",
              " 'good joint',\n",
              " 'macaron insan good',\n",
              " 'eat',\n",
              " 'waiter attent friendli inform',\n",
              " 'mayb cold would somewhat edibl',\n",
              " 'place lot promis fail deliv',\n",
              " 'bad experi',\n",
              " 'mistak',\n",
              " 'food averag best',\n",
              " 'great food',\n",
              " 'go back anytim soon',\n",
              " 'disappoint order big bay plater',\n",
              " 'great place relax awesom burger beer',\n",
              " 'perfect sit famili meal get togeth friend',\n",
              " 'much flavor poorli construct',\n",
              " 'patio seat comfort',\n",
              " 'fri rice dri well',\n",
              " 'hand favorit italian restaur',\n",
              " 'scream legit book somethat also pretti rare vega',\n",
              " 'fun experi',\n",
              " 'atmospher great love duo violinist play song request',\n",
              " 'person love hummu pita baklava falafel baba ganoush amaz eggplant',\n",
              " 'conveni sinc stay mgm',\n",
              " 'owner super friendli staff courteou',\n",
              " 'great',\n",
              " 'eclect select',\n",
              " 'sweet potato tot good onion ring perfect close',\n",
              " 'staff attent',\n",
              " 'chef gener time even came around twice take pictur',\n",
              " 'owner use work nobu place realli similar half price',\n",
              " 'googl mediocr imagin smashburg pop',\n",
              " 'dont go',\n",
              " 'promis disappoint',\n",
              " 'sushi lover avoid place mean',\n",
              " 'great doubl cheeseburg',\n",
              " 'awesom servic food',\n",
              " 'fantast neighborhood gem',\n",
              " 'wait go back',\n",
              " 'plantain worst ever tast',\n",
              " 'great place highli recommend',\n",
              " 'servic slow attent',\n",
              " 'gave star give star',\n",
              " 'staff spend time talk',\n",
              " 'dessert panna cotta amaz',\n",
              " 'good food great atmospher',\n",
              " 'damn good steak',\n",
              " 'total brunch fail',\n",
              " 'price reason flavor spot sauc home made slaw drench mayo',\n",
              " 'decor nice piano music soundtrack pleasant',\n",
              " 'steak amaz rge fillet relleno best seafood plate ever',\n",
              " 'good food good servic',\n",
              " 'absolut amaz',\n",
              " 'probabl back honest',\n",
              " 'definit back',\n",
              " 'sergeant pepper beef sandwich auju sauc excel sandwich well',\n",
              " 'hawaiian breez mango magic pineappl delight smoothi tri far good',\n",
              " 'went lunch servic slow',\n",
              " 'much say place walk expect amaz quickli disappoint',\n",
              " 'mortifi',\n",
              " 'needless say never back',\n",
              " 'anyway food definit fill price pay expect',\n",
              " 'chip came drip greas mostli edibl',\n",
              " 'realli impress strip steak',\n",
              " 'go sinc everi meal awesom',\n",
              " 'server nice attent serv staff',\n",
              " 'cashier friendli even brought food',\n",
              " 'work hospit industri paradis valley refrain recommend cibo longer',\n",
              " 'atmospher fun',\n",
              " 'would recommend other',\n",
              " 'servic quick even go order like like',\n",
              " 'mean realli get famou fish chip terribl',\n",
              " 'said mouth belli still quit pleas',\n",
              " 'thing',\n",
              " 'thumb',\n",
              " 'read pleas go',\n",
              " 'love grill pizza remind legit italian pizza',\n",
              " 'pro larg seat area nice bar area great simpl drink menu best brick oven pizza homemad dough',\n",
              " 'realli nice atmospher',\n",
              " 'tonight elk filet special suck',\n",
              " 'one bite hook',\n",
              " 'order old classic new dish go time sore disappoint everyth',\n",
              " 'cute quaint simpl honest',\n",
              " 'chicken delici season perfect fri outsid moist chicken insid',\n",
              " 'food great alway compliment chef',\n",
              " 'special thank dylan recommend order yummi tummi',\n",
              " 'awesom select beer',\n",
              " 'great food awesom servic',\n",
              " 'one nice thing ad gratuiti bill sinc parti larger expect tip',\n",
              " 'fli appl juic fli',\n",
              " 'han nan chicken also tasti',\n",
              " 'servic thought good',\n",
              " 'food bare lukewarm must sit wait server bring us',\n",
              " 'ryan bar definit one edinburgh establish revisit',\n",
              " 'nicest chines restaur',\n",
              " 'overal like food servic',\n",
              " 'also serv indian naan bread hummu spici pine nut sauc world',\n",
              " 'probabl never come back recommend',\n",
              " 'friend pasta also bad bare touch',\n",
              " 'tri airport experi tasti food speedi friendli servic',\n",
              " 'love decor chines calligraphi wall paper',\n",
              " 'never anyth complain',\n",
              " 'restaur clean famili restaur feel',\n",
              " 'way fri',\n",
              " 'sure long stood long enough begin feel awkwardli place',\n",
              " 'open sandwich impress good way',\n",
              " 'back',\n",
              " 'warm feel servic felt like guest special treat',\n",
              " 'extens menu provid lot option breakfast',\n",
              " 'alway order vegetarian menu dinner wide array option choos',\n",
              " 'watch price inflat portion get smaller manag attitud grow rapidli',\n",
              " 'wonder lil tapa ambienc made feel warm fuzzi insid',\n",
              " 'got enjoy seafood salad fabul vinegrett',\n",
              " 'wonton thin thick chewi almost melt mouth',\n",
              " 'level spici perfect spice whelm soup',\n",
              " 'sat right time server get go fantast',\n",
              " 'main thing enjoy crowd older crowd around mid',\n",
              " 'side town definit spot hit',\n",
              " 'wait minut get drink longer get arepa',\n",
              " 'great place eat',\n",
              " 'jalapeno bacon soooo good',\n",
              " 'servic poor that nice',\n",
              " 'food good servic good price good',\n",
              " 'place clean food oh stale',\n",
              " 'chicken dish ok beef like shoe leather',\n",
              " 'servic beyond bad',\n",
              " 'happi',\n",
              " 'tast like dirt',\n",
              " 'one place phoenix would defin go back',\n",
              " 'block amaz',\n",
              " 'close hous low key non fanci afford price good food',\n",
              " 'hot sour egg flower soup absolut star',\n",
              " 'sashimi poor qualiti soggi tasteless',\n",
              " 'great time famili dinner sunday night',\n",
              " 'food tasti say real tradit hunan style',\n",
              " 'bother slow servic',\n",
              " 'flair bartend absolut amaz',\n",
              " 'frozen margarita way sugari tast',\n",
              " 'good order twice',\n",
              " 'nutshel restaraunt smell like combin dirti fish market sewer',\n",
              " 'girlfriend veal bad',\n",
              " 'unfortun good',\n",
              " 'pretti satifi experi',\n",
              " 'join club get awesom offer via email',\n",
              " 'perfect someon like beer ice cold case even colder',\n",
              " 'bland flavorless good way describ bare tepid meat',\n",
              " 'chain fan beat place easili',\n",
              " 'nacho must',\n",
              " 'come back',\n",
              " 'mani word say place everyth pretti well',\n",
              " 'staff super nice quick even crazi crowd downtown juri lawyer court staff',\n",
              " 'great atmospher friendli fast servic',\n",
              " 'receiv pita huge lot meat thumb',\n",
              " 'food arriv meh',\n",
              " 'pay hot dog fri look like came kid meal wienerschnitzel idea good meal',\n",
              " 'classic main lobster roll fantast',\n",
              " 'brother law work mall ate day guess sick night',\n",
              " 'good go review place twice herea tribut place tribut event held last night',\n",
              " 'chip salsa realli good salsa fresh',\n",
              " 'place great',\n",
              " 'mediocr food',\n",
              " 'get insid impress place',\n",
              " 'super pissd',\n",
              " 'servic super friendli',\n",
              " 'sad littl veget overcook',\n",
              " 'place nice surpris',\n",
              " 'golden crispi delici',\n",
              " 'high hope place sinc burger cook charcoal grill unfortun tast fell flat way flat',\n",
              " 'could eat bruschetta day devin',\n",
              " 'singl employe came see ok even need water refil final serv us food',\n",
              " 'lastli mozzarella stick best thing order',\n",
              " 'first time ever came amaz experi still tell peopl awesom duck',\n",
              " 'server neglig need made us feel unwelcom would suggest place',\n",
              " 'servic terribl though',\n",
              " 'place overpr consist boba realli overpr',\n",
              " 'pack',\n",
              " 'love place',\n",
              " 'say dessert yummi',\n",
              " 'food terribl',\n",
              " 'season fruit fresh white peach pure',\n",
              " 'kept get wors wors offici done',\n",
              " 'place honestli blown',\n",
              " 'definit would eat',\n",
              " 'wast money',\n",
              " 'love put food nice plastic contain oppos cram littl paper takeout box',\n",
              " 'cr pe delic thin moist',\n",
              " 'aw servic',\n",
              " 'ever go',\n",
              " 'food qualiti horribl',\n",
              " 'price think place would much rather gone',\n",
              " 'servic fair best',\n",
              " 'love sushi found kabuki price hip servic',\n",
              " 'favor stay away dish',\n",
              " 'poor servic',\n",
              " 'one tabl thought food averag worth wait',\n",
              " 'best servic food ever maria server good friendli made day',\n",
              " 'excel',\n",
              " 'paid bill tip felt server terribl job',\n",
              " 'lunch great experi',\n",
              " 'never bland food surpris consid articl read focus much spice flavor',\n",
              " 'food way overpr portion fuck small',\n",
              " 'recent tri caballero back everi week sinc',\n",
              " 'buck head realli expect better food',\n",
              " 'food came good pace',\n",
              " 'ate twice last visit especi enjoy salmon salad',\n",
              " 'back',\n",
              " 'could believ dirti oyster',\n",
              " 'place deserv star',\n",
              " 'would recommend place',\n",
              " 'fact go round star awesom',\n",
              " 'disbelief dish qualifi worst version food ever tast',\n",
              " 'bad day low toler rude custom servic peopl job nice polit wash dish otherwis',\n",
              " 'potato great biscuit',\n",
              " 'probabl would go',\n",
              " 'flavor perfect amount heat',\n",
              " 'price reason servic great',\n",
              " 'wife hate meal coconut shrimp friend realli enjoy meal either',\n",
              " 'fella got huevo ranchero look appeal',\n",
              " 'went happi hour great list wine',\n",
              " 'may say buffet pricey think get pay place get quit lot',\n",
              " 'probabl come back',\n",
              " 'worst food servic',\n",
              " 'place pretti good nice littl vibe restaur',\n",
              " 'talk great custom servic cours back',\n",
              " 'hot dish hot cold dish close room temp watch staff prepar food bare hand glove everyth deep fri oil',\n",
              " 'love fri bean',\n",
              " 'alway pleasur deal',\n",
              " 'plethora salad sandwich everyth tri get seal approv',\n",
              " 'place awesom want someth light healthi summer',\n",
              " 'sushi strip place go',\n",
              " 'servic great even manag came help tabl',\n",
              " 'feel dine room colleg cook cours high class dine servic slow best',\n",
              " 'start review two star edit give one',\n",
              " 'worst sushi ever eat besid costco',\n",
              " 'excel restaur highlight great servic uniqu menu beauti set',\n",
              " 'boyfriend sat bar complet delight experi',\n",
              " 'weird vibe owner',\n",
              " 'hardli meat',\n",
              " 'better bagel groceri store',\n",
              " 'go place gyro',\n",
              " 'love owner chef one authent japanes cool dude',\n",
              " 'burger good pizza use amaz doughi flavorless',\n",
              " 'found six inch long piec wire salsa',\n",
              " 'servic terribl food mediocr',\n",
              " 'defin enjoy',\n",
              " 'order albondiga soup warm tast like tomato soup frozen meatbal',\n",
              " 'three differ occas ask well done medium well three time got bloodiest piec meat plate',\n",
              " 'two bite refus eat anymor',\n",
              " 'servic extrem slow',\n",
              " 'minut wait got tabl',\n",
              " 'serious killer hot chai latt',\n",
              " 'allergi warn menu waitress absolut clue meal contain peanut',\n",
              " 'boyfriend tri mediterranean chicken salad fell love',\n",
              " 'rotat beer tap also highlight place',\n",
              " 'price bit concern mellow mushroom',\n",
              " 'worst thai ever',\n",
              " 'stay vega must get breakfast least',\n",
              " 'want first say server great perfect servic',\n",
              " 'pizza select good',\n",
              " 'strawberri tea good',\n",
              " 'highli unprofession rude loyal patron',\n",
              " 'overal great experi',\n",
              " 'spend money elsewher',\n",
              " 'regular toast bread equal satisfi occasion pat butter mmmm',\n",
              " 'buffet bellagio far anticip',\n",
              " 'drink weak peopl',\n",
              " 'order correct',\n",
              " 'also feel like chip bought made hous',\n",
              " 'disappoint dinner went elsewher dessert',\n",
              " 'chip sal amaz',\n",
              " 'return',\n",
              " 'new fav vega buffet spot',\n",
              " 'serious cannot believ owner mani unexperienc employe run around like chicken head cut',\n",
              " 'sad',\n",
              " 'felt insult disrespect could talk judg anoth human like',\n",
              " 'call steakhous properli cook steak understand',\n",
              " 'impress concept food',\n",
              " 'thing crazi guacamol like pur ed',\n",
              " 'realli noth postino hope experi better',\n",
              " 'got food poison buffet',\n",
              " 'brought fresh batch fri think yay someth warm',\n",
              " 'hilari yummi christma eve dinner rememb biggest fail entir trip us',\n",
              " 'needless say go back anytim soon',\n",
              " 'place disgust',\n",
              " 'everi time eat see care teamwork profession degre',\n",
              " 'ri style calamari joke',\n",
              " 'howev much garlic fondu bare edibl',\n",
              " 'could bare stomach meal complain busi lunch',\n",
              " 'bad lost heart finish',\n",
              " 'also took forev bring us check ask',\n",
              " 'one make scene restaur get definit lost love one',\n",
              " 'disappoint experi',\n",
              " 'food par denni say good',\n",
              " 'want wait mediocr food downright terribl servic place',\n",
              " 'waaaaaayyyyyyyyyi rate say',\n",
              " 'go back',\n",
              " 'place fairli clean food simpli worth',\n",
              " 'place lack style',\n",
              " 'sangria half glass wine full ridicul',\n",
              " 'bother come',\n",
              " 'meat pretti dri slice brisket pull pork',\n",
              " 'build seem pretti neat bathroom pretti trippi eat',\n",
              " 'equal aw',\n",
              " 'probabl hurri go back',\n",
              " 'slow seat even reserv',\n",
              " 'good stretch imagin',\n",
              " 'cashew cream sauc bland veget undercook',\n",
              " 'chipolt ranch dip saus tasteless seem thin water heat',\n",
              " 'bit sweet realli spici enough lack flavor',\n",
              " 'disappoint',\n",
              " 'place horribl way overpr',\n",
              " 'mayb vegetarian fare twice thought averag best',\n",
              " 'busi know',\n",
              " 'tabl outsid also dirti lot time worker alway friendli help menu',\n",
              " 'ambianc feel like buffet set douchey indoor garden tea biscuit',\n",
              " 'con spotti servic',\n",
              " 'fri hot neither burger',\n",
              " 'came back cold',\n",
              " 'food came disappoint ensu',\n",
              " 'real disappoint waiter',\n",
              " 'husband said rude even apolog bad food anyth',\n",
              " 'reason eat would fill night bing drink get carb stomach',\n",
              " 'insult profound deuchebaggeri go outsid smoke break serv solidifi',\n",
              " 'someon order two taco think may part custom servic ask combo ala cart',\n",
              " 'quit disappoint although blame need place door',\n",
              " 'rave review wait eat disappoint',\n",
              " 'del taco pretti nasti avoid possibl',\n",
              " 'hard make decent hamburg',\n",
              " 'like',\n",
              " 'hell go back',\n",
              " 'gotten much better servic pizza place next door servic receiv restaur',\n",
              " 'know big deal place back ya',\n",
              " 'immedi said want talk manag want talk guy shot firebal behind bar',\n",
              " 'ambianc much better',\n",
              " 'unfortun set us disapppoint entre',\n",
              " 'food good',\n",
              " 'server suck wait correct server heimer suck',\n",
              " 'happen next pretti put',\n",
              " 'bad caus know famili own realli want like place',\n",
              " 'overpr get',\n",
              " 'vomit bathroom mid lunch',\n",
              " 'kept look time soon becom minut yet still food',\n",
              " 'place eat circumst would ever return top list',\n",
              " 'start tuna sashimi brownish color obvious fresh',\n",
              " 'food averag',\n",
              " 'sure beat nacho movi would expect littl bit come restaur',\n",
              " 'ha long bay bit flop',\n",
              " 'problem charg sandwich bigger subway sub offer better amount veget',\n",
              " 'shrimp unwrap live mile brushfir liter ice cold',\n",
              " 'lack flavor seem undercook dri',\n",
              " 'realli impress place close',\n",
              " 'would avoid place stay mirag',\n",
              " 'refri bean came meal dri crusti food bland',\n",
              " 'spend money time place els',\n",
              " 'ladi tabl next us found live green caterpillar salad',\n",
              " 'present food aw',\n",
              " 'tell disappoint',\n",
              " 'think food flavor textur lack',\n",
              " 'appetit instantli gone',\n",
              " 'overal impress would go back',\n",
              " 'whole experi underwhelm think go ninja sushi next time',\n",
              " 'wast enough life pour salt wound draw time took bring check']"
            ]
          },
          "metadata": {},
          "execution_count": 182
        }
      ]
    },
    {
      "cell_type": "code",
      "source": [
        "from sklearn.feature_extraction.text import CountVectorizer\n",
        "cv = CountVectorizer(max_features=1500)\n",
        "X = cv.fit_transform(corpus).toarray()\n",
        "y = data.iloc[: ,1].values"
      ],
      "metadata": {
        "id": "agreP5-48pIH"
      },
      "execution_count": null,
      "outputs": []
    },
    {
      "cell_type": "code",
      "source": [
        "from sklearn.model_selection import train_test_split\n",
        "X_train, X_test, y_train, y_test = train_test_split(X, y, test_size=0.20, random_state=0)"
      ],
      "metadata": {
        "id": "iwav6X-W9lyv"
      },
      "execution_count": null,
      "outputs": []
    },
    {
      "cell_type": "markdown",
      "source": [
        "# **Multinomial Naive Baise Classifier**\n",
        "\n",
        "---\n",
        "\n",
        "\n"
      ],
      "metadata": {
        "id": "9MpY3KyTbQcc"
      }
    },
    {
      "cell_type": "code",
      "source": [
        "from sklearn.naive_bayes import MultinomialNB\n",
        "classifier =  MultinomialNB()\n",
        "classifier.fit(X_train,y_train)"
      ],
      "metadata": {
        "colab": {
          "base_uri": "https://localhost:8080/",
          "height": 75
        },
        "id": "VG8257B4Hk0a",
        "outputId": "e90dcf1d-841d-463b-f863-f860f1bdfbcb"
      },
      "execution_count": null,
      "outputs": [
        {
          "output_type": "execute_result",
          "data": {
            "text/plain": [
              "MultinomialNB()"
            ],
            "text/html": [
              "<style>#sk-container-id-40 {color: black;background-color: white;}#sk-container-id-40 pre{padding: 0;}#sk-container-id-40 div.sk-toggleable {background-color: white;}#sk-container-id-40 label.sk-toggleable__label {cursor: pointer;display: block;width: 100%;margin-bottom: 0;padding: 0.3em;box-sizing: border-box;text-align: center;}#sk-container-id-40 label.sk-toggleable__label-arrow:before {content: \"▸\";float: left;margin-right: 0.25em;color: #696969;}#sk-container-id-40 label.sk-toggleable__label-arrow:hover:before {color: black;}#sk-container-id-40 div.sk-estimator:hover label.sk-toggleable__label-arrow:before {color: black;}#sk-container-id-40 div.sk-toggleable__content {max-height: 0;max-width: 0;overflow: hidden;text-align: left;background-color: #f0f8ff;}#sk-container-id-40 div.sk-toggleable__content pre {margin: 0.2em;color: black;border-radius: 0.25em;background-color: #f0f8ff;}#sk-container-id-40 input.sk-toggleable__control:checked~div.sk-toggleable__content {max-height: 200px;max-width: 100%;overflow: auto;}#sk-container-id-40 input.sk-toggleable__control:checked~label.sk-toggleable__label-arrow:before {content: \"▾\";}#sk-container-id-40 div.sk-estimator input.sk-toggleable__control:checked~label.sk-toggleable__label {background-color: #d4ebff;}#sk-container-id-40 div.sk-label input.sk-toggleable__control:checked~label.sk-toggleable__label {background-color: #d4ebff;}#sk-container-id-40 input.sk-hidden--visually {border: 0;clip: rect(1px 1px 1px 1px);clip: rect(1px, 1px, 1px, 1px);height: 1px;margin: -1px;overflow: hidden;padding: 0;position: absolute;width: 1px;}#sk-container-id-40 div.sk-estimator {font-family: monospace;background-color: #f0f8ff;border: 1px dotted black;border-radius: 0.25em;box-sizing: border-box;margin-bottom: 0.5em;}#sk-container-id-40 div.sk-estimator:hover {background-color: #d4ebff;}#sk-container-id-40 div.sk-parallel-item::after {content: \"\";width: 100%;border-bottom: 1px solid gray;flex-grow: 1;}#sk-container-id-40 div.sk-label:hover label.sk-toggleable__label {background-color: #d4ebff;}#sk-container-id-40 div.sk-serial::before {content: \"\";position: absolute;border-left: 1px solid gray;box-sizing: border-box;top: 0;bottom: 0;left: 50%;z-index: 0;}#sk-container-id-40 div.sk-serial {display: flex;flex-direction: column;align-items: center;background-color: white;padding-right: 0.2em;padding-left: 0.2em;position: relative;}#sk-container-id-40 div.sk-item {position: relative;z-index: 1;}#sk-container-id-40 div.sk-parallel {display: flex;align-items: stretch;justify-content: center;background-color: white;position: relative;}#sk-container-id-40 div.sk-item::before, #sk-container-id-40 div.sk-parallel-item::before {content: \"\";position: absolute;border-left: 1px solid gray;box-sizing: border-box;top: 0;bottom: 0;left: 50%;z-index: -1;}#sk-container-id-40 div.sk-parallel-item {display: flex;flex-direction: column;z-index: 1;position: relative;background-color: white;}#sk-container-id-40 div.sk-parallel-item:first-child::after {align-self: flex-end;width: 50%;}#sk-container-id-40 div.sk-parallel-item:last-child::after {align-self: flex-start;width: 50%;}#sk-container-id-40 div.sk-parallel-item:only-child::after {width: 0;}#sk-container-id-40 div.sk-dashed-wrapped {border: 1px dashed gray;margin: 0 0.4em 0.5em 0.4em;box-sizing: border-box;padding-bottom: 0.4em;background-color: white;}#sk-container-id-40 div.sk-label label {font-family: monospace;font-weight: bold;display: inline-block;line-height: 1.2em;}#sk-container-id-40 div.sk-label-container {text-align: center;}#sk-container-id-40 div.sk-container {/* jupyter's `normalize.less` sets `[hidden] { display: none; }` but bootstrap.min.css set `[hidden] { display: none !important; }` so we also need the `!important` here to be able to override the default hidden behavior on the sphinx rendered scikit-learn.org. See: https://github.com/scikit-learn/scikit-learn/issues/21755 */display: inline-block !important;position: relative;}#sk-container-id-40 div.sk-text-repr-fallback {display: none;}</style><div id=\"sk-container-id-40\" class=\"sk-top-container\"><div class=\"sk-text-repr-fallback\"><pre>MultinomialNB()</pre><b>In a Jupyter environment, please rerun this cell to show the HTML representation or trust the notebook. <br />On GitHub, the HTML representation is unable to render, please try loading this page with nbviewer.org.</b></div><div class=\"sk-container\" hidden><div class=\"sk-item\"><div class=\"sk-estimator sk-toggleable\"><input class=\"sk-toggleable__control sk-hidden--visually\" id=\"sk-estimator-id-40\" type=\"checkbox\" checked><label for=\"sk-estimator-id-40\" class=\"sk-toggleable__label sk-toggleable__label-arrow\">MultinomialNB</label><div class=\"sk-toggleable__content\"><pre>MultinomialNB()</pre></div></div></div></div></div>"
            ]
          },
          "metadata": {},
          "execution_count": 185
        }
      ]
    },
    {
      "cell_type": "code",
      "source": [
        "y_predict = classifier.predict(X_test)\n",
        "y_predict"
      ],
      "metadata": {
        "colab": {
          "base_uri": "https://localhost:8080/"
        },
        "id": "5gzAX3eHH9JA",
        "outputId": "6dbacfef-0b51-4171-b394-ed450f9d90af"
      },
      "execution_count": null,
      "outputs": [
        {
          "output_type": "execute_result",
          "data": {
            "text/plain": [
              "array([0, 0, 0, 0, 0, 0, 1, 0, 0, 1, 1, 1, 1, 1, 1, 1, 0, 0, 0, 1, 0, 0,\n",
              "       1, 1, 1, 1, 1, 1, 1, 1, 1, 1, 1, 1, 1, 0, 0, 0, 0, 1, 1, 1, 1, 0,\n",
              "       0, 0, 1, 1, 0, 0, 1, 1, 1, 1, 1, 0, 1, 1, 0, 1, 1, 0, 0, 1, 0, 0,\n",
              "       1, 0, 1, 0, 1, 1, 1, 0, 0, 0, 0, 1, 0, 1, 1, 1, 1, 0, 1, 1, 1, 0,\n",
              "       1, 1, 0, 1, 0, 0, 0, 0, 0, 0, 0, 0, 0, 1, 1, 1, 0, 1, 1, 1, 0, 0,\n",
              "       0, 1, 0, 1, 1, 0, 1, 1, 1, 1, 1, 0, 1, 1, 0, 0, 1, 1, 0, 0, 1, 1,\n",
              "       0, 0, 1, 1, 1, 1, 1, 1, 0, 1, 1, 0, 0, 0, 0, 0, 1, 0, 1, 0, 1, 1,\n",
              "       1, 0, 1, 0, 1, 1, 0, 0, 1, 1, 0, 0, 1, 0, 0, 0, 0, 1, 1, 0, 0, 1,\n",
              "       0, 1, 0, 0, 1, 0, 0, 1, 0, 0, 0, 1, 0, 1, 1, 0, 1, 0, 0, 0, 1, 1,\n",
              "       0, 1])"
            ]
          },
          "metadata": {},
          "execution_count": 186
        }
      ]
    },
    {
      "cell_type": "code",
      "source": [
        "from sklearn.metrics import accuracy_score\n",
        "from sklearn.metrics import precision_score\n",
        "from sklearn.metrics import recall_score\n",
        "\n",
        "score1 = accuracy_score(y_test,y_predict)\n",
        "score2 = precision_score(y_test,y_predict)\n",
        "score3 = recall_score(y_test,y_predict)\n",
        "\n",
        "print(f\"The accuracy score for the model is {score1*100}%\")\n",
        "print(f\"The precision score for the model is {score2*100}%\")\n",
        "print(f\"The recall score for the model is {score3*100}%\")"
      ],
      "metadata": {
        "id": "I7F5svVmK95p",
        "colab": {
          "base_uri": "https://localhost:8080/"
        },
        "outputId": "9adbec29-d20b-4755-db18-06e12ae7c131"
      },
      "execution_count": null,
      "outputs": [
        {
          "output_type": "stream",
          "name": "stdout",
          "text": [
            "The accuracy score for the model is 76.5%\n",
            "The precision score for the model is 76.41509433962264%\n",
            "The recall score for the model is 78.64077669902912%\n"
          ]
        }
      ]
    },
    {
      "cell_type": "markdown",
      "source": [
        "<h3>Hyperparameter Tuning</h3>"
      ],
      "metadata": {
        "id": "DH72uIUK_HIU"
      }
    },
    {
      "cell_type": "code",
      "source": [
        "best_score = 0.0\n",
        "alp = 0.0\n",
        "for i in np.arange (0.1,1.1,0.1):\n",
        "  classifier = MultinomialNB(alpha = i)\n",
        "  classifier.fit(X_train,y_train)\n",
        "  y_predict = classifier.predict(X_test)\n",
        "  score = accuracy_score(y_test,y_predict)\n",
        "  if score > best_score:\n",
        "    best_score = score\n",
        "    alp = i\n",
        "\n",
        "print(\"Best accuracy Score is \"+str(best_score*100)+\" for alpha \"+str(alp))"
      ],
      "metadata": {
        "colab": {
          "base_uri": "https://localhost:8080/"
        },
        "id": "22XCQWURg6fV",
        "outputId": "d5a4a414-498d-4bc0-ea73-60a7fa8d2093"
      },
      "execution_count": null,
      "outputs": [
        {
          "output_type": "stream",
          "name": "stdout",
          "text": [
            "Best accuracy Score is 78.5 for alpha 0.2\n"
          ]
        }
      ]
    },
    {
      "cell_type": "markdown",
      "source": [
        "<h3>Using the best model as per hyperparameter tuning</h3>"
      ],
      "metadata": {
        "id": "8waibyQR_U0c"
      }
    },
    {
      "cell_type": "code",
      "source": [
        "from sklearn.naive_bayes import MultinomialNB\n",
        "classifier =  MultinomialNB(alpha=0.2)\n",
        "classifier.fit(X_train,y_train)"
      ],
      "metadata": {
        "colab": {
          "base_uri": "https://localhost:8080/",
          "height": 75
        },
        "id": "whUWCjr3_SRq",
        "outputId": "46ab55d6-85c1-4497-84bb-d6fc3e38b1a3"
      },
      "execution_count": null,
      "outputs": [
        {
          "output_type": "execute_result",
          "data": {
            "text/plain": [
              "MultinomialNB(alpha=0.2)"
            ],
            "text/html": [
              "<style>#sk-container-id-41 {color: black;background-color: white;}#sk-container-id-41 pre{padding: 0;}#sk-container-id-41 div.sk-toggleable {background-color: white;}#sk-container-id-41 label.sk-toggleable__label {cursor: pointer;display: block;width: 100%;margin-bottom: 0;padding: 0.3em;box-sizing: border-box;text-align: center;}#sk-container-id-41 label.sk-toggleable__label-arrow:before {content: \"▸\";float: left;margin-right: 0.25em;color: #696969;}#sk-container-id-41 label.sk-toggleable__label-arrow:hover:before {color: black;}#sk-container-id-41 div.sk-estimator:hover label.sk-toggleable__label-arrow:before {color: black;}#sk-container-id-41 div.sk-toggleable__content {max-height: 0;max-width: 0;overflow: hidden;text-align: left;background-color: #f0f8ff;}#sk-container-id-41 div.sk-toggleable__content pre {margin: 0.2em;color: black;border-radius: 0.25em;background-color: #f0f8ff;}#sk-container-id-41 input.sk-toggleable__control:checked~div.sk-toggleable__content {max-height: 200px;max-width: 100%;overflow: auto;}#sk-container-id-41 input.sk-toggleable__control:checked~label.sk-toggleable__label-arrow:before {content: \"▾\";}#sk-container-id-41 div.sk-estimator input.sk-toggleable__control:checked~label.sk-toggleable__label {background-color: #d4ebff;}#sk-container-id-41 div.sk-label input.sk-toggleable__control:checked~label.sk-toggleable__label {background-color: #d4ebff;}#sk-container-id-41 input.sk-hidden--visually {border: 0;clip: rect(1px 1px 1px 1px);clip: rect(1px, 1px, 1px, 1px);height: 1px;margin: -1px;overflow: hidden;padding: 0;position: absolute;width: 1px;}#sk-container-id-41 div.sk-estimator {font-family: monospace;background-color: #f0f8ff;border: 1px dotted black;border-radius: 0.25em;box-sizing: border-box;margin-bottom: 0.5em;}#sk-container-id-41 div.sk-estimator:hover {background-color: #d4ebff;}#sk-container-id-41 div.sk-parallel-item::after {content: \"\";width: 100%;border-bottom: 1px solid gray;flex-grow: 1;}#sk-container-id-41 div.sk-label:hover label.sk-toggleable__label {background-color: #d4ebff;}#sk-container-id-41 div.sk-serial::before {content: \"\";position: absolute;border-left: 1px solid gray;box-sizing: border-box;top: 0;bottom: 0;left: 50%;z-index: 0;}#sk-container-id-41 div.sk-serial {display: flex;flex-direction: column;align-items: center;background-color: white;padding-right: 0.2em;padding-left: 0.2em;position: relative;}#sk-container-id-41 div.sk-item {position: relative;z-index: 1;}#sk-container-id-41 div.sk-parallel {display: flex;align-items: stretch;justify-content: center;background-color: white;position: relative;}#sk-container-id-41 div.sk-item::before, #sk-container-id-41 div.sk-parallel-item::before {content: \"\";position: absolute;border-left: 1px solid gray;box-sizing: border-box;top: 0;bottom: 0;left: 50%;z-index: -1;}#sk-container-id-41 div.sk-parallel-item {display: flex;flex-direction: column;z-index: 1;position: relative;background-color: white;}#sk-container-id-41 div.sk-parallel-item:first-child::after {align-self: flex-end;width: 50%;}#sk-container-id-41 div.sk-parallel-item:last-child::after {align-self: flex-start;width: 50%;}#sk-container-id-41 div.sk-parallel-item:only-child::after {width: 0;}#sk-container-id-41 div.sk-dashed-wrapped {border: 1px dashed gray;margin: 0 0.4em 0.5em 0.4em;box-sizing: border-box;padding-bottom: 0.4em;background-color: white;}#sk-container-id-41 div.sk-label label {font-family: monospace;font-weight: bold;display: inline-block;line-height: 1.2em;}#sk-container-id-41 div.sk-label-container {text-align: center;}#sk-container-id-41 div.sk-container {/* jupyter's `normalize.less` sets `[hidden] { display: none; }` but bootstrap.min.css set `[hidden] { display: none !important; }` so we also need the `!important` here to be able to override the default hidden behavior on the sphinx rendered scikit-learn.org. See: https://github.com/scikit-learn/scikit-learn/issues/21755 */display: inline-block !important;position: relative;}#sk-container-id-41 div.sk-text-repr-fallback {display: none;}</style><div id=\"sk-container-id-41\" class=\"sk-top-container\"><div class=\"sk-text-repr-fallback\"><pre>MultinomialNB(alpha=0.2)</pre><b>In a Jupyter environment, please rerun this cell to show the HTML representation or trust the notebook. <br />On GitHub, the HTML representation is unable to render, please try loading this page with nbviewer.org.</b></div><div class=\"sk-container\" hidden><div class=\"sk-item\"><div class=\"sk-estimator sk-toggleable\"><input class=\"sk-toggleable__control sk-hidden--visually\" id=\"sk-estimator-id-41\" type=\"checkbox\" checked><label for=\"sk-estimator-id-41\" class=\"sk-toggleable__label sk-toggleable__label-arrow\">MultinomialNB</label><div class=\"sk-toggleable__content\"><pre>MultinomialNB(alpha=0.2)</pre></div></div></div></div></div>"
            ]
          },
          "metadata": {},
          "execution_count": 189
        }
      ]
    },
    {
      "cell_type": "code",
      "source": [
        "y_predict = classifier.predict(X_test)\n",
        "y_predict"
      ],
      "metadata": {
        "colab": {
          "base_uri": "https://localhost:8080/"
        },
        "id": "bu29k0F7_qqB",
        "outputId": "d2383f56-d19c-4a36-f7f6-d12222c27426"
      },
      "execution_count": null,
      "outputs": [
        {
          "output_type": "execute_result",
          "data": {
            "text/plain": [
              "array([0, 0, 0, 0, 0, 0, 1, 0, 0, 1, 1, 1, 1, 1, 1, 1, 0, 0, 0, 1, 0, 0,\n",
              "       1, 1, 1, 1, 1, 1, 1, 0, 1, 1, 1, 1, 1, 0, 0, 0, 1, 1, 1, 1, 1, 0,\n",
              "       0, 0, 1, 1, 0, 0, 1, 1, 1, 1, 1, 0, 1, 1, 0, 1, 1, 0, 0, 1, 1, 0,\n",
              "       1, 0, 1, 0, 1, 1, 1, 0, 0, 0, 1, 0, 0, 1, 0, 1, 1, 0, 1, 1, 1, 0,\n",
              "       1, 1, 0, 1, 0, 0, 0, 0, 0, 0, 0, 0, 0, 1, 1, 1, 0, 1, 1, 1, 0, 0,\n",
              "       0, 1, 0, 1, 1, 0, 1, 1, 1, 1, 1, 0, 1, 1, 0, 0, 1, 1, 0, 0, 1, 1,\n",
              "       0, 0, 1, 1, 1, 1, 1, 1, 0, 1, 1, 0, 0, 0, 0, 0, 1, 0, 1, 0, 1, 1,\n",
              "       1, 0, 1, 1, 1, 1, 0, 0, 1, 1, 0, 0, 1, 0, 0, 0, 0, 1, 1, 0, 0, 1,\n",
              "       0, 1, 0, 0, 1, 0, 0, 1, 0, 1, 0, 1, 0, 1, 1, 0, 1, 0, 0, 0, 1, 1,\n",
              "       0, 1])"
            ]
          },
          "metadata": {},
          "execution_count": 190
        }
      ]
    },
    {
      "cell_type": "code",
      "source": [
        "from sklearn.metrics import accuracy_score\n",
        "from sklearn.metrics import precision_score\n",
        "from sklearn.metrics import recall_score\n",
        "\n",
        "score1 = accuracy_score(y_test,y_predict)\n",
        "score2 = precision_score(y_test,y_predict)\n",
        "score3 = recall_score(y_test,y_predict)\n",
        "\n",
        "print(f\"The accuracy score for the model is {score1*100}%\")\n",
        "print(f\"The precision score for the model is {score2*100}%\")\n",
        "print(f\"The recall score for the model is {score3*100}%\")"
      ],
      "metadata": {
        "colab": {
          "base_uri": "https://localhost:8080/"
        },
        "id": "iR7LTss9_vZT",
        "outputId": "76f5248d-e313-4daf-ff37-58711acb8ffc"
      },
      "execution_count": null,
      "outputs": [
        {
          "output_type": "stream",
          "name": "stdout",
          "text": [
            "The accuracy score for the model is 78.5%\n",
            "The precision score for the model is 77.77777777777779%\n",
            "The recall score for the model is 81.55339805825243%\n"
          ]
        }
      ]
    },
    {
      "cell_type": "markdown",
      "source": [
        "<h3>Testing the model Against Random Inputs</h3>"
      ],
      "metadata": {
        "id": "vX30jJoj_u29"
      }
    },
    {
      "cell_type": "code",
      "source": [
        "def predict_sentiment(sample_review):\n",
        "  sample_review = re.sub(pattern='[^a-zA-Z]',repl=' ',string = sample_review)\n",
        "  sample_review = sample_review.lower()\n",
        "  sample_review_words = sample_review.split()\n",
        "  sample_review_words = [ word for word in sample_review_words if not word in set(stopwords.words('english'))]\n",
        "  final_review = [ps().stem(word) for word in sample_review_words]\n",
        "  final_review = ' '.join(final_review)\n",
        "\n",
        "  temp = cv.transform([final_review]).toarray()\n",
        "  return classifier.predict(temp)"
      ],
      "metadata": {
        "id": "yulvo1sCH5vn"
      },
      "execution_count": null,
      "outputs": []
    },
    {
      "cell_type": "code",
      "source": [
        "sample_review = ['The food is really wonderful',\n",
        "                 'The food is bad and service is also not good',\n",
        "                 'Not tasty and the texture was just nasty',\n",
        "                 'Highly recommended',\n",
        "                 'The worst was the salmon sashimi']\n",
        "i=1\n",
        "for sample in sample_review:\n",
        "  if predict_sentiment(sample):\n",
        "    print(f'The review {i} is Positive')\n",
        "  else:\n",
        "    print(f'The review {i} is Negative')\n",
        "  i+=1"
      ],
      "metadata": {
        "colab": {
          "base_uri": "https://localhost:8080/"
        },
        "id": "Wdln9PtbBa1q",
        "outputId": "893b6715-29c7-4673-a345-bbd64354c27c"
      },
      "execution_count": null,
      "outputs": [
        {
          "output_type": "stream",
          "name": "stdout",
          "text": [
            "The review 1 is Positive\n",
            "The review 2 is Negative\n",
            "The review 3 is Negative\n",
            "The review 4 is Positive\n",
            "The review 5 is Negative\n"
          ]
        }
      ]
    },
    {
      "cell_type": "markdown",
      "source": [
        "# **Logistic Regression**\n",
        "\n",
        "---\n",
        "\n"
      ],
      "metadata": {
        "id": "YQYTxSypbhVP"
      }
    },
    {
      "cell_type": "code",
      "source": [
        "from sklearn.linear_model import LogisticRegression\n",
        "from imblearn.over_sampling import SMOTE\n",
        "\n",
        "X_train, X_test, y_train, y_test = train_test_split(X, y, test_size = 0.2, random_state = 10)\n",
        "sm = SMOTE(random_state = 2)\n",
        "X_train_res, y_train_res = sm.fit_resample(X_train, y_train.ravel())\n",
        "\n",
        "classifier = LogisticRegression()\n",
        "classifier.fit(X_train,y_train)"
      ],
      "metadata": {
        "colab": {
          "base_uri": "https://localhost:8080/",
          "height": 75
        },
        "id": "0wOPbbmAUKsw",
        "outputId": "7904c759-1e39-43df-c29e-2663f0be3eeb"
      },
      "execution_count": null,
      "outputs": [
        {
          "output_type": "execute_result",
          "data": {
            "text/plain": [
              "LogisticRegression()"
            ],
            "text/html": [
              "<style>#sk-container-id-42 {color: black;background-color: white;}#sk-container-id-42 pre{padding: 0;}#sk-container-id-42 div.sk-toggleable {background-color: white;}#sk-container-id-42 label.sk-toggleable__label {cursor: pointer;display: block;width: 100%;margin-bottom: 0;padding: 0.3em;box-sizing: border-box;text-align: center;}#sk-container-id-42 label.sk-toggleable__label-arrow:before {content: \"▸\";float: left;margin-right: 0.25em;color: #696969;}#sk-container-id-42 label.sk-toggleable__label-arrow:hover:before {color: black;}#sk-container-id-42 div.sk-estimator:hover label.sk-toggleable__label-arrow:before {color: black;}#sk-container-id-42 div.sk-toggleable__content {max-height: 0;max-width: 0;overflow: hidden;text-align: left;background-color: #f0f8ff;}#sk-container-id-42 div.sk-toggleable__content pre {margin: 0.2em;color: black;border-radius: 0.25em;background-color: #f0f8ff;}#sk-container-id-42 input.sk-toggleable__control:checked~div.sk-toggleable__content {max-height: 200px;max-width: 100%;overflow: auto;}#sk-container-id-42 input.sk-toggleable__control:checked~label.sk-toggleable__label-arrow:before {content: \"▾\";}#sk-container-id-42 div.sk-estimator input.sk-toggleable__control:checked~label.sk-toggleable__label {background-color: #d4ebff;}#sk-container-id-42 div.sk-label input.sk-toggleable__control:checked~label.sk-toggleable__label {background-color: #d4ebff;}#sk-container-id-42 input.sk-hidden--visually {border: 0;clip: rect(1px 1px 1px 1px);clip: rect(1px, 1px, 1px, 1px);height: 1px;margin: -1px;overflow: hidden;padding: 0;position: absolute;width: 1px;}#sk-container-id-42 div.sk-estimator {font-family: monospace;background-color: #f0f8ff;border: 1px dotted black;border-radius: 0.25em;box-sizing: border-box;margin-bottom: 0.5em;}#sk-container-id-42 div.sk-estimator:hover {background-color: #d4ebff;}#sk-container-id-42 div.sk-parallel-item::after {content: \"\";width: 100%;border-bottom: 1px solid gray;flex-grow: 1;}#sk-container-id-42 div.sk-label:hover label.sk-toggleable__label {background-color: #d4ebff;}#sk-container-id-42 div.sk-serial::before {content: \"\";position: absolute;border-left: 1px solid gray;box-sizing: border-box;top: 0;bottom: 0;left: 50%;z-index: 0;}#sk-container-id-42 div.sk-serial {display: flex;flex-direction: column;align-items: center;background-color: white;padding-right: 0.2em;padding-left: 0.2em;position: relative;}#sk-container-id-42 div.sk-item {position: relative;z-index: 1;}#sk-container-id-42 div.sk-parallel {display: flex;align-items: stretch;justify-content: center;background-color: white;position: relative;}#sk-container-id-42 div.sk-item::before, #sk-container-id-42 div.sk-parallel-item::before {content: \"\";position: absolute;border-left: 1px solid gray;box-sizing: border-box;top: 0;bottom: 0;left: 50%;z-index: -1;}#sk-container-id-42 div.sk-parallel-item {display: flex;flex-direction: column;z-index: 1;position: relative;background-color: white;}#sk-container-id-42 div.sk-parallel-item:first-child::after {align-self: flex-end;width: 50%;}#sk-container-id-42 div.sk-parallel-item:last-child::after {align-self: flex-start;width: 50%;}#sk-container-id-42 div.sk-parallel-item:only-child::after {width: 0;}#sk-container-id-42 div.sk-dashed-wrapped {border: 1px dashed gray;margin: 0 0.4em 0.5em 0.4em;box-sizing: border-box;padding-bottom: 0.4em;background-color: white;}#sk-container-id-42 div.sk-label label {font-family: monospace;font-weight: bold;display: inline-block;line-height: 1.2em;}#sk-container-id-42 div.sk-label-container {text-align: center;}#sk-container-id-42 div.sk-container {/* jupyter's `normalize.less` sets `[hidden] { display: none; }` but bootstrap.min.css set `[hidden] { display: none !important; }` so we also need the `!important` here to be able to override the default hidden behavior on the sphinx rendered scikit-learn.org. See: https://github.com/scikit-learn/scikit-learn/issues/21755 */display: inline-block !important;position: relative;}#sk-container-id-42 div.sk-text-repr-fallback {display: none;}</style><div id=\"sk-container-id-42\" class=\"sk-top-container\"><div class=\"sk-text-repr-fallback\"><pre>LogisticRegression()</pre><b>In a Jupyter environment, please rerun this cell to show the HTML representation or trust the notebook. <br />On GitHub, the HTML representation is unable to render, please try loading this page with nbviewer.org.</b></div><div class=\"sk-container\" hidden><div class=\"sk-item\"><div class=\"sk-estimator sk-toggleable\"><input class=\"sk-toggleable__control sk-hidden--visually\" id=\"sk-estimator-id-42\" type=\"checkbox\" checked><label for=\"sk-estimator-id-42\" class=\"sk-toggleable__label sk-toggleable__label-arrow\">LogisticRegression</label><div class=\"sk-toggleable__content\"><pre>LogisticRegression()</pre></div></div></div></div></div>"
            ]
          },
          "metadata": {},
          "execution_count": 194
        }
      ]
    },
    {
      "cell_type": "code",
      "source": [
        "y_predict = classifier.predict(X_test)\n",
        "y_predict"
      ],
      "metadata": {
        "colab": {
          "base_uri": "https://localhost:8080/"
        },
        "id": "v230TjuHUKdW",
        "outputId": "fd40eb54-6b91-4814-b9fc-f64cfa199f24"
      },
      "execution_count": null,
      "outputs": [
        {
          "output_type": "execute_result",
          "data": {
            "text/plain": [
              "array([1, 0, 0, 0, 1, 0, 0, 1, 0, 0, 1, 1, 1, 0, 1, 1, 1, 1, 1, 0, 0, 0,\n",
              "       1, 1, 1, 1, 0, 0, 1, 1, 1, 1, 0, 1, 0, 1, 1, 0, 1, 0, 1, 1, 0, 0,\n",
              "       0, 1, 0, 1, 1, 0, 1, 0, 0, 1, 0, 1, 0, 0, 0, 1, 0, 0, 0, 0, 1, 1,\n",
              "       0, 1, 0, 0, 1, 1, 1, 1, 1, 0, 0, 0, 0, 1, 0, 0, 0, 1, 0, 1, 0, 0,\n",
              "       0, 1, 1, 0, 1, 0, 1, 0, 1, 1, 1, 0, 0, 0, 0, 0, 1, 1, 1, 0, 0, 1,\n",
              "       1, 1, 1, 1, 0, 0, 1, 0, 0, 1, 1, 1, 1, 0, 0, 0, 0, 1, 1, 1, 1, 0,\n",
              "       0, 1, 1, 0, 1, 1, 0, 0, 0, 1, 1, 0, 0, 0, 0, 0, 0, 0, 0, 1, 0, 0,\n",
              "       1, 1, 0, 0, 0, 1, 1, 0, 1, 1, 1, 1, 1, 0, 0, 1, 1, 1, 1, 1, 1, 0,\n",
              "       0, 0, 0, 1, 0, 1, 1, 1, 1, 0, 0, 1, 0, 1, 0, 1, 0, 0, 0, 1, 1, 1,\n",
              "       0, 1])"
            ]
          },
          "metadata": {},
          "execution_count": 195
        }
      ]
    },
    {
      "cell_type": "code",
      "source": [
        "from sklearn.metrics import accuracy_score\n",
        "from sklearn.metrics import precision_score\n",
        "from sklearn.metrics import recall_score\n",
        "\n",
        "score1 = accuracy_score(y_test,y_predict)\n",
        "score2 = precision_score(y_test,y_predict)\n",
        "score3 = recall_score(y_test,y_predict)\n",
        "\n",
        "print(f\"The accuracy score for the model is {score1*100}%\")\n",
        "print(f\"The precision score for the model is {score2*100}%\")\n",
        "print(f\"The recall score for the model is {score3*100}%\")"
      ],
      "metadata": {
        "colab": {
          "base_uri": "https://localhost:8080/"
        },
        "id": "JH9aOAIqU-o2",
        "outputId": "2e6d0c42-226f-483b-9afb-afec6607e889"
      },
      "execution_count": null,
      "outputs": [
        {
          "output_type": "stream",
          "name": "stdout",
          "text": [
            "The accuracy score for the model is 77.5%\n",
            "The precision score for the model is 77.22772277227723%\n",
            "The recall score for the model is 78.0%\n"
          ]
        }
      ]
    },
    {
      "cell_type": "markdown",
      "source": [
        "<h3>Testing the model against random inputs.</h3>"
      ],
      "metadata": {
        "id": "U8UW8eUKQ8qK"
      }
    },
    {
      "cell_type": "code",
      "source": [
        "def predict_sentiment(sample_review):\n",
        "  sample_review = re.sub(pattern='[^a-zA-Z]',repl=' ',string = sample_review)\n",
        "  sample_review = sample_review.lower()\n",
        "  sample_review_words = sample_review.split()\n",
        "  sample_review_words = [ word for word in sample_review_words if not word in set(stopwords.words('english'))]\n",
        "  final_review = [ps().stem(word) for word in sample_review_words]\n",
        "  final_review = ' '.join(final_review)\n",
        "\n",
        "  temp = cv.transform([final_review]).toarray()\n",
        "  return classifier.predict(temp)"
      ],
      "metadata": {
        "id": "RoyxsPXuRC29"
      },
      "execution_count": null,
      "outputs": []
    },
    {
      "cell_type": "code",
      "source": [
        "sample_review = ['The food is really wonderful',\n",
        "                 'The food is bad and service is also not good',\n",
        "                 'Not tasty and the texture was just nasty',\n",
        "                 'Highly recommended',\n",
        "                 'The worst was the salmon sashimi']\n",
        "i=1\n",
        "for sample in sample_review:\n",
        "  if predict_sentiment(sample):\n",
        "    print(f'The review {i} is Positive')\n",
        "  else:\n",
        "    print(f'The review {i} is Negative')\n",
        "  i+=1"
      ],
      "metadata": {
        "colab": {
          "base_uri": "https://localhost:8080/"
        },
        "id": "QPkrFqnYRI8e",
        "outputId": "9d9a7e4a-ad5a-4e3a-c1f4-39648045447f"
      },
      "execution_count": null,
      "outputs": [
        {
          "output_type": "stream",
          "name": "stdout",
          "text": [
            "The review 1 is Positive\n",
            "The review 2 is Positive\n",
            "The review 3 is Negative\n",
            "The review 4 is Positive\n",
            "The review 5 is Negative\n"
          ]
        }
      ]
    },
    {
      "cell_type": "markdown",
      "source": [
        "# **Decision Tree Classifier**\n",
        "\n",
        "\n",
        "---\n",
        "\n"
      ],
      "metadata": {
        "id": "IJGtS9igbpYo"
      }
    },
    {
      "cell_type": "code",
      "source": [
        "from sklearn.tree import DecisionTreeClassifier\n",
        "classifier = DecisionTreeClassifier(criterion=\"entropy\", max_depth=1)\n",
        "classifier.fit(X_train,y_train)"
      ],
      "metadata": {
        "colab": {
          "base_uri": "https://localhost:8080/",
          "height": 75
        },
        "id": "xUDjbOIdY8nn",
        "outputId": "da9c105f-7415-41ed-fef8-115334b43750"
      },
      "execution_count": null,
      "outputs": [
        {
          "output_type": "execute_result",
          "data": {
            "text/plain": [
              "DecisionTreeClassifier(criterion='entropy', max_depth=1)"
            ],
            "text/html": [
              "<style>#sk-container-id-43 {color: black;background-color: white;}#sk-container-id-43 pre{padding: 0;}#sk-container-id-43 div.sk-toggleable {background-color: white;}#sk-container-id-43 label.sk-toggleable__label {cursor: pointer;display: block;width: 100%;margin-bottom: 0;padding: 0.3em;box-sizing: border-box;text-align: center;}#sk-container-id-43 label.sk-toggleable__label-arrow:before {content: \"▸\";float: left;margin-right: 0.25em;color: #696969;}#sk-container-id-43 label.sk-toggleable__label-arrow:hover:before {color: black;}#sk-container-id-43 div.sk-estimator:hover label.sk-toggleable__label-arrow:before {color: black;}#sk-container-id-43 div.sk-toggleable__content {max-height: 0;max-width: 0;overflow: hidden;text-align: left;background-color: #f0f8ff;}#sk-container-id-43 div.sk-toggleable__content pre {margin: 0.2em;color: black;border-radius: 0.25em;background-color: #f0f8ff;}#sk-container-id-43 input.sk-toggleable__control:checked~div.sk-toggleable__content {max-height: 200px;max-width: 100%;overflow: auto;}#sk-container-id-43 input.sk-toggleable__control:checked~label.sk-toggleable__label-arrow:before {content: \"▾\";}#sk-container-id-43 div.sk-estimator input.sk-toggleable__control:checked~label.sk-toggleable__label {background-color: #d4ebff;}#sk-container-id-43 div.sk-label input.sk-toggleable__control:checked~label.sk-toggleable__label {background-color: #d4ebff;}#sk-container-id-43 input.sk-hidden--visually {border: 0;clip: rect(1px 1px 1px 1px);clip: rect(1px, 1px, 1px, 1px);height: 1px;margin: -1px;overflow: hidden;padding: 0;position: absolute;width: 1px;}#sk-container-id-43 div.sk-estimator {font-family: monospace;background-color: #f0f8ff;border: 1px dotted black;border-radius: 0.25em;box-sizing: border-box;margin-bottom: 0.5em;}#sk-container-id-43 div.sk-estimator:hover {background-color: #d4ebff;}#sk-container-id-43 div.sk-parallel-item::after {content: \"\";width: 100%;border-bottom: 1px solid gray;flex-grow: 1;}#sk-container-id-43 div.sk-label:hover label.sk-toggleable__label {background-color: #d4ebff;}#sk-container-id-43 div.sk-serial::before {content: \"\";position: absolute;border-left: 1px solid gray;box-sizing: border-box;top: 0;bottom: 0;left: 50%;z-index: 0;}#sk-container-id-43 div.sk-serial {display: flex;flex-direction: column;align-items: center;background-color: white;padding-right: 0.2em;padding-left: 0.2em;position: relative;}#sk-container-id-43 div.sk-item {position: relative;z-index: 1;}#sk-container-id-43 div.sk-parallel {display: flex;align-items: stretch;justify-content: center;background-color: white;position: relative;}#sk-container-id-43 div.sk-item::before, #sk-container-id-43 div.sk-parallel-item::before {content: \"\";position: absolute;border-left: 1px solid gray;box-sizing: border-box;top: 0;bottom: 0;left: 50%;z-index: -1;}#sk-container-id-43 div.sk-parallel-item {display: flex;flex-direction: column;z-index: 1;position: relative;background-color: white;}#sk-container-id-43 div.sk-parallel-item:first-child::after {align-self: flex-end;width: 50%;}#sk-container-id-43 div.sk-parallel-item:last-child::after {align-self: flex-start;width: 50%;}#sk-container-id-43 div.sk-parallel-item:only-child::after {width: 0;}#sk-container-id-43 div.sk-dashed-wrapped {border: 1px dashed gray;margin: 0 0.4em 0.5em 0.4em;box-sizing: border-box;padding-bottom: 0.4em;background-color: white;}#sk-container-id-43 div.sk-label label {font-family: monospace;font-weight: bold;display: inline-block;line-height: 1.2em;}#sk-container-id-43 div.sk-label-container {text-align: center;}#sk-container-id-43 div.sk-container {/* jupyter's `normalize.less` sets `[hidden] { display: none; }` but bootstrap.min.css set `[hidden] { display: none !important; }` so we also need the `!important` here to be able to override the default hidden behavior on the sphinx rendered scikit-learn.org. See: https://github.com/scikit-learn/scikit-learn/issues/21755 */display: inline-block !important;position: relative;}#sk-container-id-43 div.sk-text-repr-fallback {display: none;}</style><div id=\"sk-container-id-43\" class=\"sk-top-container\"><div class=\"sk-text-repr-fallback\"><pre>DecisionTreeClassifier(criterion=&#x27;entropy&#x27;, max_depth=1)</pre><b>In a Jupyter environment, please rerun this cell to show the HTML representation or trust the notebook. <br />On GitHub, the HTML representation is unable to render, please try loading this page with nbviewer.org.</b></div><div class=\"sk-container\" hidden><div class=\"sk-item\"><div class=\"sk-estimator sk-toggleable\"><input class=\"sk-toggleable__control sk-hidden--visually\" id=\"sk-estimator-id-43\" type=\"checkbox\" checked><label for=\"sk-estimator-id-43\" class=\"sk-toggleable__label sk-toggleable__label-arrow\">DecisionTreeClassifier</label><div class=\"sk-toggleable__content\"><pre>DecisionTreeClassifier(criterion=&#x27;entropy&#x27;, max_depth=1)</pre></div></div></div></div></div>"
            ]
          },
          "metadata": {},
          "execution_count": 199
        }
      ]
    },
    {
      "cell_type": "code",
      "source": [
        "y_predict = classifier.predict(X_test)\n",
        "y_predict"
      ],
      "metadata": {
        "colab": {
          "base_uri": "https://localhost:8080/"
        },
        "id": "3pb-nnw5ZEc9",
        "outputId": "7491f119-69d0-49aa-9501-3835a223506e"
      },
      "execution_count": null,
      "outputs": [
        {
          "output_type": "execute_result",
          "data": {
            "text/plain": [
              "array([0, 0, 0, 0, 0, 0, 0, 0, 0, 0, 1, 0, 0, 0, 1, 0, 0, 0, 0, 0, 0, 0,\n",
              "       1, 0, 1, 0, 0, 0, 0, 0, 1, 0, 0, 0, 0, 0, 0, 0, 1, 0, 0, 0, 0, 0,\n",
              "       0, 0, 0, 0, 0, 0, 1, 0, 0, 0, 0, 0, 0, 0, 0, 0, 0, 0, 0, 0, 1, 0,\n",
              "       0, 1, 0, 0, 0, 0, 0, 0, 0, 0, 0, 0, 0, 0, 0, 0, 0, 0, 0, 0, 0, 0,\n",
              "       0, 0, 0, 0, 0, 0, 0, 0, 0, 1, 0, 0, 0, 0, 0, 0, 0, 0, 0, 0, 0, 0,\n",
              "       0, 0, 0, 0, 0, 0, 0, 0, 0, 1, 0, 0, 0, 0, 0, 0, 0, 0, 0, 0, 0, 0,\n",
              "       0, 0, 0, 0, 0, 0, 0, 0, 0, 1, 0, 0, 0, 0, 0, 0, 0, 0, 0, 1, 0, 0,\n",
              "       0, 0, 0, 0, 0, 0, 0, 0, 0, 0, 1, 0, 0, 0, 0, 0, 0, 0, 1, 0, 0, 0,\n",
              "       0, 0, 0, 0, 0, 0, 0, 0, 1, 0, 0, 0, 0, 0, 0, 0, 0, 0, 0, 0, 0, 0,\n",
              "       0, 0])"
            ]
          },
          "metadata": {},
          "execution_count": 200
        }
      ]
    },
    {
      "cell_type": "code",
      "source": [
        "from sklearn.metrics import accuracy_score\n",
        "from sklearn.metrics import precision_score\n",
        "from sklearn.metrics import recall_score\n",
        "\n",
        "score1 = accuracy_score(y_test,y_predict)\n",
        "score2 = precision_score(y_test,y_predict)\n",
        "score3 = recall_score(y_test,y_predict)\n",
        "\n",
        "print(f\"The accuracy score for the model is {score1*100}%\")\n",
        "print(f\"The precision score for the model is {score2*100}%\")\n",
        "print(f\"The recall score for the model is {score3*100}%\")"
      ],
      "metadata": {
        "colab": {
          "base_uri": "https://localhost:8080/"
        },
        "id": "IsuO9ILhZETp",
        "outputId": "26fb47b0-0fa1-438e-8192-695a090c8c0b"
      },
      "execution_count": null,
      "outputs": [
        {
          "output_type": "stream",
          "name": "stdout",
          "text": [
            "The accuracy score for the model is 57.99999999999999%\n",
            "The precision score for the model is 100.0%\n",
            "The recall score for the model is 16.0%\n"
          ]
        }
      ]
    },
    {
      "cell_type": "markdown",
      "source": [
        "<h3>Hyperparameter Tuning</h3>"
      ],
      "metadata": {
        "id": "kAyHyeLmdt_s"
      }
    },
    {
      "cell_type": "code",
      "source": [
        "best_score = 0.0\n",
        "dep = 0\n",
        "for i in range (10,100):\n",
        "  classifier = DecisionTreeClassifier(criterion=\"entropy\", max_depth=i)\n",
        "  classifier.fit(X_train,y_train)\n",
        "  y_predict = classifier.predict(X_test)\n",
        "  score = accuracy_score(y_test,y_predict)\n",
        "  if score > best_score:\n",
        "    best_score = score\n",
        "    dep = i\n",
        "\n",
        "print(\"Best accuracy Score is \"+str(best_score*100)+\" for max_depth \"+str(dep))"
      ],
      "metadata": {
        "colab": {
          "base_uri": "https://localhost:8080/"
        },
        "id": "Qm7DJAmTc7nX",
        "outputId": "fff7d5cf-7bec-4c2e-f782-01e29aef49e2"
      },
      "execution_count": null,
      "outputs": [
        {
          "output_type": "stream",
          "name": "stdout",
          "text": [
            "Best accuracy Score is 80.0 for max_depth 35\n"
          ]
        }
      ]
    },
    {
      "cell_type": "markdown",
      "source": [
        "<h3>Using the best model as per hyperparameter tuning</h3>"
      ],
      "metadata": {
        "id": "yHZ-FV4yRdv-"
      }
    },
    {
      "cell_type": "code",
      "source": [
        "from sklearn.tree import DecisionTreeClassifier\n",
        "classifier = DecisionTreeClassifier(criterion=\"entropy\", max_depth=30)\n",
        "classifier.fit(X_train,y_train)"
      ],
      "metadata": {
        "colab": {
          "base_uri": "https://localhost:8080/",
          "height": 75
        },
        "id": "ZdZ7VrZ4Rc6X",
        "outputId": "f7b7d99f-78f7-4fab-b53d-492f7f3bfead"
      },
      "execution_count": null,
      "outputs": [
        {
          "output_type": "execute_result",
          "data": {
            "text/plain": [
              "DecisionTreeClassifier(criterion='entropy', max_depth=30)"
            ],
            "text/html": [
              "<style>#sk-container-id-44 {color: black;background-color: white;}#sk-container-id-44 pre{padding: 0;}#sk-container-id-44 div.sk-toggleable {background-color: white;}#sk-container-id-44 label.sk-toggleable__label {cursor: pointer;display: block;width: 100%;margin-bottom: 0;padding: 0.3em;box-sizing: border-box;text-align: center;}#sk-container-id-44 label.sk-toggleable__label-arrow:before {content: \"▸\";float: left;margin-right: 0.25em;color: #696969;}#sk-container-id-44 label.sk-toggleable__label-arrow:hover:before {color: black;}#sk-container-id-44 div.sk-estimator:hover label.sk-toggleable__label-arrow:before {color: black;}#sk-container-id-44 div.sk-toggleable__content {max-height: 0;max-width: 0;overflow: hidden;text-align: left;background-color: #f0f8ff;}#sk-container-id-44 div.sk-toggleable__content pre {margin: 0.2em;color: black;border-radius: 0.25em;background-color: #f0f8ff;}#sk-container-id-44 input.sk-toggleable__control:checked~div.sk-toggleable__content {max-height: 200px;max-width: 100%;overflow: auto;}#sk-container-id-44 input.sk-toggleable__control:checked~label.sk-toggleable__label-arrow:before {content: \"▾\";}#sk-container-id-44 div.sk-estimator input.sk-toggleable__control:checked~label.sk-toggleable__label {background-color: #d4ebff;}#sk-container-id-44 div.sk-label input.sk-toggleable__control:checked~label.sk-toggleable__label {background-color: #d4ebff;}#sk-container-id-44 input.sk-hidden--visually {border: 0;clip: rect(1px 1px 1px 1px);clip: rect(1px, 1px, 1px, 1px);height: 1px;margin: -1px;overflow: hidden;padding: 0;position: absolute;width: 1px;}#sk-container-id-44 div.sk-estimator {font-family: monospace;background-color: #f0f8ff;border: 1px dotted black;border-radius: 0.25em;box-sizing: border-box;margin-bottom: 0.5em;}#sk-container-id-44 div.sk-estimator:hover {background-color: #d4ebff;}#sk-container-id-44 div.sk-parallel-item::after {content: \"\";width: 100%;border-bottom: 1px solid gray;flex-grow: 1;}#sk-container-id-44 div.sk-label:hover label.sk-toggleable__label {background-color: #d4ebff;}#sk-container-id-44 div.sk-serial::before {content: \"\";position: absolute;border-left: 1px solid gray;box-sizing: border-box;top: 0;bottom: 0;left: 50%;z-index: 0;}#sk-container-id-44 div.sk-serial {display: flex;flex-direction: column;align-items: center;background-color: white;padding-right: 0.2em;padding-left: 0.2em;position: relative;}#sk-container-id-44 div.sk-item {position: relative;z-index: 1;}#sk-container-id-44 div.sk-parallel {display: flex;align-items: stretch;justify-content: center;background-color: white;position: relative;}#sk-container-id-44 div.sk-item::before, #sk-container-id-44 div.sk-parallel-item::before {content: \"\";position: absolute;border-left: 1px solid gray;box-sizing: border-box;top: 0;bottom: 0;left: 50%;z-index: -1;}#sk-container-id-44 div.sk-parallel-item {display: flex;flex-direction: column;z-index: 1;position: relative;background-color: white;}#sk-container-id-44 div.sk-parallel-item:first-child::after {align-self: flex-end;width: 50%;}#sk-container-id-44 div.sk-parallel-item:last-child::after {align-self: flex-start;width: 50%;}#sk-container-id-44 div.sk-parallel-item:only-child::after {width: 0;}#sk-container-id-44 div.sk-dashed-wrapped {border: 1px dashed gray;margin: 0 0.4em 0.5em 0.4em;box-sizing: border-box;padding-bottom: 0.4em;background-color: white;}#sk-container-id-44 div.sk-label label {font-family: monospace;font-weight: bold;display: inline-block;line-height: 1.2em;}#sk-container-id-44 div.sk-label-container {text-align: center;}#sk-container-id-44 div.sk-container {/* jupyter's `normalize.less` sets `[hidden] { display: none; }` but bootstrap.min.css set `[hidden] { display: none !important; }` so we also need the `!important` here to be able to override the default hidden behavior on the sphinx rendered scikit-learn.org. See: https://github.com/scikit-learn/scikit-learn/issues/21755 */display: inline-block !important;position: relative;}#sk-container-id-44 div.sk-text-repr-fallback {display: none;}</style><div id=\"sk-container-id-44\" class=\"sk-top-container\"><div class=\"sk-text-repr-fallback\"><pre>DecisionTreeClassifier(criterion=&#x27;entropy&#x27;, max_depth=30)</pre><b>In a Jupyter environment, please rerun this cell to show the HTML representation or trust the notebook. <br />On GitHub, the HTML representation is unable to render, please try loading this page with nbviewer.org.</b></div><div class=\"sk-container\" hidden><div class=\"sk-item\"><div class=\"sk-estimator sk-toggleable\"><input class=\"sk-toggleable__control sk-hidden--visually\" id=\"sk-estimator-id-44\" type=\"checkbox\" checked><label for=\"sk-estimator-id-44\" class=\"sk-toggleable__label sk-toggleable__label-arrow\">DecisionTreeClassifier</label><div class=\"sk-toggleable__content\"><pre>DecisionTreeClassifier(criterion=&#x27;entropy&#x27;, max_depth=30)</pre></div></div></div></div></div>"
            ]
          },
          "metadata": {},
          "execution_count": 203
        }
      ]
    },
    {
      "cell_type": "code",
      "source": [
        "y_predict = classifier.predict(X_test)\n",
        "y_predict"
      ],
      "metadata": {
        "colab": {
          "base_uri": "https://localhost:8080/"
        },
        "id": "6mtL3STXT-eJ",
        "outputId": "9bc4dcec-e1ac-44a9-9acc-b766e0ea01b7"
      },
      "execution_count": null,
      "outputs": [
        {
          "output_type": "execute_result",
          "data": {
            "text/plain": [
              "array([1, 0, 0, 0, 1, 0, 0, 1, 0, 0, 1, 1, 1, 0, 1, 0, 0, 1, 0, 1, 0, 0,\n",
              "       1, 0, 1, 0, 0, 0, 1, 0, 1, 1, 0, 0, 0, 1, 1, 0, 1, 0, 1, 1, 0, 0,\n",
              "       0, 1, 0, 0, 1, 0, 1, 0, 0, 1, 0, 1, 0, 0, 0, 0, 0, 0, 0, 0, 1, 0,\n",
              "       0, 1, 0, 0, 0, 1, 0, 0, 1, 0, 0, 0, 1, 1, 0, 0, 0, 1, 0, 1, 0, 0,\n",
              "       0, 1, 1, 0, 0, 0, 1, 0, 1, 1, 1, 0, 0, 0, 0, 0, 1, 0, 0, 0, 0, 0,\n",
              "       1, 1, 0, 1, 0, 0, 0, 0, 0, 1, 0, 1, 1, 0, 0, 0, 0, 1, 1, 1, 1, 0,\n",
              "       0, 0, 1, 0, 1, 0, 0, 0, 0, 1, 0, 0, 0, 0, 0, 0, 0, 0, 0, 1, 1, 0,\n",
              "       1, 1, 0, 0, 0, 0, 1, 0, 1, 1, 1, 1, 0, 0, 0, 1, 1, 1, 1, 0, 1, 1,\n",
              "       0, 0, 0, 1, 0, 0, 1, 1, 1, 0, 0, 1, 0, 1, 0, 1, 0, 0, 0, 1, 0, 1,\n",
              "       0, 0])"
            ]
          },
          "metadata": {},
          "execution_count": 204
        }
      ]
    },
    {
      "cell_type": "code",
      "source": [
        "from sklearn.metrics import accuracy_score\n",
        "from sklearn.metrics import precision_score\n",
        "from sklearn.metrics import recall_score\n",
        "\n",
        "score1 = accuracy_score(y_test,y_predict)\n",
        "score2 = precision_score(y_test,y_predict)\n",
        "score3 = recall_score(y_test,y_predict)\n",
        "\n",
        "print(f\"The accuracy score for the model is {score1*100}%\")\n",
        "print(f\"The precision score for the model is {score2*100}%\")\n",
        "print(f\"The recall score for the model is {score3*100}%\")"
      ],
      "metadata": {
        "colab": {
          "base_uri": "https://localhost:8080/"
        },
        "id": "hjDbe1Q4T-Q0",
        "outputId": "aefb5cc3-b30a-4460-dde4-4ec51b5acf81"
      },
      "execution_count": null,
      "outputs": [
        {
          "output_type": "stream",
          "name": "stdout",
          "text": [
            "The accuracy score for the model is 79.0%\n",
            "The precision score for the model is 88.1578947368421%\n",
            "The recall score for the model is 67.0%\n"
          ]
        }
      ]
    },
    {
      "cell_type": "markdown",
      "source": [
        "<h3>Testing the model against random inputs.</h3>"
      ],
      "metadata": {
        "id": "ZVm9LiVoUKBr"
      }
    },
    {
      "cell_type": "code",
      "source": [
        "def predict_sentiment(sample_review):\n",
        "  sample_review = re.sub(pattern='[^a-zA-Z]',repl=' ',string = sample_review)\n",
        "  sample_review = sample_review.lower()\n",
        "  sample_review_words = sample_review.split()\n",
        "  sample_review_words = [ word for word in sample_review_words if not word in set(stopwords.words('english'))]\n",
        "  final_review = [ps().stem(word) for word in sample_review_words]\n",
        "  final_review = ' '.join(final_review)\n",
        "\n",
        "  temp = cv.transform([final_review]).toarray()\n",
        "  return classifier.predict(temp)"
      ],
      "metadata": {
        "id": "_gSRJfJVUTT1"
      },
      "execution_count": null,
      "outputs": []
    },
    {
      "cell_type": "code",
      "source": [
        "sample_review = ['The food is really wonderful',\n",
        "                 'The food is bad and service is also not good',\n",
        "                 'Not tasty and the texture was just nasty',\n",
        "                 'Highly recommended',\n",
        "                 'The worst was the salmon sashimi']\n",
        "i=1\n",
        "for sample in sample_review:\n",
        "  if predict_sentiment(sample):\n",
        "    print(f'The review {i} is Positive')\n",
        "  else:\n",
        "    print(f'The review {i} is Negative')\n",
        "  i+=1"
      ],
      "metadata": {
        "colab": {
          "base_uri": "https://localhost:8080/"
        },
        "id": "3lvV7PG_UliZ",
        "outputId": "16264e5a-1807-4188-ab9a-d10d30613b9b"
      },
      "execution_count": null,
      "outputs": [
        {
          "output_type": "stream",
          "name": "stdout",
          "text": [
            "The review 1 is Positive\n",
            "The review 2 is Positive\n",
            "The review 3 is Negative\n",
            "The review 4 is Negative\n",
            "The review 5 is Negative\n"
          ]
        }
      ]
    },
    {
      "cell_type": "markdown",
      "source": [
        "# **Random Forest Classifier**\n",
        "\n",
        "---\n",
        "\n"
      ],
      "metadata": {
        "id": "6EBvGPrD9a3B"
      }
    },
    {
      "cell_type": "code",
      "source": [
        "from sklearn.ensemble import RandomForestClassifier\n",
        "classifier = RandomForestClassifier(criterion=\"entropy\")\n",
        "classifier.fit(X_train,y_train)"
      ],
      "metadata": {
        "id": "nvCe4OkguY4a",
        "colab": {
          "base_uri": "https://localhost:8080/",
          "height": 75
        },
        "outputId": "4aaab4a3-b445-4d94-f079-e76d3c6885c4"
      },
      "execution_count": null,
      "outputs": [
        {
          "output_type": "execute_result",
          "data": {
            "text/plain": [
              "RandomForestClassifier(criterion='entropy')"
            ],
            "text/html": [
              "<style>#sk-container-id-45 {color: black;background-color: white;}#sk-container-id-45 pre{padding: 0;}#sk-container-id-45 div.sk-toggleable {background-color: white;}#sk-container-id-45 label.sk-toggleable__label {cursor: pointer;display: block;width: 100%;margin-bottom: 0;padding: 0.3em;box-sizing: border-box;text-align: center;}#sk-container-id-45 label.sk-toggleable__label-arrow:before {content: \"▸\";float: left;margin-right: 0.25em;color: #696969;}#sk-container-id-45 label.sk-toggleable__label-arrow:hover:before {color: black;}#sk-container-id-45 div.sk-estimator:hover label.sk-toggleable__label-arrow:before {color: black;}#sk-container-id-45 div.sk-toggleable__content {max-height: 0;max-width: 0;overflow: hidden;text-align: left;background-color: #f0f8ff;}#sk-container-id-45 div.sk-toggleable__content pre {margin: 0.2em;color: black;border-radius: 0.25em;background-color: #f0f8ff;}#sk-container-id-45 input.sk-toggleable__control:checked~div.sk-toggleable__content {max-height: 200px;max-width: 100%;overflow: auto;}#sk-container-id-45 input.sk-toggleable__control:checked~label.sk-toggleable__label-arrow:before {content: \"▾\";}#sk-container-id-45 div.sk-estimator input.sk-toggleable__control:checked~label.sk-toggleable__label {background-color: #d4ebff;}#sk-container-id-45 div.sk-label input.sk-toggleable__control:checked~label.sk-toggleable__label {background-color: #d4ebff;}#sk-container-id-45 input.sk-hidden--visually {border: 0;clip: rect(1px 1px 1px 1px);clip: rect(1px, 1px, 1px, 1px);height: 1px;margin: -1px;overflow: hidden;padding: 0;position: absolute;width: 1px;}#sk-container-id-45 div.sk-estimator {font-family: monospace;background-color: #f0f8ff;border: 1px dotted black;border-radius: 0.25em;box-sizing: border-box;margin-bottom: 0.5em;}#sk-container-id-45 div.sk-estimator:hover {background-color: #d4ebff;}#sk-container-id-45 div.sk-parallel-item::after {content: \"\";width: 100%;border-bottom: 1px solid gray;flex-grow: 1;}#sk-container-id-45 div.sk-label:hover label.sk-toggleable__label {background-color: #d4ebff;}#sk-container-id-45 div.sk-serial::before {content: \"\";position: absolute;border-left: 1px solid gray;box-sizing: border-box;top: 0;bottom: 0;left: 50%;z-index: 0;}#sk-container-id-45 div.sk-serial {display: flex;flex-direction: column;align-items: center;background-color: white;padding-right: 0.2em;padding-left: 0.2em;position: relative;}#sk-container-id-45 div.sk-item {position: relative;z-index: 1;}#sk-container-id-45 div.sk-parallel {display: flex;align-items: stretch;justify-content: center;background-color: white;position: relative;}#sk-container-id-45 div.sk-item::before, #sk-container-id-45 div.sk-parallel-item::before {content: \"\";position: absolute;border-left: 1px solid gray;box-sizing: border-box;top: 0;bottom: 0;left: 50%;z-index: -1;}#sk-container-id-45 div.sk-parallel-item {display: flex;flex-direction: column;z-index: 1;position: relative;background-color: white;}#sk-container-id-45 div.sk-parallel-item:first-child::after {align-self: flex-end;width: 50%;}#sk-container-id-45 div.sk-parallel-item:last-child::after {align-self: flex-start;width: 50%;}#sk-container-id-45 div.sk-parallel-item:only-child::after {width: 0;}#sk-container-id-45 div.sk-dashed-wrapped {border: 1px dashed gray;margin: 0 0.4em 0.5em 0.4em;box-sizing: border-box;padding-bottom: 0.4em;background-color: white;}#sk-container-id-45 div.sk-label label {font-family: monospace;font-weight: bold;display: inline-block;line-height: 1.2em;}#sk-container-id-45 div.sk-label-container {text-align: center;}#sk-container-id-45 div.sk-container {/* jupyter's `normalize.less` sets `[hidden] { display: none; }` but bootstrap.min.css set `[hidden] { display: none !important; }` so we also need the `!important` here to be able to override the default hidden behavior on the sphinx rendered scikit-learn.org. See: https://github.com/scikit-learn/scikit-learn/issues/21755 */display: inline-block !important;position: relative;}#sk-container-id-45 div.sk-text-repr-fallback {display: none;}</style><div id=\"sk-container-id-45\" class=\"sk-top-container\"><div class=\"sk-text-repr-fallback\"><pre>RandomForestClassifier(criterion=&#x27;entropy&#x27;)</pre><b>In a Jupyter environment, please rerun this cell to show the HTML representation or trust the notebook. <br />On GitHub, the HTML representation is unable to render, please try loading this page with nbviewer.org.</b></div><div class=\"sk-container\" hidden><div class=\"sk-item\"><div class=\"sk-estimator sk-toggleable\"><input class=\"sk-toggleable__control sk-hidden--visually\" id=\"sk-estimator-id-45\" type=\"checkbox\" checked><label for=\"sk-estimator-id-45\" class=\"sk-toggleable__label sk-toggleable__label-arrow\">RandomForestClassifier</label><div class=\"sk-toggleable__content\"><pre>RandomForestClassifier(criterion=&#x27;entropy&#x27;)</pre></div></div></div></div></div>"
            ]
          },
          "metadata": {},
          "execution_count": 208
        }
      ]
    },
    {
      "cell_type": "code",
      "source": [
        "y_predict = classifier.predict(X_test)\n",
        "y_predict"
      ],
      "metadata": {
        "colab": {
          "base_uri": "https://localhost:8080/"
        },
        "id": "zMMz134wvTZB",
        "outputId": "9f1304fc-75d7-485f-8ca8-c2b132170a86"
      },
      "execution_count": null,
      "outputs": [
        {
          "output_type": "execute_result",
          "data": {
            "text/plain": [
              "array([1, 0, 0, 0, 1, 0, 0, 1, 0, 0, 1, 1, 1, 0, 1, 0, 1, 1, 0, 0, 0, 0,\n",
              "       1, 0, 1, 0, 0, 0, 1, 0, 1, 1, 0, 1, 0, 1, 1, 0, 1, 0, 1, 1, 1, 0,\n",
              "       0, 1, 0, 0, 1, 0, 1, 1, 0, 1, 0, 1, 0, 0, 0, 0, 0, 0, 0, 1, 1, 0,\n",
              "       0, 1, 1, 0, 1, 1, 1, 1, 1, 0, 0, 0, 1, 0, 0, 0, 0, 1, 0, 1, 0, 0,\n",
              "       0, 1, 1, 0, 0, 0, 1, 0, 0, 1, 1, 0, 0, 0, 0, 0, 1, 0, 1, 0, 0, 0,\n",
              "       0, 0, 1, 1, 0, 0, 1, 0, 0, 1, 1, 1, 1, 0, 0, 0, 0, 1, 1, 0, 1, 0,\n",
              "       0, 1, 1, 0, 0, 0, 0, 0, 0, 1, 1, 0, 1, 0, 0, 0, 0, 0, 0, 1, 1, 0,\n",
              "       1, 1, 0, 0, 0, 0, 1, 0, 1, 1, 1, 1, 1, 0, 0, 1, 1, 1, 1, 0, 1, 0,\n",
              "       0, 0, 0, 1, 0, 0, 1, 1, 1, 0, 0, 1, 0, 1, 0, 0, 0, 0, 0, 1, 1, 1,\n",
              "       0, 0])"
            ]
          },
          "metadata": {},
          "execution_count": 209
        }
      ]
    },
    {
      "cell_type": "code",
      "source": [
        "from sklearn.metrics import accuracy_score\n",
        "from sklearn.metrics import precision_score\n",
        "from sklearn.metrics import recall_score\n",
        "\n",
        "score1 = accuracy_score(y_test,y_predict)\n",
        "score2 = precision_score(y_test,y_predict)\n",
        "score3 = recall_score(y_test,y_predict)\n",
        "\n",
        "print(f\"The accuracy score for the model is {score1*100}%\")\n",
        "print(f\"The precision score for the model is {score2*100}%\")\n",
        "print(f\"The recall score for the model is {score3*100}%\")"
      ],
      "metadata": {
        "colab": {
          "base_uri": "https://localhost:8080/"
        },
        "id": "xQ41oAlNvUfT",
        "outputId": "2666a443-1d0c-4e8d-fb77-1ea3618f5783"
      },
      "execution_count": null,
      "outputs": [
        {
          "output_type": "stream",
          "name": "stdout",
          "text": [
            "The accuracy score for the model is 76.5%\n",
            "The precision score for the model is 81.17647058823529%\n",
            "The recall score for the model is 69.0%\n"
          ]
        }
      ]
    },
    {
      "cell_type": "markdown",
      "source": [
        "<h3>Hyperparameter tuning</h3>"
      ],
      "metadata": {
        "id": "pWKHTf03ghdF"
      }
    },
    {
      "cell_type": "code",
      "source": [
        "best_score = 0.0\n",
        "dep = 0\n",
        "for i in range (1,50):\n",
        "  classifier = RandomForestClassifier(criterion=\"entropy\", max_depth=i)\n",
        "  classifier.fit(X_train,y_train)\n",
        "  y_predict = classifier.predict(X_test)\n",
        "  score = accuracy_score(y_test,y_predict)\n",
        "  if score > best_score:\n",
        "    best_score = score\n",
        "    dep = i\n",
        "\n",
        "print(\"Best accuracy Score is \"+str(best_score*100)+\" for max_depth \"+str(dep))"
      ],
      "metadata": {
        "colab": {
          "base_uri": "https://localhost:8080/"
        },
        "id": "yOY1nhpPv1DY",
        "outputId": "fedcb14e-8498-4193-c6e1-21414b9dcd46"
      },
      "execution_count": null,
      "outputs": [
        {
          "output_type": "stream",
          "name": "stdout",
          "text": [
            "Best accuracy Score is 81.5 for max_depth 14\n"
          ]
        }
      ]
    },
    {
      "cell_type": "markdown",
      "source": [
        "<h3>Using the best model as per hyperparameter tuning.</h3>"
      ],
      "metadata": {
        "id": "23Ww6B9bgtxD"
      }
    },
    {
      "cell_type": "code",
      "source": [
        "from sklearn.ensemble import RandomForestClassifier\n",
        "classifier = RandomForestClassifier(criterion=\"entropy\", max_depth=dep)\n",
        "classifier.fit(X_train,y_train)"
      ],
      "metadata": {
        "colab": {
          "base_uri": "https://localhost:8080/",
          "height": 75
        },
        "id": "7bsuMI5wg9To",
        "outputId": "174dd976-1b08-4c79-eab7-02d27ce31e97"
      },
      "execution_count": null,
      "outputs": [
        {
          "output_type": "execute_result",
          "data": {
            "text/plain": [
              "RandomForestClassifier(criterion='entropy', max_depth=14)"
            ],
            "text/html": [
              "<style>#sk-container-id-46 {color: black;background-color: white;}#sk-container-id-46 pre{padding: 0;}#sk-container-id-46 div.sk-toggleable {background-color: white;}#sk-container-id-46 label.sk-toggleable__label {cursor: pointer;display: block;width: 100%;margin-bottom: 0;padding: 0.3em;box-sizing: border-box;text-align: center;}#sk-container-id-46 label.sk-toggleable__label-arrow:before {content: \"▸\";float: left;margin-right: 0.25em;color: #696969;}#sk-container-id-46 label.sk-toggleable__label-arrow:hover:before {color: black;}#sk-container-id-46 div.sk-estimator:hover label.sk-toggleable__label-arrow:before {color: black;}#sk-container-id-46 div.sk-toggleable__content {max-height: 0;max-width: 0;overflow: hidden;text-align: left;background-color: #f0f8ff;}#sk-container-id-46 div.sk-toggleable__content pre {margin: 0.2em;color: black;border-radius: 0.25em;background-color: #f0f8ff;}#sk-container-id-46 input.sk-toggleable__control:checked~div.sk-toggleable__content {max-height: 200px;max-width: 100%;overflow: auto;}#sk-container-id-46 input.sk-toggleable__control:checked~label.sk-toggleable__label-arrow:before {content: \"▾\";}#sk-container-id-46 div.sk-estimator input.sk-toggleable__control:checked~label.sk-toggleable__label {background-color: #d4ebff;}#sk-container-id-46 div.sk-label input.sk-toggleable__control:checked~label.sk-toggleable__label {background-color: #d4ebff;}#sk-container-id-46 input.sk-hidden--visually {border: 0;clip: rect(1px 1px 1px 1px);clip: rect(1px, 1px, 1px, 1px);height: 1px;margin: -1px;overflow: hidden;padding: 0;position: absolute;width: 1px;}#sk-container-id-46 div.sk-estimator {font-family: monospace;background-color: #f0f8ff;border: 1px dotted black;border-radius: 0.25em;box-sizing: border-box;margin-bottom: 0.5em;}#sk-container-id-46 div.sk-estimator:hover {background-color: #d4ebff;}#sk-container-id-46 div.sk-parallel-item::after {content: \"\";width: 100%;border-bottom: 1px solid gray;flex-grow: 1;}#sk-container-id-46 div.sk-label:hover label.sk-toggleable__label {background-color: #d4ebff;}#sk-container-id-46 div.sk-serial::before {content: \"\";position: absolute;border-left: 1px solid gray;box-sizing: border-box;top: 0;bottom: 0;left: 50%;z-index: 0;}#sk-container-id-46 div.sk-serial {display: flex;flex-direction: column;align-items: center;background-color: white;padding-right: 0.2em;padding-left: 0.2em;position: relative;}#sk-container-id-46 div.sk-item {position: relative;z-index: 1;}#sk-container-id-46 div.sk-parallel {display: flex;align-items: stretch;justify-content: center;background-color: white;position: relative;}#sk-container-id-46 div.sk-item::before, #sk-container-id-46 div.sk-parallel-item::before {content: \"\";position: absolute;border-left: 1px solid gray;box-sizing: border-box;top: 0;bottom: 0;left: 50%;z-index: -1;}#sk-container-id-46 div.sk-parallel-item {display: flex;flex-direction: column;z-index: 1;position: relative;background-color: white;}#sk-container-id-46 div.sk-parallel-item:first-child::after {align-self: flex-end;width: 50%;}#sk-container-id-46 div.sk-parallel-item:last-child::after {align-self: flex-start;width: 50%;}#sk-container-id-46 div.sk-parallel-item:only-child::after {width: 0;}#sk-container-id-46 div.sk-dashed-wrapped {border: 1px dashed gray;margin: 0 0.4em 0.5em 0.4em;box-sizing: border-box;padding-bottom: 0.4em;background-color: white;}#sk-container-id-46 div.sk-label label {font-family: monospace;font-weight: bold;display: inline-block;line-height: 1.2em;}#sk-container-id-46 div.sk-label-container {text-align: center;}#sk-container-id-46 div.sk-container {/* jupyter's `normalize.less` sets `[hidden] { display: none; }` but bootstrap.min.css set `[hidden] { display: none !important; }` so we also need the `!important` here to be able to override the default hidden behavior on the sphinx rendered scikit-learn.org. See: https://github.com/scikit-learn/scikit-learn/issues/21755 */display: inline-block !important;position: relative;}#sk-container-id-46 div.sk-text-repr-fallback {display: none;}</style><div id=\"sk-container-id-46\" class=\"sk-top-container\"><div class=\"sk-text-repr-fallback\"><pre>RandomForestClassifier(criterion=&#x27;entropy&#x27;, max_depth=14)</pre><b>In a Jupyter environment, please rerun this cell to show the HTML representation or trust the notebook. <br />On GitHub, the HTML representation is unable to render, please try loading this page with nbviewer.org.</b></div><div class=\"sk-container\" hidden><div class=\"sk-item\"><div class=\"sk-estimator sk-toggleable\"><input class=\"sk-toggleable__control sk-hidden--visually\" id=\"sk-estimator-id-46\" type=\"checkbox\" checked><label for=\"sk-estimator-id-46\" class=\"sk-toggleable__label sk-toggleable__label-arrow\">RandomForestClassifier</label><div class=\"sk-toggleable__content\"><pre>RandomForestClassifier(criterion=&#x27;entropy&#x27;, max_depth=14)</pre></div></div></div></div></div>"
            ]
          },
          "metadata": {},
          "execution_count": 212
        }
      ]
    },
    {
      "cell_type": "code",
      "source": [
        "y_predict = classifier.predict(X_test)\n",
        "y_predict"
      ],
      "metadata": {
        "colab": {
          "base_uri": "https://localhost:8080/"
        },
        "id": "SwxlDupeg8_O",
        "outputId": "96a40ff1-8f3b-4d1e-cf8b-4736c6ba7ee0"
      },
      "execution_count": null,
      "outputs": [
        {
          "output_type": "execute_result",
          "data": {
            "text/plain": [
              "array([1, 0, 0, 0, 0, 0, 0, 1, 0, 0, 1, 1, 1, 0, 1, 0, 0, 1, 1, 0, 0, 0,\n",
              "       1, 1, 1, 0, 0, 0, 1, 0, 1, 1, 0, 1, 0, 1, 1, 0, 1, 0, 1, 1, 0, 0,\n",
              "       0, 1, 0, 0, 1, 0, 1, 0, 0, 1, 0, 1, 0, 0, 0, 0, 0, 0, 0, 0, 1, 0,\n",
              "       0, 1, 0, 0, 0, 1, 1, 1, 1, 0, 0, 0, 0, 1, 0, 0, 0, 1, 0, 1, 0, 0,\n",
              "       0, 1, 1, 0, 0, 0, 1, 0, 1, 1, 1, 0, 0, 0, 0, 0, 1, 1, 0, 0, 0, 0,\n",
              "       1, 1, 1, 1, 0, 0, 0, 0, 0, 1, 0, 1, 1, 1, 0, 0, 0, 1, 1, 1, 1, 0,\n",
              "       0, 0, 1, 0, 1, 0, 0, 0, 0, 1, 1, 0, 0, 0, 0, 0, 0, 0, 0, 1, 1, 0,\n",
              "       1, 1, 0, 0, 0, 1, 0, 0, 1, 1, 1, 1, 1, 0, 0, 1, 1, 1, 1, 0, 1, 0,\n",
              "       0, 0, 0, 1, 0, 1, 1, 1, 1, 0, 0, 1, 0, 1, 0, 1, 0, 0, 0, 1, 0, 1,\n",
              "       0, 0])"
            ]
          },
          "metadata": {},
          "execution_count": 213
        }
      ]
    },
    {
      "cell_type": "code",
      "source": [
        "from sklearn.metrics import accuracy_score\n",
        "from sklearn.metrics import precision_score\n",
        "from sklearn.metrics import recall_score\n",
        "\n",
        "score1 = accuracy_score(y_test,y_predict)\n",
        "score2 = precision_score(y_test,y_predict)\n",
        "score3 = recall_score(y_test,y_predict)\n",
        "\n",
        "print(f\"The accuracy score for the model is {score1*100}%\")\n",
        "print(f\"The precision score for the model is {score2*100}%\")\n",
        "print(f\"The recall score for the model is {score3*100}%\")"
      ],
      "metadata": {
        "colab": {
          "base_uri": "https://localhost:8080/"
        },
        "id": "vUOf_5uRg8VR",
        "outputId": "bd05b293-7f67-4ced-f608-264223d5d784"
      },
      "execution_count": null,
      "outputs": [
        {
          "output_type": "stream",
          "name": "stdout",
          "text": [
            "The accuracy score for the model is 79.5%\n",
            "The precision score for the model is 85.54216867469879%\n",
            "The recall score for the model is 71.0%\n"
          ]
        }
      ]
    },
    {
      "cell_type": "markdown",
      "source": [
        "<h3>Testing the model against random input.</h3>"
      ],
      "metadata": {
        "id": "oRWVDC2ljI88"
      }
    },
    {
      "cell_type": "code",
      "source": [
        "def predict_sentiment(sample_review):\n",
        "  sample_review = re.sub(pattern='[^a-zA-Z]',repl=' ',string = sample_review)\n",
        "  sample_review = sample_review.lower()\n",
        "  sample_review_words = sample_review.split()\n",
        "  sample_review_words = [ word for word in sample_review_words if not word in set(stopwords.words('english'))]\n",
        "  final_review = [ps().stem(word) for word in sample_review_words]\n",
        "  final_review = ' '.join(final_review)\n",
        "\n",
        "  temp = cv.transform([final_review]).toarray()\n",
        "  return classifier.predict(temp)"
      ],
      "metadata": {
        "id": "uWJ1Ny0ZjR6x"
      },
      "execution_count": null,
      "outputs": []
    },
    {
      "cell_type": "code",
      "source": [
        "sample_review = ['The food is really wonderful',\n",
        "                 'The food is bad and service is also not good',\n",
        "                 'Not tasty and the texture was just nasty',\n",
        "                 'Highly recommended',\n",
        "                 'The worst was the salmon sashimi']\n",
        "i=1\n",
        "for sample in sample_review:\n",
        "  if predict_sentiment(sample):\n",
        "    print(f'The review {i} is Positive')\n",
        "  else:\n",
        "    print(f'The review {i} is Negative')\n",
        "  i+=1"
      ],
      "metadata": {
        "colab": {
          "base_uri": "https://localhost:8080/"
        },
        "id": "gkIppSWSkU_O",
        "outputId": "e047ae3d-0d5d-4a9c-bbfd-50c5c8f0afe9"
      },
      "execution_count": null,
      "outputs": [
        {
          "output_type": "stream",
          "name": "stdout",
          "text": [
            "The review 1 is Positive\n",
            "The review 2 is Negative\n",
            "The review 3 is Negative\n",
            "The review 4 is Negative\n",
            "The review 5 is Negative\n"
          ]
        }
      ]
    },
    {
      "cell_type": "markdown",
      "source": [
        "# **Extra Trees Classifier**\n",
        "\n",
        "---\n",
        "\n"
      ],
      "metadata": {
        "id": "D41SY8vG9i73"
      }
    },
    {
      "cell_type": "code",
      "source": [
        "from sklearn.ensemble import ExtraTreesClassifier\n",
        "classifier = ExtraTreesClassifier()\n",
        "classifier.fit(X_train,y_train)"
      ],
      "metadata": {
        "colab": {
          "base_uri": "https://localhost:8080/",
          "height": 75
        },
        "id": "yEk-lpRlxMib",
        "outputId": "6d9f609a-3b33-48a0-a032-51e8565117be"
      },
      "execution_count": null,
      "outputs": [
        {
          "output_type": "execute_result",
          "data": {
            "text/plain": [
              "ExtraTreesClassifier()"
            ],
            "text/html": [
              "<style>#sk-container-id-53 {color: black;background-color: white;}#sk-container-id-53 pre{padding: 0;}#sk-container-id-53 div.sk-toggleable {background-color: white;}#sk-container-id-53 label.sk-toggleable__label {cursor: pointer;display: block;width: 100%;margin-bottom: 0;padding: 0.3em;box-sizing: border-box;text-align: center;}#sk-container-id-53 label.sk-toggleable__label-arrow:before {content: \"▸\";float: left;margin-right: 0.25em;color: #696969;}#sk-container-id-53 label.sk-toggleable__label-arrow:hover:before {color: black;}#sk-container-id-53 div.sk-estimator:hover label.sk-toggleable__label-arrow:before {color: black;}#sk-container-id-53 div.sk-toggleable__content {max-height: 0;max-width: 0;overflow: hidden;text-align: left;background-color: #f0f8ff;}#sk-container-id-53 div.sk-toggleable__content pre {margin: 0.2em;color: black;border-radius: 0.25em;background-color: #f0f8ff;}#sk-container-id-53 input.sk-toggleable__control:checked~div.sk-toggleable__content {max-height: 200px;max-width: 100%;overflow: auto;}#sk-container-id-53 input.sk-toggleable__control:checked~label.sk-toggleable__label-arrow:before {content: \"▾\";}#sk-container-id-53 div.sk-estimator input.sk-toggleable__control:checked~label.sk-toggleable__label {background-color: #d4ebff;}#sk-container-id-53 div.sk-label input.sk-toggleable__control:checked~label.sk-toggleable__label {background-color: #d4ebff;}#sk-container-id-53 input.sk-hidden--visually {border: 0;clip: rect(1px 1px 1px 1px);clip: rect(1px, 1px, 1px, 1px);height: 1px;margin: -1px;overflow: hidden;padding: 0;position: absolute;width: 1px;}#sk-container-id-53 div.sk-estimator {font-family: monospace;background-color: #f0f8ff;border: 1px dotted black;border-radius: 0.25em;box-sizing: border-box;margin-bottom: 0.5em;}#sk-container-id-53 div.sk-estimator:hover {background-color: #d4ebff;}#sk-container-id-53 div.sk-parallel-item::after {content: \"\";width: 100%;border-bottom: 1px solid gray;flex-grow: 1;}#sk-container-id-53 div.sk-label:hover label.sk-toggleable__label {background-color: #d4ebff;}#sk-container-id-53 div.sk-serial::before {content: \"\";position: absolute;border-left: 1px solid gray;box-sizing: border-box;top: 0;bottom: 0;left: 50%;z-index: 0;}#sk-container-id-53 div.sk-serial {display: flex;flex-direction: column;align-items: center;background-color: white;padding-right: 0.2em;padding-left: 0.2em;position: relative;}#sk-container-id-53 div.sk-item {position: relative;z-index: 1;}#sk-container-id-53 div.sk-parallel {display: flex;align-items: stretch;justify-content: center;background-color: white;position: relative;}#sk-container-id-53 div.sk-item::before, #sk-container-id-53 div.sk-parallel-item::before {content: \"\";position: absolute;border-left: 1px solid gray;box-sizing: border-box;top: 0;bottom: 0;left: 50%;z-index: -1;}#sk-container-id-53 div.sk-parallel-item {display: flex;flex-direction: column;z-index: 1;position: relative;background-color: white;}#sk-container-id-53 div.sk-parallel-item:first-child::after {align-self: flex-end;width: 50%;}#sk-container-id-53 div.sk-parallel-item:last-child::after {align-self: flex-start;width: 50%;}#sk-container-id-53 div.sk-parallel-item:only-child::after {width: 0;}#sk-container-id-53 div.sk-dashed-wrapped {border: 1px dashed gray;margin: 0 0.4em 0.5em 0.4em;box-sizing: border-box;padding-bottom: 0.4em;background-color: white;}#sk-container-id-53 div.sk-label label {font-family: monospace;font-weight: bold;display: inline-block;line-height: 1.2em;}#sk-container-id-53 div.sk-label-container {text-align: center;}#sk-container-id-53 div.sk-container {/* jupyter's `normalize.less` sets `[hidden] { display: none; }` but bootstrap.min.css set `[hidden] { display: none !important; }` so we also need the `!important` here to be able to override the default hidden behavior on the sphinx rendered scikit-learn.org. See: https://github.com/scikit-learn/scikit-learn/issues/21755 */display: inline-block !important;position: relative;}#sk-container-id-53 div.sk-text-repr-fallback {display: none;}</style><div id=\"sk-container-id-53\" class=\"sk-top-container\"><div class=\"sk-text-repr-fallback\"><pre>ExtraTreesClassifier()</pre><b>In a Jupyter environment, please rerun this cell to show the HTML representation or trust the notebook. <br />On GitHub, the HTML representation is unable to render, please try loading this page with nbviewer.org.</b></div><div class=\"sk-container\" hidden><div class=\"sk-item\"><div class=\"sk-estimator sk-toggleable\"><input class=\"sk-toggleable__control sk-hidden--visually\" id=\"sk-estimator-id-53\" type=\"checkbox\" checked><label for=\"sk-estimator-id-53\" class=\"sk-toggleable__label sk-toggleable__label-arrow\">ExtraTreesClassifier</label><div class=\"sk-toggleable__content\"><pre>ExtraTreesClassifier()</pre></div></div></div></div></div>"
            ]
          },
          "metadata": {},
          "execution_count": 244
        }
      ]
    },
    {
      "cell_type": "code",
      "source": [
        "y_predict = classifier.predict(X_test)\n",
        "y_predict"
      ],
      "metadata": {
        "colab": {
          "base_uri": "https://localhost:8080/"
        },
        "id": "gasgdWPBxVqh",
        "outputId": "07636fd9-6e7b-4315-f964-5e4bd7483b4b"
      },
      "execution_count": null,
      "outputs": [
        {
          "output_type": "execute_result",
          "data": {
            "text/plain": [
              "array([1, 0, 0, 0, 1, 0, 0, 1, 0, 0, 1, 1, 1, 0, 1, 0, 1, 1, 1, 0, 0, 0,\n",
              "       1, 1, 1, 1, 0, 0, 1, 0, 1, 1, 0, 1, 0, 1, 1, 0, 1, 0, 1, 1, 1, 0,\n",
              "       1, 1, 0, 0, 1, 0, 1, 1, 0, 1, 0, 1, 0, 0, 0, 0, 0, 0, 0, 1, 1, 0,\n",
              "       0, 1, 0, 0, 1, 1, 1, 1, 1, 0, 0, 0, 1, 0, 0, 0, 0, 1, 0, 1, 0, 0,\n",
              "       0, 1, 1, 0, 0, 0, 1, 0, 0, 1, 1, 0, 0, 0, 0, 0, 1, 1, 1, 0, 0, 0,\n",
              "       0, 0, 1, 1, 0, 0, 0, 0, 0, 1, 1, 1, 1, 0, 0, 0, 0, 1, 1, 0, 1, 0,\n",
              "       0, 1, 1, 0, 1, 1, 0, 0, 0, 1, 1, 0, 1, 0, 0, 0, 0, 0, 0, 1, 1, 0,\n",
              "       1, 1, 0, 0, 0, 1, 1, 0, 1, 1, 1, 1, 1, 0, 0, 1, 1, 1, 1, 1, 1, 0,\n",
              "       0, 0, 0, 1, 0, 1, 1, 1, 1, 0, 0, 1, 0, 1, 0, 0, 0, 0, 0, 1, 1, 1,\n",
              "       0, 1])"
            ]
          },
          "metadata": {},
          "execution_count": 245
        }
      ]
    },
    {
      "cell_type": "code",
      "source": [
        "from sklearn.metrics import accuracy_score\n",
        "from sklearn.metrics import precision_score\n",
        "from sklearn.metrics import recall_score\n",
        "\n",
        "score1 = accuracy_score(y_test,y_predict)\n",
        "score2 = precision_score(y_test,y_predict)\n",
        "score3 = recall_score(y_test,y_predict)\n",
        "\n",
        "print(f\"The accuracy score for the model is {score1*100}%\")\n",
        "print(f\"The precision score for the model is {score2*100}%\")\n",
        "print(f\"The recall score for the model is {score3*100}%\")"
      ],
      "metadata": {
        "colab": {
          "base_uri": "https://localhost:8080/"
        },
        "id": "IYTSjEDYxYCU",
        "outputId": "2ce3d4f4-f250-47f6-d539-2d3234f20f14"
      },
      "execution_count": null,
      "outputs": [
        {
          "output_type": "stream",
          "name": "stdout",
          "text": [
            "The accuracy score for the model is 78.0%\n",
            "The precision score for the model is 79.7872340425532%\n",
            "The recall score for the model is 75.0%\n"
          ]
        }
      ]
    },
    {
      "cell_type": "markdown",
      "source": [
        "<h3>Hyperparameter Tuning</h3>"
      ],
      "metadata": {
        "id": "0B6e1hCEkeGc"
      }
    },
    {
      "cell_type": "code",
      "source": [
        "best_score = 0.0\n",
        "dep = 0\n",
        "for i in range (1,50):\n",
        "  classifier = ExtraTreesClassifier(criterion=\"entropy\", max_depth=i)\n",
        "  classifier.fit(X_train,y_train)\n",
        "  y_predict = classifier.predict(X_test)\n",
        "  score = accuracy_score(y_test,y_predict)\n",
        "  if score > best_score:\n",
        "    best_score = score\n",
        "    dep = i\n",
        "\n",
        "print(\"Best accuracy Score is \"+str(best_score*100)+\" for max_depth \"+str(dep))"
      ],
      "metadata": {
        "colab": {
          "base_uri": "https://localhost:8080/"
        },
        "id": "f1dlyAHGxlV-",
        "outputId": "d47d3489-6424-4b2f-ae96-8df526297cf0"
      },
      "execution_count": null,
      "outputs": [
        {
          "output_type": "stream",
          "name": "stdout",
          "text": [
            "Best accuracy Score is 81.5 for max_depth 48\n"
          ]
        }
      ]
    },
    {
      "cell_type": "code",
      "source": [
        "from sklearn.ensemble import ExtraTreesClassifier\n",
        "classifier = ExtraTreesClassifier(criterion=\"entropy\", max_depth=dep)\n",
        "classifier.fit(X_train,y_train)"
      ],
      "metadata": {
        "colab": {
          "base_uri": "https://localhost:8080/",
          "height": 75
        },
        "id": "45M9YkZNsyfP",
        "outputId": "2647320d-0acd-4f6d-e869-e6ea00e93eb0"
      },
      "execution_count": null,
      "outputs": [
        {
          "output_type": "execute_result",
          "data": {
            "text/plain": [
              "ExtraTreesClassifier(criterion='entropy', max_depth=48)"
            ],
            "text/html": [
              "<style>#sk-container-id-63 {color: black;background-color: white;}#sk-container-id-63 pre{padding: 0;}#sk-container-id-63 div.sk-toggleable {background-color: white;}#sk-container-id-63 label.sk-toggleable__label {cursor: pointer;display: block;width: 100%;margin-bottom: 0;padding: 0.3em;box-sizing: border-box;text-align: center;}#sk-container-id-63 label.sk-toggleable__label-arrow:before {content: \"▸\";float: left;margin-right: 0.25em;color: #696969;}#sk-container-id-63 label.sk-toggleable__label-arrow:hover:before {color: black;}#sk-container-id-63 div.sk-estimator:hover label.sk-toggleable__label-arrow:before {color: black;}#sk-container-id-63 div.sk-toggleable__content {max-height: 0;max-width: 0;overflow: hidden;text-align: left;background-color: #f0f8ff;}#sk-container-id-63 div.sk-toggleable__content pre {margin: 0.2em;color: black;border-radius: 0.25em;background-color: #f0f8ff;}#sk-container-id-63 input.sk-toggleable__control:checked~div.sk-toggleable__content {max-height: 200px;max-width: 100%;overflow: auto;}#sk-container-id-63 input.sk-toggleable__control:checked~label.sk-toggleable__label-arrow:before {content: \"▾\";}#sk-container-id-63 div.sk-estimator input.sk-toggleable__control:checked~label.sk-toggleable__label {background-color: #d4ebff;}#sk-container-id-63 div.sk-label input.sk-toggleable__control:checked~label.sk-toggleable__label {background-color: #d4ebff;}#sk-container-id-63 input.sk-hidden--visually {border: 0;clip: rect(1px 1px 1px 1px);clip: rect(1px, 1px, 1px, 1px);height: 1px;margin: -1px;overflow: hidden;padding: 0;position: absolute;width: 1px;}#sk-container-id-63 div.sk-estimator {font-family: monospace;background-color: #f0f8ff;border: 1px dotted black;border-radius: 0.25em;box-sizing: border-box;margin-bottom: 0.5em;}#sk-container-id-63 div.sk-estimator:hover {background-color: #d4ebff;}#sk-container-id-63 div.sk-parallel-item::after {content: \"\";width: 100%;border-bottom: 1px solid gray;flex-grow: 1;}#sk-container-id-63 div.sk-label:hover label.sk-toggleable__label {background-color: #d4ebff;}#sk-container-id-63 div.sk-serial::before {content: \"\";position: absolute;border-left: 1px solid gray;box-sizing: border-box;top: 0;bottom: 0;left: 50%;z-index: 0;}#sk-container-id-63 div.sk-serial {display: flex;flex-direction: column;align-items: center;background-color: white;padding-right: 0.2em;padding-left: 0.2em;position: relative;}#sk-container-id-63 div.sk-item {position: relative;z-index: 1;}#sk-container-id-63 div.sk-parallel {display: flex;align-items: stretch;justify-content: center;background-color: white;position: relative;}#sk-container-id-63 div.sk-item::before, #sk-container-id-63 div.sk-parallel-item::before {content: \"\";position: absolute;border-left: 1px solid gray;box-sizing: border-box;top: 0;bottom: 0;left: 50%;z-index: -1;}#sk-container-id-63 div.sk-parallel-item {display: flex;flex-direction: column;z-index: 1;position: relative;background-color: white;}#sk-container-id-63 div.sk-parallel-item:first-child::after {align-self: flex-end;width: 50%;}#sk-container-id-63 div.sk-parallel-item:last-child::after {align-self: flex-start;width: 50%;}#sk-container-id-63 div.sk-parallel-item:only-child::after {width: 0;}#sk-container-id-63 div.sk-dashed-wrapped {border: 1px dashed gray;margin: 0 0.4em 0.5em 0.4em;box-sizing: border-box;padding-bottom: 0.4em;background-color: white;}#sk-container-id-63 div.sk-label label {font-family: monospace;font-weight: bold;display: inline-block;line-height: 1.2em;}#sk-container-id-63 div.sk-label-container {text-align: center;}#sk-container-id-63 div.sk-container {/* jupyter's `normalize.less` sets `[hidden] { display: none; }` but bootstrap.min.css set `[hidden] { display: none !important; }` so we also need the `!important` here to be able to override the default hidden behavior on the sphinx rendered scikit-learn.org. See: https://github.com/scikit-learn/scikit-learn/issues/21755 */display: inline-block !important;position: relative;}#sk-container-id-63 div.sk-text-repr-fallback {display: none;}</style><div id=\"sk-container-id-63\" class=\"sk-top-container\"><div class=\"sk-text-repr-fallback\"><pre>ExtraTreesClassifier(criterion=&#x27;entropy&#x27;, max_depth=48)</pre><b>In a Jupyter environment, please rerun this cell to show the HTML representation or trust the notebook. <br />On GitHub, the HTML representation is unable to render, please try loading this page with nbviewer.org.</b></div><div class=\"sk-container\" hidden><div class=\"sk-item\"><div class=\"sk-estimator sk-toggleable\"><input class=\"sk-toggleable__control sk-hidden--visually\" id=\"sk-estimator-id-63\" type=\"checkbox\" checked><label for=\"sk-estimator-id-63\" class=\"sk-toggleable__label sk-toggleable__label-arrow\">ExtraTreesClassifier</label><div class=\"sk-toggleable__content\"><pre>ExtraTreesClassifier(criterion=&#x27;entropy&#x27;, max_depth=48)</pre></div></div></div></div></div>"
            ]
          },
          "metadata": {},
          "execution_count": 272
        }
      ]
    },
    {
      "cell_type": "code",
      "source": [
        "y_predict = classifier.predict(X_test)\n",
        "y_predict"
      ],
      "metadata": {
        "colab": {
          "base_uri": "https://localhost:8080/"
        },
        "id": "jzUyFg6dsyK_",
        "outputId": "4544f7c1-c590-4afc-bde8-1b6b2b77694b"
      },
      "execution_count": null,
      "outputs": [
        {
          "output_type": "execute_result",
          "data": {
            "text/plain": [
              "array([1, 0, 0, 1, 1, 0, 0, 1, 0, 0, 1, 1, 1, 0, 1, 0, 0, 1, 1, 0, 0, 0,\n",
              "       1, 1, 1, 1, 0, 0, 1, 0, 1, 1, 0, 1, 0, 1, 1, 0, 1, 0, 1, 1, 0, 0,\n",
              "       1, 1, 0, 0, 1, 0, 1, 0, 0, 1, 0, 1, 0, 0, 0, 1, 0, 0, 0, 0, 1, 0,\n",
              "       0, 1, 0, 0, 0, 1, 1, 1, 1, 0, 0, 0, 1, 1, 0, 0, 0, 1, 1, 1, 0, 0,\n",
              "       0, 1, 1, 0, 1, 0, 1, 0, 1, 1, 1, 0, 0, 0, 0, 0, 1, 1, 0, 0, 0, 0,\n",
              "       1, 1, 1, 1, 0, 0, 0, 0, 0, 1, 0, 1, 0, 0, 0, 0, 0, 1, 1, 1, 1, 0,\n",
              "       0, 0, 1, 0, 1, 1, 1, 0, 0, 1, 0, 0, 1, 0, 0, 0, 0, 0, 1, 1, 1, 0,\n",
              "       1, 1, 0, 0, 0, 1, 1, 0, 1, 1, 1, 1, 1, 0, 0, 1, 1, 1, 1, 0, 1, 0,\n",
              "       0, 0, 0, 1, 0, 1, 1, 1, 1, 0, 0, 1, 0, 1, 0, 1, 0, 0, 0, 1, 0, 1,\n",
              "       0, 1])"
            ]
          },
          "metadata": {},
          "execution_count": 273
        }
      ]
    },
    {
      "cell_type": "code",
      "source": [
        "from sklearn.metrics import accuracy_score\n",
        "from sklearn.metrics import precision_score\n",
        "from sklearn.metrics import recall_score\n",
        "\n",
        "score1 = accuracy_score(y_test,y_predict)\n",
        "score2 = precision_score(y_test,y_predict)\n",
        "score3 = recall_score(y_test,y_predict)\n",
        "\n",
        "print(f\"The accuracy score for the model is {score1*100}%\")\n",
        "print(f\"The precision score for the model is {score2*100}%\")\n",
        "print(f\"The recall score for the model is {score3*100}%\")"
      ],
      "metadata": {
        "colab": {
          "base_uri": "https://localhost:8080/"
        },
        "id": "t1BcV33Ssx9W",
        "outputId": "069a0246-cb30-4889-e5ae-eefd3033021a"
      },
      "execution_count": null,
      "outputs": [
        {
          "output_type": "stream",
          "name": "stdout",
          "text": [
            "The accuracy score for the model is 81.0%\n",
            "The precision score for the model is 82.97872340425532%\n",
            "The recall score for the model is 78.0%\n"
          ]
        }
      ]
    },
    {
      "cell_type": "markdown",
      "source": [
        "<h3>Testing the model against random input</h3>"
      ],
      "metadata": {
        "id": "be_05yfKlAZ9"
      }
    },
    {
      "cell_type": "code",
      "source": [
        "def predict_sentiment(sample_review):\n",
        "  sample_review = re.sub(pattern='[^a-zA-Z]',repl=' ',string = sample_review)\n",
        "  sample_review = sample_review.lower()\n",
        "  sample_review_words = sample_review.split()\n",
        "  sample_review_words = [ word for word in sample_review_words if not word in set(stopwords.words('english'))]\n",
        "  final_review = [ps().stem(word) for word in sample_review_words]\n",
        "  final_review = ' '.join(final_review)\n",
        "\n",
        "  temp = cv.transform([final_review]).toarray()\n",
        "  return classifier.predict(temp)"
      ],
      "metadata": {
        "id": "VL2KR-bKlJYC"
      },
      "execution_count": null,
      "outputs": []
    },
    {
      "cell_type": "code",
      "source": [
        "sample_review = ['The food is really wonderful',\n",
        "                 'The food is bad and service is also not good',\n",
        "                 'Not tasty and the texture was just nasty',\n",
        "                 'Highly recommended',\n",
        "                 'The worst was the salmon sashimi']\n",
        "i=1\n",
        "for sample in sample_review:\n",
        "  if predict_sentiment(sample):\n",
        "    print(f'The review {i} is Positive')\n",
        "  else:\n",
        "    print(f'The review {i} is Negative')\n",
        "  i+=1"
      ],
      "metadata": {
        "colab": {
          "base_uri": "https://localhost:8080/"
        },
        "id": "SLe-goJ2meXO",
        "outputId": "89c45166-a835-4220-9762-3877c0a19443"
      },
      "execution_count": null,
      "outputs": [
        {
          "output_type": "stream",
          "name": "stdout",
          "text": [
            "The review 1 is Positive\n",
            "The review 2 is Negative\n",
            "The review 3 is Negative\n",
            "The review 4 is Positive\n",
            "The review 5 is Negative\n"
          ]
        }
      ]
    },
    {
      "cell_type": "markdown",
      "source": [
        "# **KNeighborsClassifier**\n",
        "\n",
        "---\n",
        "\n"
      ],
      "metadata": {
        "id": "gKf5Xg3N88UB"
      }
    },
    {
      "cell_type": "code",
      "source": [
        "from sklearn.neighbors import KNeighborsClassifier\n",
        "classifier = KNeighborsClassifier()\n",
        "classifier.fit(X_train,y_train)"
      ],
      "metadata": {
        "colab": {
          "base_uri": "https://localhost:8080/",
          "height": 75
        },
        "id": "ANr503aEd6ak",
        "outputId": "20d8170e-2882-4f4e-b0fc-1434331e44c8"
      },
      "execution_count": null,
      "outputs": [
        {
          "output_type": "execute_result",
          "data": {
            "text/plain": [
              "KNeighborsClassifier()"
            ],
            "text/html": [
              "<style>#sk-container-id-48 {color: black;background-color: white;}#sk-container-id-48 pre{padding: 0;}#sk-container-id-48 div.sk-toggleable {background-color: white;}#sk-container-id-48 label.sk-toggleable__label {cursor: pointer;display: block;width: 100%;margin-bottom: 0;padding: 0.3em;box-sizing: border-box;text-align: center;}#sk-container-id-48 label.sk-toggleable__label-arrow:before {content: \"▸\";float: left;margin-right: 0.25em;color: #696969;}#sk-container-id-48 label.sk-toggleable__label-arrow:hover:before {color: black;}#sk-container-id-48 div.sk-estimator:hover label.sk-toggleable__label-arrow:before {color: black;}#sk-container-id-48 div.sk-toggleable__content {max-height: 0;max-width: 0;overflow: hidden;text-align: left;background-color: #f0f8ff;}#sk-container-id-48 div.sk-toggleable__content pre {margin: 0.2em;color: black;border-radius: 0.25em;background-color: #f0f8ff;}#sk-container-id-48 input.sk-toggleable__control:checked~div.sk-toggleable__content {max-height: 200px;max-width: 100%;overflow: auto;}#sk-container-id-48 input.sk-toggleable__control:checked~label.sk-toggleable__label-arrow:before {content: \"▾\";}#sk-container-id-48 div.sk-estimator input.sk-toggleable__control:checked~label.sk-toggleable__label {background-color: #d4ebff;}#sk-container-id-48 div.sk-label input.sk-toggleable__control:checked~label.sk-toggleable__label {background-color: #d4ebff;}#sk-container-id-48 input.sk-hidden--visually {border: 0;clip: rect(1px 1px 1px 1px);clip: rect(1px, 1px, 1px, 1px);height: 1px;margin: -1px;overflow: hidden;padding: 0;position: absolute;width: 1px;}#sk-container-id-48 div.sk-estimator {font-family: monospace;background-color: #f0f8ff;border: 1px dotted black;border-radius: 0.25em;box-sizing: border-box;margin-bottom: 0.5em;}#sk-container-id-48 div.sk-estimator:hover {background-color: #d4ebff;}#sk-container-id-48 div.sk-parallel-item::after {content: \"\";width: 100%;border-bottom: 1px solid gray;flex-grow: 1;}#sk-container-id-48 div.sk-label:hover label.sk-toggleable__label {background-color: #d4ebff;}#sk-container-id-48 div.sk-serial::before {content: \"\";position: absolute;border-left: 1px solid gray;box-sizing: border-box;top: 0;bottom: 0;left: 50%;z-index: 0;}#sk-container-id-48 div.sk-serial {display: flex;flex-direction: column;align-items: center;background-color: white;padding-right: 0.2em;padding-left: 0.2em;position: relative;}#sk-container-id-48 div.sk-item {position: relative;z-index: 1;}#sk-container-id-48 div.sk-parallel {display: flex;align-items: stretch;justify-content: center;background-color: white;position: relative;}#sk-container-id-48 div.sk-item::before, #sk-container-id-48 div.sk-parallel-item::before {content: \"\";position: absolute;border-left: 1px solid gray;box-sizing: border-box;top: 0;bottom: 0;left: 50%;z-index: -1;}#sk-container-id-48 div.sk-parallel-item {display: flex;flex-direction: column;z-index: 1;position: relative;background-color: white;}#sk-container-id-48 div.sk-parallel-item:first-child::after {align-self: flex-end;width: 50%;}#sk-container-id-48 div.sk-parallel-item:last-child::after {align-self: flex-start;width: 50%;}#sk-container-id-48 div.sk-parallel-item:only-child::after {width: 0;}#sk-container-id-48 div.sk-dashed-wrapped {border: 1px dashed gray;margin: 0 0.4em 0.5em 0.4em;box-sizing: border-box;padding-bottom: 0.4em;background-color: white;}#sk-container-id-48 div.sk-label label {font-family: monospace;font-weight: bold;display: inline-block;line-height: 1.2em;}#sk-container-id-48 div.sk-label-container {text-align: center;}#sk-container-id-48 div.sk-container {/* jupyter's `normalize.less` sets `[hidden] { display: none; }` but bootstrap.min.css set `[hidden] { display: none !important; }` so we also need the `!important` here to be able to override the default hidden behavior on the sphinx rendered scikit-learn.org. See: https://github.com/scikit-learn/scikit-learn/issues/21755 */display: inline-block !important;position: relative;}#sk-container-id-48 div.sk-text-repr-fallback {display: none;}</style><div id=\"sk-container-id-48\" class=\"sk-top-container\"><div class=\"sk-text-repr-fallback\"><pre>KNeighborsClassifier()</pre><b>In a Jupyter environment, please rerun this cell to show the HTML representation or trust the notebook. <br />On GitHub, the HTML representation is unable to render, please try loading this page with nbviewer.org.</b></div><div class=\"sk-container\" hidden><div class=\"sk-item\"><div class=\"sk-estimator sk-toggleable\"><input class=\"sk-toggleable__control sk-hidden--visually\" id=\"sk-estimator-id-48\" type=\"checkbox\" checked><label for=\"sk-estimator-id-48\" class=\"sk-toggleable__label sk-toggleable__label-arrow\">KNeighborsClassifier</label><div class=\"sk-toggleable__content\"><pre>KNeighborsClassifier()</pre></div></div></div></div></div>"
            ]
          },
          "metadata": {},
          "execution_count": 223
        }
      ]
    },
    {
      "cell_type": "code",
      "source": [
        "y_predict = classifier.predict(X_test)\n",
        "y_predict"
      ],
      "metadata": {
        "colab": {
          "base_uri": "https://localhost:8080/"
        },
        "id": "33hjhCq2eEPJ",
        "outputId": "d2d6019f-ebfe-4e49-a217-2f239063404c"
      },
      "execution_count": null,
      "outputs": [
        {
          "output_type": "execute_result",
          "data": {
            "text/plain": [
              "array([1, 0, 0, 0, 0, 0, 0, 0, 0, 0, 1, 1, 1, 0, 1, 0, 1, 1, 0, 0, 1, 0,\n",
              "       1, 0, 1, 1, 0, 0, 1, 0, 1, 0, 0, 1, 0, 0, 1, 0, 1, 1, 1, 1, 1, 0,\n",
              "       0, 1, 0, 0, 1, 0, 1, 1, 0, 0, 0, 0, 0, 0, 0, 0, 0, 0, 1, 1, 1, 0,\n",
              "       1, 1, 1, 0, 1, 0, 1, 0, 0, 0, 0, 1, 1, 0, 0, 0, 0, 1, 0, 0, 0, 0,\n",
              "       0, 0, 0, 0, 0, 0, 0, 0, 0, 0, 1, 0, 0, 0, 0, 0, 0, 1, 1, 0, 0, 0,\n",
              "       0, 0, 0, 1, 0, 0, 0, 1, 1, 1, 0, 1, 0, 0, 0, 0, 1, 0, 1, 1, 1, 0,\n",
              "       0, 0, 1, 0, 0, 0, 0, 0, 0, 1, 1, 0, 0, 0, 1, 0, 0, 0, 0, 1, 1, 0,\n",
              "       0, 0, 0, 0, 0, 0, 0, 0, 1, 1, 0, 1, 1, 0, 0, 1, 1, 1, 1, 1, 1, 1,\n",
              "       0, 0, 0, 0, 1, 0, 0, 1, 1, 0, 0, 0, 0, 1, 0, 0, 0, 0, 0, 0, 0, 1,\n",
              "       0, 0])"
            ]
          },
          "metadata": {},
          "execution_count": 224
        }
      ]
    },
    {
      "cell_type": "code",
      "source": [
        "from sklearn.metrics import accuracy_score\n",
        "from sklearn.metrics import precision_score\n",
        "from sklearn.metrics import recall_score\n",
        "\n",
        "score1 = accuracy_score(y_test,y_predict)\n",
        "score2 = precision_score(y_test,y_predict)\n",
        "score3 = recall_score(y_test,y_predict)\n",
        "\n",
        "print(f\"The accuracy score for the model is {score1*100}%\")\n",
        "print(f\"The precision score for the model is {score2*100}%\")\n",
        "print(f\"The recall score for the model is {score3*100}%\")"
      ],
      "metadata": {
        "colab": {
          "base_uri": "https://localhost:8080/"
        },
        "id": "tcmj0Jj4eHPg",
        "outputId": "fa775339-0d48-4ea4-e69f-526476a64c2c"
      },
      "execution_count": null,
      "outputs": [
        {
          "output_type": "stream",
          "name": "stdout",
          "text": [
            "The accuracy score for the model is 63.5%\n",
            "The precision score for the model is 69.56521739130434%\n",
            "The recall score for the model is 48.0%\n"
          ]
        }
      ]
    },
    {
      "cell_type": "markdown",
      "source": [
        "<h3>Hyperparameter Tuning</h3>"
      ],
      "metadata": {
        "id": "ghj6oixEeTUU"
      }
    },
    {
      "cell_type": "code",
      "source": [
        "best_score = 0.0\n",
        "n = 0\n",
        "for i in range (1,100):\n",
        "  classifier = KNeighborsClassifier(n_neighbors=i)\n",
        "  classifier.fit(X_train,y_train)\n",
        "  y_predict = classifier.predict(X_test)\n",
        "  score = accuracy_score(y_test,y_predict)\n",
        "  if score > best_score:\n",
        "    best_score = score\n",
        "    n = i\n",
        "\n",
        "print(\"Best accuracy Score is \"+str(best_score*100)+\" for neighbours \"+str(n))"
      ],
      "metadata": {
        "colab": {
          "base_uri": "https://localhost:8080/"
        },
        "id": "Cjk24wvdeP-G",
        "outputId": "47c6f120-d492-43cf-b496-da3bd730a718"
      },
      "execution_count": null,
      "outputs": [
        {
          "output_type": "stream",
          "name": "stdout",
          "text": [
            "Best accuracy Score is 67.5 for neighbours 21\n"
          ]
        }
      ]
    },
    {
      "cell_type": "markdown",
      "source": [
        "<h3>Using the best model as per hyperparameter tuning</h3>"
      ],
      "metadata": {
        "id": "srR1xMzWbFCo"
      }
    },
    {
      "cell_type": "code",
      "source": [
        "from sklearn.neighbors import KNeighborsClassifier\n",
        "classifier = KNeighborsClassifier(n_neighbors=n)\n",
        "classifier.fit(X_train,y_train)"
      ],
      "metadata": {
        "colab": {
          "base_uri": "https://localhost:8080/",
          "height": 75
        },
        "id": "73b5QkvqbNcL",
        "outputId": "ce679895-1a8a-427d-b1d1-dfaa5cb2bb1d"
      },
      "execution_count": null,
      "outputs": [
        {
          "output_type": "execute_result",
          "data": {
            "text/plain": [
              "KNeighborsClassifier(n_neighbors=21)"
            ],
            "text/html": [
              "<style>#sk-container-id-49 {color: black;background-color: white;}#sk-container-id-49 pre{padding: 0;}#sk-container-id-49 div.sk-toggleable {background-color: white;}#sk-container-id-49 label.sk-toggleable__label {cursor: pointer;display: block;width: 100%;margin-bottom: 0;padding: 0.3em;box-sizing: border-box;text-align: center;}#sk-container-id-49 label.sk-toggleable__label-arrow:before {content: \"▸\";float: left;margin-right: 0.25em;color: #696969;}#sk-container-id-49 label.sk-toggleable__label-arrow:hover:before {color: black;}#sk-container-id-49 div.sk-estimator:hover label.sk-toggleable__label-arrow:before {color: black;}#sk-container-id-49 div.sk-toggleable__content {max-height: 0;max-width: 0;overflow: hidden;text-align: left;background-color: #f0f8ff;}#sk-container-id-49 div.sk-toggleable__content pre {margin: 0.2em;color: black;border-radius: 0.25em;background-color: #f0f8ff;}#sk-container-id-49 input.sk-toggleable__control:checked~div.sk-toggleable__content {max-height: 200px;max-width: 100%;overflow: auto;}#sk-container-id-49 input.sk-toggleable__control:checked~label.sk-toggleable__label-arrow:before {content: \"▾\";}#sk-container-id-49 div.sk-estimator input.sk-toggleable__control:checked~label.sk-toggleable__label {background-color: #d4ebff;}#sk-container-id-49 div.sk-label input.sk-toggleable__control:checked~label.sk-toggleable__label {background-color: #d4ebff;}#sk-container-id-49 input.sk-hidden--visually {border: 0;clip: rect(1px 1px 1px 1px);clip: rect(1px, 1px, 1px, 1px);height: 1px;margin: -1px;overflow: hidden;padding: 0;position: absolute;width: 1px;}#sk-container-id-49 div.sk-estimator {font-family: monospace;background-color: #f0f8ff;border: 1px dotted black;border-radius: 0.25em;box-sizing: border-box;margin-bottom: 0.5em;}#sk-container-id-49 div.sk-estimator:hover {background-color: #d4ebff;}#sk-container-id-49 div.sk-parallel-item::after {content: \"\";width: 100%;border-bottom: 1px solid gray;flex-grow: 1;}#sk-container-id-49 div.sk-label:hover label.sk-toggleable__label {background-color: #d4ebff;}#sk-container-id-49 div.sk-serial::before {content: \"\";position: absolute;border-left: 1px solid gray;box-sizing: border-box;top: 0;bottom: 0;left: 50%;z-index: 0;}#sk-container-id-49 div.sk-serial {display: flex;flex-direction: column;align-items: center;background-color: white;padding-right: 0.2em;padding-left: 0.2em;position: relative;}#sk-container-id-49 div.sk-item {position: relative;z-index: 1;}#sk-container-id-49 div.sk-parallel {display: flex;align-items: stretch;justify-content: center;background-color: white;position: relative;}#sk-container-id-49 div.sk-item::before, #sk-container-id-49 div.sk-parallel-item::before {content: \"\";position: absolute;border-left: 1px solid gray;box-sizing: border-box;top: 0;bottom: 0;left: 50%;z-index: -1;}#sk-container-id-49 div.sk-parallel-item {display: flex;flex-direction: column;z-index: 1;position: relative;background-color: white;}#sk-container-id-49 div.sk-parallel-item:first-child::after {align-self: flex-end;width: 50%;}#sk-container-id-49 div.sk-parallel-item:last-child::after {align-self: flex-start;width: 50%;}#sk-container-id-49 div.sk-parallel-item:only-child::after {width: 0;}#sk-container-id-49 div.sk-dashed-wrapped {border: 1px dashed gray;margin: 0 0.4em 0.5em 0.4em;box-sizing: border-box;padding-bottom: 0.4em;background-color: white;}#sk-container-id-49 div.sk-label label {font-family: monospace;font-weight: bold;display: inline-block;line-height: 1.2em;}#sk-container-id-49 div.sk-label-container {text-align: center;}#sk-container-id-49 div.sk-container {/* jupyter's `normalize.less` sets `[hidden] { display: none; }` but bootstrap.min.css set `[hidden] { display: none !important; }` so we also need the `!important` here to be able to override the default hidden behavior on the sphinx rendered scikit-learn.org. See: https://github.com/scikit-learn/scikit-learn/issues/21755 */display: inline-block !important;position: relative;}#sk-container-id-49 div.sk-text-repr-fallback {display: none;}</style><div id=\"sk-container-id-49\" class=\"sk-top-container\"><div class=\"sk-text-repr-fallback\"><pre>KNeighborsClassifier(n_neighbors=21)</pre><b>In a Jupyter environment, please rerun this cell to show the HTML representation or trust the notebook. <br />On GitHub, the HTML representation is unable to render, please try loading this page with nbviewer.org.</b></div><div class=\"sk-container\" hidden><div class=\"sk-item\"><div class=\"sk-estimator sk-toggleable\"><input class=\"sk-toggleable__control sk-hidden--visually\" id=\"sk-estimator-id-49\" type=\"checkbox\" checked><label for=\"sk-estimator-id-49\" class=\"sk-toggleable__label sk-toggleable__label-arrow\">KNeighborsClassifier</label><div class=\"sk-toggleable__content\"><pre>KNeighborsClassifier(n_neighbors=21)</pre></div></div></div></div></div>"
            ]
          },
          "metadata": {},
          "execution_count": 227
        }
      ]
    },
    {
      "cell_type": "code",
      "source": [
        "y_predict = classifier.predict(X_test)\n",
        "y_predict"
      ],
      "metadata": {
        "colab": {
          "base_uri": "https://localhost:8080/"
        },
        "id": "Tty_gaylb90Z",
        "outputId": "ef2f67b0-ec0e-4489-e0d0-3ffef94a03c9"
      },
      "execution_count": null,
      "outputs": [
        {
          "output_type": "execute_result",
          "data": {
            "text/plain": [
              "array([1, 0, 0, 0, 0, 0, 0, 1, 0, 1, 1, 0, 0, 0, 1, 0, 0, 1, 1, 0, 0, 0,\n",
              "       1, 0, 1, 1, 0, 0, 0, 0, 1, 0, 0, 1, 0, 0, 1, 0, 1, 0, 1, 1, 1, 0,\n",
              "       0, 0, 0, 0, 0, 0, 1, 1, 0, 0, 0, 0, 0, 0, 0, 0, 0, 0, 0, 0, 1, 0,\n",
              "       0, 1, 1, 0, 1, 0, 1, 0, 0, 0, 0, 0, 1, 1, 0, 0, 0, 0, 0, 1, 0, 0,\n",
              "       0, 1, 0, 0, 0, 0, 0, 0, 0, 0, 1, 0, 0, 0, 0, 0, 0, 0, 0, 0, 0, 0,\n",
              "       0, 1, 0, 1, 0, 0, 0, 0, 0, 1, 0, 1, 1, 0, 0, 0, 0, 1, 0, 1, 1, 0,\n",
              "       0, 0, 0, 0, 0, 0, 0, 0, 0, 1, 1, 0, 0, 0, 0, 0, 0, 0, 0, 1, 1, 0,\n",
              "       0, 0, 0, 0, 0, 0, 0, 0, 1, 0, 1, 0, 0, 0, 0, 1, 1, 1, 1, 1, 1, 0,\n",
              "       0, 0, 0, 0, 0, 0, 0, 1, 1, 0, 0, 0, 0, 1, 0, 0, 0, 0, 0, 1, 0, 0,\n",
              "       0, 0])"
            ]
          },
          "metadata": {},
          "execution_count": 228
        }
      ]
    },
    {
      "cell_type": "code",
      "source": [
        "from sklearn.metrics import accuracy_score\n",
        "from sklearn.metrics import precision_score\n",
        "from sklearn.metrics import recall_score\n",
        "\n",
        "score1 = accuracy_score(y_test,y_predict)\n",
        "score2 = precision_score(y_test,y_predict)\n",
        "score3 = recall_score(y_test,y_predict)\n",
        "\n",
        "print(f\"The accuracy score for the model is {score1*100}%\")\n",
        "print(f\"The precision score for the model is {score2*100}%\")\n",
        "print(f\"The recall score for the model is {score3*100}%\")"
      ],
      "metadata": {
        "colab": {
          "base_uri": "https://localhost:8080/"
        },
        "id": "c-uJNhAJb9on",
        "outputId": "34aae41b-dd65-477c-b768-f81150a96e7e"
      },
      "execution_count": null,
      "outputs": [
        {
          "output_type": "stream",
          "name": "stdout",
          "text": [
            "The accuracy score for the model is 67.5%\n",
            "The precision score for the model is 83.01886792452831%\n",
            "The recall score for the model is 44.0%\n"
          ]
        }
      ]
    },
    {
      "cell_type": "markdown",
      "source": [
        "<h3> Testing the model against random inputs."
      ],
      "metadata": {
        "id": "IUelUI1tcuNf"
      }
    },
    {
      "cell_type": "code",
      "source": [
        "def predict_sentiment(sample_review):\n",
        "  sample_review = re.sub(pattern='[^a-zA-Z]',repl=' ',string = sample_review)\n",
        "  sample_review = sample_review.lower()\n",
        "  sample_review_words = sample_review.split()\n",
        "  sample_review_words = [ word for word in sample_review_words if not word in set(stopwords.words('english'))]\n",
        "  final_review = [ps().stem(word) for word in sample_review_words]\n",
        "  final_review = ' '.join(final_review)\n",
        "\n",
        "  temp = cv.transform([final_review]).toarray()\n",
        "  return classifier.predict(temp)"
      ],
      "metadata": {
        "id": "_nXBVwy9cnLu"
      },
      "execution_count": null,
      "outputs": []
    },
    {
      "cell_type": "code",
      "source": [
        "sample_review = ['The food is really wonderful',\n",
        "                 'The food is bad and service is also not good',\n",
        "                 'Not tasty and the texture was just nasty',\n",
        "                 'Highly recommended',\n",
        "                 'The worst was the salmon sashimi']\n",
        "i=1\n",
        "for sample in sample_review:\n",
        "  if predict_sentiment(sample):\n",
        "    print(f'The review {i} is Positive')\n",
        "  else:\n",
        "    print(f'The review {i} is Negative')\n",
        "  i+=1"
      ],
      "metadata": {
        "colab": {
          "base_uri": "https://localhost:8080/"
        },
        "id": "zR2zyPS3coT7",
        "outputId": "7399fff9-b6e7-40a0-b8d6-4534fd0dff58"
      },
      "execution_count": null,
      "outputs": [
        {
          "output_type": "stream",
          "name": "stdout",
          "text": [
            "The review 1 is Negative\n",
            "The review 2 is Positive\n",
            "The review 3 is Negative\n",
            "The review 4 is Positive\n",
            "The review 5 is Negative\n"
          ]
        }
      ]
    },
    {
      "cell_type": "markdown",
      "source": [
        "# **Support Vector Classification (SVC)**\n",
        "\n",
        "---\n",
        "\n"
      ],
      "metadata": {
        "id": "VNvcL4UA9Nsp"
      }
    },
    {
      "cell_type": "code",
      "source": [
        "from sklearn.svm import SVC\n",
        "classifier = SVC(kernel='sigmoid')\n",
        "classifier.fit(X_train,y_train)"
      ],
      "metadata": {
        "colab": {
          "base_uri": "https://localhost:8080/",
          "height": 75
        },
        "id": "cyReS5bpet6V",
        "outputId": "32338988-7d59-407a-ccfb-2875fb80fb6c"
      },
      "execution_count": null,
      "outputs": [
        {
          "output_type": "execute_result",
          "data": {
            "text/plain": [
              "SVC(kernel='sigmoid')"
            ],
            "text/html": [
              "<style>#sk-container-id-50 {color: black;background-color: white;}#sk-container-id-50 pre{padding: 0;}#sk-container-id-50 div.sk-toggleable {background-color: white;}#sk-container-id-50 label.sk-toggleable__label {cursor: pointer;display: block;width: 100%;margin-bottom: 0;padding: 0.3em;box-sizing: border-box;text-align: center;}#sk-container-id-50 label.sk-toggleable__label-arrow:before {content: \"▸\";float: left;margin-right: 0.25em;color: #696969;}#sk-container-id-50 label.sk-toggleable__label-arrow:hover:before {color: black;}#sk-container-id-50 div.sk-estimator:hover label.sk-toggleable__label-arrow:before {color: black;}#sk-container-id-50 div.sk-toggleable__content {max-height: 0;max-width: 0;overflow: hidden;text-align: left;background-color: #f0f8ff;}#sk-container-id-50 div.sk-toggleable__content pre {margin: 0.2em;color: black;border-radius: 0.25em;background-color: #f0f8ff;}#sk-container-id-50 input.sk-toggleable__control:checked~div.sk-toggleable__content {max-height: 200px;max-width: 100%;overflow: auto;}#sk-container-id-50 input.sk-toggleable__control:checked~label.sk-toggleable__label-arrow:before {content: \"▾\";}#sk-container-id-50 div.sk-estimator input.sk-toggleable__control:checked~label.sk-toggleable__label {background-color: #d4ebff;}#sk-container-id-50 div.sk-label input.sk-toggleable__control:checked~label.sk-toggleable__label {background-color: #d4ebff;}#sk-container-id-50 input.sk-hidden--visually {border: 0;clip: rect(1px 1px 1px 1px);clip: rect(1px, 1px, 1px, 1px);height: 1px;margin: -1px;overflow: hidden;padding: 0;position: absolute;width: 1px;}#sk-container-id-50 div.sk-estimator {font-family: monospace;background-color: #f0f8ff;border: 1px dotted black;border-radius: 0.25em;box-sizing: border-box;margin-bottom: 0.5em;}#sk-container-id-50 div.sk-estimator:hover {background-color: #d4ebff;}#sk-container-id-50 div.sk-parallel-item::after {content: \"\";width: 100%;border-bottom: 1px solid gray;flex-grow: 1;}#sk-container-id-50 div.sk-label:hover label.sk-toggleable__label {background-color: #d4ebff;}#sk-container-id-50 div.sk-serial::before {content: \"\";position: absolute;border-left: 1px solid gray;box-sizing: border-box;top: 0;bottom: 0;left: 50%;z-index: 0;}#sk-container-id-50 div.sk-serial {display: flex;flex-direction: column;align-items: center;background-color: white;padding-right: 0.2em;padding-left: 0.2em;position: relative;}#sk-container-id-50 div.sk-item {position: relative;z-index: 1;}#sk-container-id-50 div.sk-parallel {display: flex;align-items: stretch;justify-content: center;background-color: white;position: relative;}#sk-container-id-50 div.sk-item::before, #sk-container-id-50 div.sk-parallel-item::before {content: \"\";position: absolute;border-left: 1px solid gray;box-sizing: border-box;top: 0;bottom: 0;left: 50%;z-index: -1;}#sk-container-id-50 div.sk-parallel-item {display: flex;flex-direction: column;z-index: 1;position: relative;background-color: white;}#sk-container-id-50 div.sk-parallel-item:first-child::after {align-self: flex-end;width: 50%;}#sk-container-id-50 div.sk-parallel-item:last-child::after {align-self: flex-start;width: 50%;}#sk-container-id-50 div.sk-parallel-item:only-child::after {width: 0;}#sk-container-id-50 div.sk-dashed-wrapped {border: 1px dashed gray;margin: 0 0.4em 0.5em 0.4em;box-sizing: border-box;padding-bottom: 0.4em;background-color: white;}#sk-container-id-50 div.sk-label label {font-family: monospace;font-weight: bold;display: inline-block;line-height: 1.2em;}#sk-container-id-50 div.sk-label-container {text-align: center;}#sk-container-id-50 div.sk-container {/* jupyter's `normalize.less` sets `[hidden] { display: none; }` but bootstrap.min.css set `[hidden] { display: none !important; }` so we also need the `!important` here to be able to override the default hidden behavior on the sphinx rendered scikit-learn.org. See: https://github.com/scikit-learn/scikit-learn/issues/21755 */display: inline-block !important;position: relative;}#sk-container-id-50 div.sk-text-repr-fallback {display: none;}</style><div id=\"sk-container-id-50\" class=\"sk-top-container\"><div class=\"sk-text-repr-fallback\"><pre>SVC(kernel=&#x27;sigmoid&#x27;)</pre><b>In a Jupyter environment, please rerun this cell to show the HTML representation or trust the notebook. <br />On GitHub, the HTML representation is unable to render, please try loading this page with nbviewer.org.</b></div><div class=\"sk-container\" hidden><div class=\"sk-item\"><div class=\"sk-estimator sk-toggleable\"><input class=\"sk-toggleable__control sk-hidden--visually\" id=\"sk-estimator-id-50\" type=\"checkbox\" checked><label for=\"sk-estimator-id-50\" class=\"sk-toggleable__label sk-toggleable__label-arrow\">SVC</label><div class=\"sk-toggleable__content\"><pre>SVC(kernel=&#x27;sigmoid&#x27;)</pre></div></div></div></div></div>"
            ]
          },
          "metadata": {},
          "execution_count": 232
        }
      ]
    },
    {
      "cell_type": "code",
      "source": [
        "y_predict = classifier.predict(X_test)\n",
        "y_predict"
      ],
      "metadata": {
        "colab": {
          "base_uri": "https://localhost:8080/"
        },
        "id": "zjwwRMt3fGZB",
        "outputId": "69c2b556-db6f-4bbc-d8d2-10614340480b"
      },
      "execution_count": null,
      "outputs": [
        {
          "output_type": "execute_result",
          "data": {
            "text/plain": [
              "array([1, 0, 0, 0, 1, 0, 0, 1, 0, 0, 1, 1, 1, 0, 1, 0, 1, 1, 0, 1, 0, 0,\n",
              "       1, 1, 1, 1, 0, 0, 1, 0, 1, 1, 0, 1, 0, 0, 1, 0, 1, 0, 1, 1, 1, 0,\n",
              "       0, 1, 0, 0, 1, 0, 1, 0, 0, 1, 0, 1, 0, 0, 0, 1, 0, 0, 0, 0, 1, 0,\n",
              "       0, 1, 0, 0, 1, 1, 1, 1, 1, 0, 0, 0, 0, 1, 0, 0, 0, 1, 0, 1, 0, 0,\n",
              "       0, 1, 1, 0, 0, 0, 1, 0, 1, 1, 1, 0, 0, 0, 0, 0, 1, 0, 1, 0, 0, 0,\n",
              "       1, 1, 1, 1, 0, 0, 1, 0, 0, 1, 1, 1, 1, 0, 0, 0, 0, 1, 1, 1, 1, 0,\n",
              "       0, 1, 1, 0, 1, 0, 0, 0, 0, 1, 1, 0, 1, 0, 0, 0, 0, 0, 0, 1, 0, 0,\n",
              "       1, 1, 0, 0, 0, 1, 1, 0, 1, 1, 1, 1, 1, 0, 0, 1, 1, 1, 1, 0, 1, 0,\n",
              "       0, 0, 0, 1, 1, 1, 1, 1, 1, 0, 0, 1, 0, 1, 0, 1, 0, 0, 0, 1, 0, 1,\n",
              "       0, 1])"
            ]
          },
          "metadata": {},
          "execution_count": 233
        }
      ]
    },
    {
      "cell_type": "code",
      "source": [
        "from sklearn.metrics import accuracy_score\n",
        "from sklearn.metrics import precision_score\n",
        "from sklearn.metrics import recall_score\n",
        "\n",
        "score1 = accuracy_score(y_test,y_predict)\n",
        "score2 = precision_score(y_test,y_predict)\n",
        "score3 = recall_score(y_test,y_predict)\n",
        "\n",
        "print(f\"The accuracy score for the model is {score1*100}%\")\n",
        "print(f\"The precision score for the model is {score2*100}%\")\n",
        "print(f\"The recall score for the model is {score3*100}%\")"
      ],
      "metadata": {
        "colab": {
          "base_uri": "https://localhost:8080/"
        },
        "id": "758k96AWfJ2h",
        "outputId": "b2666ba5-4a8b-4b7c-fc60-a89300561d91"
      },
      "execution_count": null,
      "outputs": [
        {
          "output_type": "stream",
          "name": "stdout",
          "text": [
            "The accuracy score for the model is 77.5%\n",
            "The precision score for the model is 79.56989247311827%\n",
            "The recall score for the model is 74.0%\n"
          ]
        }
      ]
    },
    {
      "cell_type": "markdown",
      "source": [
        "<h3>Hyperparameter Tuning</h3>"
      ],
      "metadata": {
        "id": "lRY3OMowejKP"
      }
    },
    {
      "cell_type": "code",
      "source": [
        "best_score = 0.0\n",
        "g = 0\n",
        "for i in range (0,100):\n",
        "  classifier = SVC(kernel='linear',gamma=i)\n",
        "  classifier.fit(X_train,y_train)\n",
        "  y_predict = classifier.predict(X_test)\n",
        "  score = accuracy_score(y_test,y_predict)\n",
        "  if score > best_score:\n",
        "    best_score = score\n",
        "    g = i\n",
        "\n",
        "print(\"Best accuracy Score is \"+str(best_score*100)+\" for neighbours \"+str(g))"
      ],
      "metadata": {
        "colab": {
          "base_uri": "https://localhost:8080/"
        },
        "id": "bLE3V8fhgkZs",
        "outputId": "fd324d79-bc70-4753-edbc-7230201678a0"
      },
      "execution_count": null,
      "outputs": [
        {
          "output_type": "stream",
          "name": "stdout",
          "text": [
            "Best accuracy Score is 76.5 for neighbours 0\n"
          ]
        }
      ]
    },
    {
      "cell_type": "markdown",
      "source": [
        "*Note : The best model is before we do hyperparameter tuning so we will use the same model before the tuning.*"
      ],
      "metadata": {
        "id": "P4ocW1hcfTJK"
      }
    },
    {
      "cell_type": "markdown",
      "source": [
        "<h3>Testing the model against random inputs.</h3>"
      ],
      "metadata": {
        "id": "dA-XR9cHfu_E"
      }
    },
    {
      "cell_type": "code",
      "source": [
        "def predict_sentiment(sample_review):\n",
        "  sample_review = re.sub(pattern='[^a-zA-Z]',repl=' ',string = sample_review)\n",
        "  sample_review = sample_review.lower()\n",
        "  sample_review_words = sample_review.split()\n",
        "  sample_review_words = [ word for word in sample_review_words if not word in set(stopwords.words('english'))]\n",
        "  final_review = [ps().stem(word) for word in sample_review_words]\n",
        "  final_review = ' '.join(final_review)\n",
        "\n",
        "  temp = cv.transform([final_review]).toarray()\n",
        "  return classifier.predict(temp)"
      ],
      "metadata": {
        "id": "YXe8-fAffLu4"
      },
      "execution_count": null,
      "outputs": []
    },
    {
      "cell_type": "code",
      "source": [
        "sample_review = ['The food is really wonderful',\n",
        "                 'The food is bad and service is also not good',\n",
        "                 'Not tasty and the texture was just nasty',\n",
        "                 'Highly recommended',\n",
        "                 'The worst was the salmon sashimi']\n",
        "i=1\n",
        "for sample in sample_review:\n",
        "  if predict_sentiment(sample):\n",
        "    print(f'The review {i} is Positive')\n",
        "  else:\n",
        "    print(f'The review {i} is Negative')\n",
        "  i+=1"
      ],
      "metadata": {
        "colab": {
          "base_uri": "https://localhost:8080/"
        },
        "id": "80a2NO0Ufq7_",
        "outputId": "f022e823-7142-495c-89e1-3a8455acc1d2"
      },
      "execution_count": null,
      "outputs": [
        {
          "output_type": "stream",
          "name": "stdout",
          "text": [
            "The review 1 is Positive\n",
            "The review 2 is Positive\n",
            "The review 3 is Negative\n",
            "The review 4 is Positive\n",
            "The review 5 is Negative\n"
          ]
        }
      ]
    },
    {
      "cell_type": "markdown",
      "source": [
        "# **Conclusion**\n",
        "*   Extra Trees Classifier Algorithm is the best algorithm amongst all the algorithm used for this dataset with the highest accuracy score of 81%\n",
        "* KNeighbours Classifier Algorithm is the worst algorithm amongst all\n",
        "the algorithm used for this dataset with the lowest accuracy score of 67.5%.\n"
      ],
      "metadata": {
        "id": "bSXAHZk0t5X_"
      }
    }
  ]
}